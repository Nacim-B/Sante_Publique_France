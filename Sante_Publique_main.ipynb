{
 "cells": [
  {
   "cell_type": "code",
   "execution_count": 2,
   "id": "abbf91c4",
   "metadata": {},
   "outputs": [],
   "source": [
    "import pandas as pd\n",
    "import numpy as np\n",
    "import seaborn as sns\n",
    "import matplotlib.pyplot as plt\n",
    "import plotly.express as px\n",
    "\n",
    "from sklearn.impute import KNNImputer\n",
    "from sklearn.preprocessing import LabelEncoder\n",
    "\n",
    "import warnings\n",
    "\n",
    "warnings.filterwarnings(\"ignore\")"
   ]
  },
  {
   "cell_type": "markdown",
   "id": "115f22bd",
   "metadata": {},
   "source": [
    "# Nettoyage des données"
   ]
  },
  {
   "cell_type": "code",
   "execution_count": 3,
   "id": "f42f600a",
   "metadata": {},
   "outputs": [],
   "source": [
    "#fonction qui importe un fichier csv et renvoie un dataframe\n",
    "\n",
    "def importer_csv(nom_fichier, chemin):\n",
    "    chemin_complet = chemin  + nom_fichier \n",
    "    dataframe = pd.read_csv(chemin_complet, sep='\\t')\n",
    "    return dataframe"
   ]
  },
  {
   "cell_type": "code",
   "execution_count": 4,
   "id": "257e693a",
   "metadata": {},
   "outputs": [],
   "source": [
    "#fonction qui supprime les colonnes vides et des lignes doublons\n",
    "\n",
    "def supprimer_col_vides_doublons(df):\n",
    "    df.dropna(axis=1, how='all', inplace=True)\n",
    "    df.drop_duplicates()\n",
    "    \n",
    "    return df"
   ]
  },
  {
   "cell_type": "code",
   "execution_count": 5,
   "id": "947d429a",
   "metadata": {},
   "outputs": [],
   "source": [
    "def suppression_col_correlees(df, seuil_correlation):\n",
    "    #création d'un dataframe quantitatif\n",
    "    df_quantitatif = pd.DataFrame()\n",
    "\n",
    "    for colonne in df.columns:\n",
    "        if pd.api.types.is_numeric_dtype(df[colonne]):\n",
    "            df_quantitatif[colonne] = df[colonne]\n",
    "            \n",
    "    # Calculer la matrice de corrélation\n",
    "    matrice_correlation = df_quantitatif.corr()\n",
    "\n",
    "    # Identifier les paires de colonnes corrélées\n",
    "    colonnes_correlees = set()\n",
    "    for i in range(len(matrice_correlation.columns)):\n",
    "        for j in range(i):\n",
    "            if abs(matrice_correlation.iloc[i, j]) >= seuil_correlation:\n",
    "                colonne_i = matrice_correlation.columns[i]\n",
    "                colonne_j = matrice_correlation.columns[j]\n",
    "                colonnes_correlees.add((colonne_i, colonne_j))\n",
    "\n",
    "     # Supprimer la première colonne de chaque paire corrélée\n",
    "    for colonne1, colonne2 in colonnes_correlees:\n",
    "        df.drop(columns=colonne1, inplace=True)\n",
    "    \n",
    "    return df"
   ]
  },
  {
   "cell_type": "code",
   "execution_count": 6,
   "id": "d8ef710f",
   "metadata": {},
   "outputs": [],
   "source": [
    "#fonction qui ne garde que les colonnes pertinentes\n",
    "\n",
    "def selection_colonnes(df):\n",
    "    #creation de la liste des variables, on y insérant des variables utiles vis à vis de l'analyse\n",
    "    variables = ['product_name', 'brands','pnns_groups_1', 'pnns_groups_2', 'main_category_fr', 'nutrition_grade_fr']\n",
    "    \n",
    "    #liste de toutes les colonnes en rapport avec les valeurs nutritionnelles\n",
    "    val_nutri = [col for col in df.columns if col.endswith('_100g')]\n",
    "    \n",
    "    #suppression de l'empreinte carbone qui n'affecte pas la valeur nutritionelle, ainsi que le nutriscore UK\n",
    "    try:\n",
    "        val_nutri.remove('carbon-footprint_100g')\n",
    "    except KeyError:\n",
    "        print('colonne inexistente')\n",
    "    try:\n",
    "        val_nutri.remove('nutrition-score-uk_100g')\n",
    "    except KeyError:\n",
    "        print('colonne inexistente')\n",
    "        \n",
    "    variables = variables + val_nutri\n",
    "    \n",
    "    #ne garder que ces variables dans le dataframe\n",
    "    df = df[variables]\n",
    "    #liste des colonnes avec +60% de valeurs nulles\n",
    "    colonnes_a_supprimer = df[val_nutri].columns[round(df[val_nutri].isna().mean()*100,1)> 60]\n",
    "    \n",
    "    #suppression de ces colonnes vides ou presque\n",
    "    df = df.drop(columns=colonnes_a_supprimer)\n",
    "    \n",
    "    #suppression d'une colonne si +0.85 de corrélation avec une autre\n",
    "    df = suppression_col_correlees(df, 0.85)\n",
    "    \n",
    "    return df\n",
    "\n"
   ]
  },
  {
   "cell_type": "code",
   "execution_count": 7,
   "id": "6c916963",
   "metadata": {},
   "outputs": [],
   "source": [
    "def remplacer_na_100g_mediane(df, liste_colonnes):\n",
    "    myDict =  {i: df[liste_colonnes][df['main_category_fr'] == i].median() for i in df['main_category_fr'].unique()}\n",
    "    \n",
    "    for i in df['main_category_fr'].unique():\n",
    "        df.loc[df['main_category_fr']== i, liste_colonnes] = df[df['main_category_fr']== i ][liste_colonnes].fillna(df[df['main_category_fr'] == i][liste_colonnes].median()) \n",
    "    \n",
    "    return df"
   ]
  },
  {
   "cell_type": "code",
   "execution_count": 8,
   "id": "fe67accf",
   "metadata": {},
   "outputs": [],
   "source": [
    "def remplacer_na_knn_imputer(df, col):\n",
    "    # Convertir la colonne catégorielle en valeurs numériques\n",
    "    le = LabelEncoder()\n",
    "    df[col] = le.fit_transform(df[col])\n",
    "    \n",
    "    # Sélectionner les colonnes numériques pour l'imputation\n",
    "    colonnes_numeriques = df.select_dtypes(include=['int', 'float']).columns\n",
    "    df_numerique = df[colonnes_numeriques]\n",
    "    \n",
    "    # Appliquer le KNNImputer\n",
    "    imputer = KNNImputer(n_neighbors=2)\n",
    "    df_numerique_imputed = pd.DataFrame(imputer.fit_transform(df_numerique), columns=colonnes_numeriques)\n",
    "    \n",
    "    # Inverser la transformation sur la colonne catégorielle\n",
    "    df_numerique_imputed[col] = le.inverse_transform(df_numerique_imputed[col].astype(int))\n",
    "    \n",
    "    # Réintégrer les colonnes imputées dans le DataFrame d'origine\n",
    "    df_imputed = df.copy()\n",
    "    df_imputed[colonnes_numeriques] = df_numerique_imputed\n",
    "    \n",
    "    return df_imputed"
   ]
  },
  {
   "cell_type": "code",
   "execution_count": 9,
   "id": "a9780678",
   "metadata": {},
   "outputs": [],
   "source": [
    "def gerer_valeurs_manquantes(df):\n",
    "    \n",
    "    #suppression des lignes où le nom du produit n'est pas renseigné\n",
    "    df = df.dropna(subset=['product_name'])\n",
    "    \n",
    "    col_100g = [col for col in df.columns if col.endswith('_100g')]\n",
    "    \n",
    "    #remplacer des Nan par la médiane de la colonne\n",
    "    df = remplacer_na_100g_mediane(df, col_100g)\n",
    "    \n",
    "    #remplacer nutriscore A - E avec KNN imputer\n",
    "    #df = remplacer_na_knn_imputer(df, 'nutrition_grade_fr')\n",
    "    \n",
    "    return df"
   ]
  },
  {
   "cell_type": "code",
   "execution_count": 10,
   "id": "c7a024c0",
   "metadata": {},
   "outputs": [],
   "source": [
    "def valeurs_aberrantes(df):\n",
    "    df = df[(df['nutrition-score-fr_100g'] >= -15) & (df['nutrition-score-fr_100g'] <= 40)]\n",
    "    \n",
    "    df = df[(df['energy_100g'] < 4000)]\n",
    "    \n",
    "    # Sélectionner les colonnes finissant par \"100g\" sauf \"energy_100g\"\n",
    "    colonnes_a_selectionner = [col for col in df.columns if col.endswith('100g') and col != 'energy_100g' \n",
    "                               and col != 'nutrition-score-fr_100g']\n",
    "    \n",
    "    df_val_nutri = df[colonnes_a_selectionner]\n",
    "    \n",
    "    mask = ((df_val_nutri > 100) | (df_val_nutri < 0)).any(axis=1)\n",
    "    \n",
    "    df.drop(index=df[mask].index, inplace=True)\n",
    "    return df"
   ]
  },
  {
   "cell_type": "code",
   "execution_count": 11,
   "id": "da4942df",
   "metadata": {},
   "outputs": [],
   "source": [
    "#défnition variables\n",
    "\n",
    "chemin = ''\n",
    "fichier = 'fr.openfoodfacts.org.products.csv'\n",
    "nom_csv_export = 'sante_publique.csv'"
   ]
  },
  {
   "cell_type": "code",
   "execution_count": 12,
   "id": "2f789d3a",
   "metadata": {},
   "outputs": [],
   "source": [
    "def main():\n",
    "    import_librairies()\n",
    "    df = importer_csv(fichier, chemin)\n",
    "    df = supprimer_col_vides_doublons(df)\n",
    "    df = selection_colonnes(df)\n",
    "    df = gerer_valeurs_manquantes(df)\n",
    "    df = valeurs_aberrantes(df)\n",
    "    print(df.shape)\n",
    "    \n",
    "    # Exporter le DataFrame dans un fichier CSV\n",
    "    df.to_csv(chemin + nom_csv_export, index=False)"
   ]
  },
  {
   "cell_type": "code",
   "execution_count": 48,
   "id": "2f606b57",
   "metadata": {},
   "outputs": [],
   "source": [
    "data = pd.read_csv('sante_publique.csv', sep=\",\")"
   ]
  },
  {
   "cell_type": "code",
   "execution_count": 49,
   "id": "70fd1554",
   "metadata": {
    "scrolled": true
   },
   "outputs": [
    {
     "data": {
      "text/plain": [
       "218212"
      ]
     },
     "execution_count": 49,
     "metadata": {},
     "output_type": "execute_result"
    }
   ],
   "source": [
    "data['nutrition_grade_fr'].count()"
   ]
  },
  {
   "cell_type": "code",
   "execution_count": 50,
   "id": "88d6ded7",
   "metadata": {},
   "outputs": [
    {
     "data": {
      "text/plain": [
       "nutrition_grade_fr\n",
       "d    0.283967\n",
       "c    0.205846\n",
       "e    0.193770\n",
       "a    0.161714\n",
       "b    0.154703\n",
       "Name: proportion, dtype: float64"
      ]
     },
     "execution_count": 50,
     "metadata": {},
     "output_type": "execute_result"
    }
   ],
   "source": [
    "data['nutrition_grade_fr'].value_counts(normalize=True)"
   ]
  },
  {
   "cell_type": "code",
   "execution_count": 53,
   "id": "fa10dabe",
   "metadata": {},
   "outputs": [],
   "source": [
    "# Colonne que vous voulez imputer\n",
    "col_to_impute = 'nutrition_grade_fr'\n",
    "\n",
    "# Extraction des colonnes numériques\n",
    "numeric_cols = data.select_dtypes(include='number').columns\n",
    "\n",
    "# Label Encoding pour la colonne catégorielle\n",
    "label_encoder = LabelEncoder()\n",
    "data[col_to_impute] = label_encoder.fit_transform(data[col_to_impute])\n",
    "\n",
    "# Création d'un DataFrame temporaire contenant uniquement la colonne à imputer\n",
    "temp_df = data[[col_to_impute]].copy()\n",
    "\n",
    "# KNNImputer\n",
    "imputer = KNNImputer(n_neighbors=2)\n",
    "temp_df[[col_to_impute]] = imputer.fit_transform(temp_df[[col_to_impute]])\n",
    "\n",
    "# Inverser le Label Encoding\n",
    "temp_df[col_to_impute] = label_encoder.inverse_transform(temp_df[col_to_impute].astype(int))\n",
    "\n",
    "data.update(temp_df)\n"
   ]
  },
  {
   "cell_type": "code",
   "execution_count": 54,
   "id": "8dfa193a",
   "metadata": {},
   "outputs": [
    {
     "data": {
      "text/plain": [
       "242437"
      ]
     },
     "execution_count": 54,
     "metadata": {},
     "output_type": "execute_result"
    }
   ],
   "source": [
    "data['nutrition_grade_fr'].count()"
   ]
  },
  {
   "cell_type": "code",
   "execution_count": null,
   "id": "e8f10831",
   "metadata": {},
   "outputs": [],
   "source": [
    "data[data['nutrition_grade_fr'] == 'a'].count()"
   ]
  },
  {
   "cell_type": "code",
   "execution_count": 27,
   "id": "487594bd",
   "metadata": {},
   "outputs": [
    {
     "data": {
      "text/plain": [
       "<Axes: >"
      ]
     },
     "execution_count": 27,
     "metadata": {},
     "output_type": "execute_result"
    },
    {
     "data": {
      "image/png": "[encoded data removed]",
      "text/plain": [
       "<Figure size 640x480 with 2 Axes>"
      ]
     },
     "metadata": {},
     "output_type": "display_data"
    }
   ],
   "source": []
  },
  {
   "cell_type": "markdown",
   "id": "90a6925f",
   "metadata": {},
   "source": [
    "# Analyse"
   ]
  },
  {
   "cell_type": "code",
   "execution_count": null,
   "id": "5b9743e0",
   "metadata": {},
   "outputs": [],
   "source": []
  },
  {
   "cell_type": "code",
   "execution_count": null,
   "id": "51832d35",
   "metadata": {},
   "outputs": [],
   "source": []
  },
  {
   "cell_type": "code",
   "execution_count": null,
   "id": "c017d672",
   "metadata": {},
   "outputs": [],
   "source": []
  },
  {
   "cell_type": "code",
   "execution_count": null,
   "id": "da5f0195",
   "metadata": {},
   "outputs": [],
   "source": []
  },
  {
   "cell_type": "code",
   "execution_count": null,
   "id": "c91e540d",
   "metadata": {},
   "outputs": [],
   "source": []
  }
 ],
 "metadata": {
  "kernelspec": {
   "display_name": "Python 3 (ipykernel)",
   "language": "python",
   "name": "python3"
  },
  "language_info": {
   "codemirror_mode": {
    "name": "ipython",
    "version": 3
   },
   "file_extension": ".py",
   "mimetype": "text/x-python",
   "name": "python",
   "nbconvert_exporter": "python",
   "pygments_lexer": "ipython3",
   "version": "3.11.5"
  },
  "toc": {
   "base_numbering": 1,
   "nav_menu": {},
   "number_sections": true,
   "sideBar": true,
   "skip_h1_title": false,
   "title_cell": "Table des matières",
   "title_sidebar": "Table des matières",
   "toc_cell": false,
   "toc_position": {
    "height": "calc(100% - 180px)",
    "left": "10px",
    "top": "150px",
    "width": "165px"
   },
   "toc_section_display": true,
   "toc_window_display": true
  }
 },
 "nbformat": 4,
 "nbformat_minor": 5
}
