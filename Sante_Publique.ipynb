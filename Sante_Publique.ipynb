{
 "cells": [
  {
   "cell_type": "code",
   "execution_count": 1,
   "id": "69c058cb",
   "metadata": {},
   "outputs": [],
   "source": [
    "import pandas as pd\n",
    "import numpy as np\n",
    "import seaborn as sns\n",
    "import matplotlib.pyplot as plt\n",
    "import plotly.express as px"
   ]
  },
  {
   "cell_type": "code",
   "execution_count": 2,
   "id": "7e210a98",
   "metadata": {},
   "outputs": [
    {
     "name": "stderr",
     "output_type": "stream",
     "text": [
      "C:\\Users\\nberraba\\AppData\\Local\\Temp\\ipykernel_11184\\2156673982.py:1: DtypeWarning: Columns (0,3,5,19,20,24,25,26,27,28,35,36,37,38,39,48) have mixed types. Specify dtype option on import or set low_memory=False.\n",
      "  df = pd.read_csv('fr.openfoodfacts.org.products.csv', sep='\\t')\n"
     ]
    }
   ],
   "source": [
    "df = pd.read_csv('fr.openfoodfacts.org.products.csv', sep='\\t')"
   ]
  },
  {
   "cell_type": "markdown",
   "id": "115f22bd",
   "metadata": {},
   "source": [
    "# Nettoyage des données"
   ]
  },
  {
   "cell_type": "markdown",
   "id": "ce248ded",
   "metadata": {},
   "source": [
    "## Repérer variables pertinentes"
   ]
  },
  {
   "cell_type": "code",
   "execution_count": 3,
   "id": "280fa38a",
   "metadata": {},
   "outputs": [
    {
     "data": {
      "text/html": [
       "<div>\n",
       "<style scoped>\n",
       "    .dataframe tbody tr th:only-of-type {\n",
       "        vertical-align: middle;\n",
       "    }\n",
       "\n",
       "    .dataframe tbody tr th {\n",
       "        vertical-align: top;\n",
       "    }\n",
       "\n",
       "    .dataframe thead th {\n",
       "        text-align: right;\n",
       "    }\n",
       "</style>\n",
       "<table border=\"1\" class=\"dataframe\">\n",
       "  <thead>\n",
       "    <tr style=\"text-align: right;\">\n",
       "      <th></th>\n",
       "      <th>code</th>\n",
       "      <th>url</th>\n",
       "      <th>creator</th>\n",
       "      <th>created_t</th>\n",
       "      <th>created_datetime</th>\n",
       "      <th>last_modified_t</th>\n",
       "      <th>last_modified_datetime</th>\n",
       "      <th>product_name</th>\n",
       "      <th>generic_name</th>\n",
       "      <th>quantity</th>\n",
       "      <th>...</th>\n",
       "      <th>ph_100g</th>\n",
       "      <th>fruits-vegetables-nuts_100g</th>\n",
       "      <th>collagen-meat-protein-ratio_100g</th>\n",
       "      <th>cocoa_100g</th>\n",
       "      <th>chlorophyl_100g</th>\n",
       "      <th>carbon-footprint_100g</th>\n",
       "      <th>nutrition-score-fr_100g</th>\n",
       "      <th>nutrition-score-uk_100g</th>\n",
       "      <th>glycemic-index_100g</th>\n",
       "      <th>water-hardness_100g</th>\n",
       "    </tr>\n",
       "  </thead>\n",
       "  <tbody>\n",
       "    <tr>\n",
       "      <th>0</th>\n",
       "      <td>3087</td>\n",
       "      <td>http://world-fr.openfoodfacts.org/produit/0000...</td>\n",
       "      <td>openfoodfacts-contributors</td>\n",
       "      <td>1474103866</td>\n",
       "      <td>2016-09-17T09:17:46Z</td>\n",
       "      <td>1474103893</td>\n",
       "      <td>2016-09-17T09:18:13Z</td>\n",
       "      <td>Farine de blé noir</td>\n",
       "      <td>NaN</td>\n",
       "      <td>1kg</td>\n",
       "      <td>...</td>\n",
       "      <td>NaN</td>\n",
       "      <td>NaN</td>\n",
       "      <td>NaN</td>\n",
       "      <td>NaN</td>\n",
       "      <td>NaN</td>\n",
       "      <td>NaN</td>\n",
       "      <td>NaN</td>\n",
       "      <td>NaN</td>\n",
       "      <td>NaN</td>\n",
       "      <td>NaN</td>\n",
       "    </tr>\n",
       "    <tr>\n",
       "      <th>1</th>\n",
       "      <td>4530</td>\n",
       "      <td>http://world-fr.openfoodfacts.org/produit/0000...</td>\n",
       "      <td>usda-ndb-import</td>\n",
       "      <td>1489069957</td>\n",
       "      <td>2017-03-09T14:32:37Z</td>\n",
       "      <td>1489069957</td>\n",
       "      <td>2017-03-09T14:32:37Z</td>\n",
       "      <td>Banana Chips Sweetened (Whole)</td>\n",
       "      <td>NaN</td>\n",
       "      <td>NaN</td>\n",
       "      <td>...</td>\n",
       "      <td>NaN</td>\n",
       "      <td>NaN</td>\n",
       "      <td>NaN</td>\n",
       "      <td>NaN</td>\n",
       "      <td>NaN</td>\n",
       "      <td>NaN</td>\n",
       "      <td>14.0</td>\n",
       "      <td>14.0</td>\n",
       "      <td>NaN</td>\n",
       "      <td>NaN</td>\n",
       "    </tr>\n",
       "    <tr>\n",
       "      <th>2</th>\n",
       "      <td>4559</td>\n",
       "      <td>http://world-fr.openfoodfacts.org/produit/0000...</td>\n",
       "      <td>usda-ndb-import</td>\n",
       "      <td>1489069957</td>\n",
       "      <td>2017-03-09T14:32:37Z</td>\n",
       "      <td>1489069957</td>\n",
       "      <td>2017-03-09T14:32:37Z</td>\n",
       "      <td>Peanuts</td>\n",
       "      <td>NaN</td>\n",
       "      <td>NaN</td>\n",
       "      <td>...</td>\n",
       "      <td>NaN</td>\n",
       "      <td>NaN</td>\n",
       "      <td>NaN</td>\n",
       "      <td>NaN</td>\n",
       "      <td>NaN</td>\n",
       "      <td>NaN</td>\n",
       "      <td>0.0</td>\n",
       "      <td>0.0</td>\n",
       "      <td>NaN</td>\n",
       "      <td>NaN</td>\n",
       "    </tr>\n",
       "    <tr>\n",
       "      <th>3</th>\n",
       "      <td>16087</td>\n",
       "      <td>http://world-fr.openfoodfacts.org/produit/0000...</td>\n",
       "      <td>usda-ndb-import</td>\n",
       "      <td>1489055731</td>\n",
       "      <td>2017-03-09T10:35:31Z</td>\n",
       "      <td>1489055731</td>\n",
       "      <td>2017-03-09T10:35:31Z</td>\n",
       "      <td>Organic Salted Nut Mix</td>\n",
       "      <td>NaN</td>\n",
       "      <td>NaN</td>\n",
       "      <td>...</td>\n",
       "      <td>NaN</td>\n",
       "      <td>NaN</td>\n",
       "      <td>NaN</td>\n",
       "      <td>NaN</td>\n",
       "      <td>NaN</td>\n",
       "      <td>NaN</td>\n",
       "      <td>12.0</td>\n",
       "      <td>12.0</td>\n",
       "      <td>NaN</td>\n",
       "      <td>NaN</td>\n",
       "    </tr>\n",
       "    <tr>\n",
       "      <th>4</th>\n",
       "      <td>16094</td>\n",
       "      <td>http://world-fr.openfoodfacts.org/produit/0000...</td>\n",
       "      <td>usda-ndb-import</td>\n",
       "      <td>1489055653</td>\n",
       "      <td>2017-03-09T10:34:13Z</td>\n",
       "      <td>1489055653</td>\n",
       "      <td>2017-03-09T10:34:13Z</td>\n",
       "      <td>Organic Polenta</td>\n",
       "      <td>NaN</td>\n",
       "      <td>NaN</td>\n",
       "      <td>...</td>\n",
       "      <td>NaN</td>\n",
       "      <td>NaN</td>\n",
       "      <td>NaN</td>\n",
       "      <td>NaN</td>\n",
       "      <td>NaN</td>\n",
       "      <td>NaN</td>\n",
       "      <td>NaN</td>\n",
       "      <td>NaN</td>\n",
       "      <td>NaN</td>\n",
       "      <td>NaN</td>\n",
       "    </tr>\n",
       "  </tbody>\n",
       "</table>\n",
       "<p>5 rows × 162 columns</p>\n",
       "</div>"
      ],
      "text/plain": [
       "    code                                                url  \\\n",
       "0   3087  http://world-fr.openfoodfacts.org/produit/0000...   \n",
       "1   4530  http://world-fr.openfoodfacts.org/produit/0000...   \n",
       "2   4559  http://world-fr.openfoodfacts.org/produit/0000...   \n",
       "3  16087  http://world-fr.openfoodfacts.org/produit/0000...   \n",
       "4  16094  http://world-fr.openfoodfacts.org/produit/0000...   \n",
       "\n",
       "                      creator   created_t      created_datetime  \\\n",
       "0  openfoodfacts-contributors  1474103866  2016-09-17T09:17:46Z   \n",
       "1             usda-ndb-import  1489069957  2017-03-09T14:32:37Z   \n",
       "2             usda-ndb-import  1489069957  2017-03-09T14:32:37Z   \n",
       "3             usda-ndb-import  1489055731  2017-03-09T10:35:31Z   \n",
       "4             usda-ndb-import  1489055653  2017-03-09T10:34:13Z   \n",
       "\n",
       "  last_modified_t last_modified_datetime                    product_name  \\\n",
       "0      1474103893   2016-09-17T09:18:13Z              Farine de blé noir   \n",
       "1      1489069957   2017-03-09T14:32:37Z  Banana Chips Sweetened (Whole)   \n",
       "2      1489069957   2017-03-09T14:32:37Z                         Peanuts   \n",
       "3      1489055731   2017-03-09T10:35:31Z          Organic Salted Nut Mix   \n",
       "4      1489055653   2017-03-09T10:34:13Z                 Organic Polenta   \n",
       "\n",
       "  generic_name quantity  ... ph_100g fruits-vegetables-nuts_100g  \\\n",
       "0          NaN      1kg  ...     NaN                         NaN   \n",
       "1          NaN      NaN  ...     NaN                         NaN   \n",
       "2          NaN      NaN  ...     NaN                         NaN   \n",
       "3          NaN      NaN  ...     NaN                         NaN   \n",
       "4          NaN      NaN  ...     NaN                         NaN   \n",
       "\n",
       "  collagen-meat-protein-ratio_100g cocoa_100g chlorophyl_100g  \\\n",
       "0                              NaN        NaN             NaN   \n",
       "1                              NaN        NaN             NaN   \n",
       "2                              NaN        NaN             NaN   \n",
       "3                              NaN        NaN             NaN   \n",
       "4                              NaN        NaN             NaN   \n",
       "\n",
       "  carbon-footprint_100g nutrition-score-fr_100g nutrition-score-uk_100g  \\\n",
       "0                   NaN                     NaN                     NaN   \n",
       "1                   NaN                    14.0                    14.0   \n",
       "2                   NaN                     0.0                     0.0   \n",
       "3                   NaN                    12.0                    12.0   \n",
       "4                   NaN                     NaN                     NaN   \n",
       "\n",
       "  glycemic-index_100g water-hardness_100g  \n",
       "0                 NaN                 NaN  \n",
       "1                 NaN                 NaN  \n",
       "2                 NaN                 NaN  \n",
       "3                 NaN                 NaN  \n",
       "4                 NaN                 NaN  \n",
       "\n",
       "[5 rows x 162 columns]"
      ]
     },
     "execution_count": 3,
     "metadata": {},
     "output_type": "execute_result"
    }
   ],
   "source": [
    "df.head()"
   ]
  },
  {
   "cell_type": "code",
   "execution_count": 4,
   "id": "f78247ee",
   "metadata": {},
   "outputs": [
    {
     "data": {
      "text/plain": [
       "(320772, 162)"
      ]
     },
     "execution_count": 4,
     "metadata": {},
     "output_type": "execute_result"
    }
   ],
   "source": [
    "#dimensions du jeu de données\n",
    "\n",
    "df.shape"
   ]
  },
  {
   "cell_type": "code",
   "execution_count": 5,
   "id": "3348b15e",
   "metadata": {},
   "outputs": [],
   "source": [
    "#suppression colonnes vides et des lignes doublons\n",
    "\n",
    "df.dropna(axis=1, how='all', inplace=True)\n",
    "df.drop_duplicates()"
   ]
  },
  {
   "cell_type": "code",
   "execution_count": 6,
   "id": "a1e9d986",
   "metadata": {},
   "outputs": [
    {
     "data": {
      "text/plain": [
       "(320772, 146)"
      ]
     },
     "execution_count": 6,
     "metadata": {},
     "output_type": "execute_result"
    }
   ],
   "source": [
    "df.shape"
   ]
  },
  {
   "cell_type": "markdown",
   "id": "d1828f80",
   "metadata": {},
   "source": [
    "### Caractéristiques principales"
   ]
  },
  {
   "cell_type": "markdown",
   "id": "aad9c4e2",
   "metadata": {},
   "source": [
    "L'objectif étant de connaître la qualité nutritionnelle des produits, nous ne garderont que:\n",
    " - le nom du produit\n",
    " - le nutriscore (nombre) français\n",
    " - le nutriscore (lettre) français\n",
    " - les valeurs nutritionnelles des produits"
   ]
  },
  {
   "cell_type": "code",
   "execution_count": 7,
   "id": "ec04bec1",
   "metadata": {},
   "outputs": [],
   "source": [
    "caracteristiques_princip = ['product_name', 'nutrition_grade_fr' ]"
   ]
  },
  {
   "cell_type": "code",
   "execution_count": 8,
   "id": "367721d4",
   "metadata": {},
   "outputs": [],
   "source": [
    "#liste de toutes les colonnes en rapport avec les valeurs nutritionnelles\n",
    "\n",
    "val_nutri = [col for col in df.columns if col.endswith('_100g')]"
   ]
  },
  {
   "cell_type": "code",
   "execution_count": 9,
   "id": "32407877",
   "metadata": {},
   "outputs": [],
   "source": [
    "caracteristiques_princip = caracteristiques_princip + val_nutri"
   ]
  },
  {
   "cell_type": "code",
   "execution_count": 10,
   "id": "9d114620",
   "metadata": {},
   "outputs": [
    {
     "name": "stdout",
     "output_type": "stream",
     "text": [
      "Il y a en moyenne 86.9 % de valeurs manquantes par colonne.\n"
     ]
    }
   ],
   "source": [
    "# calcule du pourcentage de valeurs manquantes pour les valeurs nutritonnelles\n",
    "\n",
    "pourcentage_valeurs_manquantes = (df[val_nutri].isnull().sum() / len(df)) * 100\n",
    "\n",
    "print(f'Il y a en moyenne {round(pourcentage_valeurs_manquantes.mean(), 1)} % de valeurs manquantes par colonne.')"
   ]
  },
  {
   "cell_type": "markdown",
   "id": "c8a6997e",
   "metadata": {},
   "source": [
    "On voit qu'il manque en moyenne un grand nombre de données pour les colonnes sélectionnées.\n",
    "Ajoutons donc d'autre colonnes qui pourraient nous aider à combler ses valeurs manquantes.\n",
    "\n",
    "Dans un premier temps, faisons une large sélection avant de sélectionner plus précisémment."
   ]
  },
  {
   "cell_type": "markdown",
   "id": "be513007",
   "metadata": {},
   "source": [
    "### Caractéristiques secondaires"
   ]
  },
  {
   "cell_type": "code",
   "execution_count": 11,
   "id": "93bf1b5e",
   "metadata": {},
   "outputs": [],
   "source": [
    "categorie = ['categories', 'categories_fr', 'categories_tags', 'main_category', 'main_category_fr']\n",
    "label = ['labels', 'labels_tags', 'labels_fr'] \n",
    "ingredient = ['ingredients_text','traces', 'traces_tags'] \n",
    "additif = ['additives_tags', 'additives','additives_fr', 'additives_n']\n",
    "huile_palme =['ingredients_from_palm_oil_n','ingredients_from_palm_oil_tags']\n",
    "nutriscore = ['nutrition_grade_fr']"
   ]
  },
  {
   "cell_type": "code",
   "execution_count": 12,
   "id": "fd7d97aa",
   "metadata": {},
   "outputs": [
    {
     "data": {
      "text/html": [
       "<div>\n",
       "<style scoped>\n",
       "    .dataframe tbody tr th:only-of-type {\n",
       "        vertical-align: middle;\n",
       "    }\n",
       "\n",
       "    .dataframe tbody tr th {\n",
       "        vertical-align: top;\n",
       "    }\n",
       "\n",
       "    .dataframe thead th {\n",
       "        text-align: right;\n",
       "    }\n",
       "</style>\n",
       "<table border=\"1\" class=\"dataframe\">\n",
       "  <thead>\n",
       "    <tr style=\"text-align: right;\">\n",
       "      <th></th>\n",
       "      <th>categories</th>\n",
       "      <th>categories_fr</th>\n",
       "      <th>categories_tags</th>\n",
       "      <th>main_category</th>\n",
       "      <th>main_category_fr</th>\n",
       "    </tr>\n",
       "  </thead>\n",
       "  <tbody>\n",
       "    <tr>\n",
       "      <th>count</th>\n",
       "      <td>84410</td>\n",
       "      <td>84411</td>\n",
       "      <td>84389</td>\n",
       "      <td>84366</td>\n",
       "      <td>84366</td>\n",
       "    </tr>\n",
       "    <tr>\n",
       "      <th>unique</th>\n",
       "      <td>36982</td>\n",
       "      <td>21152</td>\n",
       "      <td>21142</td>\n",
       "      <td>3543</td>\n",
       "      <td>3543</td>\n",
       "    </tr>\n",
       "    <tr>\n",
       "      <th>top</th>\n",
       "      <td>Snacks sucrés,Biscuits et gâteaux,Biscuits</td>\n",
       "      <td>Snacks sucrés,Biscuits et gâteaux,Biscuits</td>\n",
       "      <td>en:sugary-snacks,en:biscuits-and-cakes,en:bisc...</td>\n",
       "      <td>en:beverages</td>\n",
       "      <td>Boissons</td>\n",
       "    </tr>\n",
       "    <tr>\n",
       "      <th>freq</th>\n",
       "      <td>301</td>\n",
       "      <td>802</td>\n",
       "      <td>802</td>\n",
       "      <td>6054</td>\n",
       "      <td>6054</td>\n",
       "    </tr>\n",
       "  </tbody>\n",
       "</table>\n",
       "</div>"
      ],
      "text/plain": [
       "                                        categories  \\\n",
       "count                                        84410   \n",
       "unique                                       36982   \n",
       "top     Snacks sucrés,Biscuits et gâteaux,Biscuits   \n",
       "freq                                           301   \n",
       "\n",
       "                                     categories_fr  \\\n",
       "count                                        84411   \n",
       "unique                                       21152   \n",
       "top     Snacks sucrés,Biscuits et gâteaux,Biscuits   \n",
       "freq                                           802   \n",
       "\n",
       "                                          categories_tags main_category  \\\n",
       "count                                               84389         84366   \n",
       "unique                                              21142          3543   \n",
       "top     en:sugary-snacks,en:biscuits-and-cakes,en:bisc...  en:beverages   \n",
       "freq                                                  802          6054   \n",
       "\n",
       "       main_category_fr  \n",
       "count             84366  \n",
       "unique             3543  \n",
       "top            Boissons  \n",
       "freq               6054  "
      ]
     },
     "execution_count": 12,
     "metadata": {},
     "output_type": "execute_result"
    }
   ],
   "source": [
    "# analyse de la liste categorie\n",
    "df[categorie].describe(include='object')"
   ]
  },
  {
   "cell_type": "code",
   "execution_count": 13,
   "id": "6852e232",
   "metadata": {
    "scrolled": true
   },
   "outputs": [
    {
     "data": {
      "text/html": [
       "<div>\n",
       "<style scoped>\n",
       "    .dataframe tbody tr th:only-of-type {\n",
       "        vertical-align: middle;\n",
       "    }\n",
       "\n",
       "    .dataframe tbody tr th {\n",
       "        vertical-align: top;\n",
       "    }\n",
       "\n",
       "    .dataframe thead th {\n",
       "        text-align: right;\n",
       "    }\n",
       "</style>\n",
       "<table border=\"1\" class=\"dataframe\">\n",
       "  <thead>\n",
       "    <tr style=\"text-align: right;\">\n",
       "      <th></th>\n",
       "      <th>categories</th>\n",
       "      <th>categories_fr</th>\n",
       "      <th>categories_tags</th>\n",
       "      <th>main_category</th>\n",
       "      <th>main_category_fr</th>\n",
       "    </tr>\n",
       "  </thead>\n",
       "  <tbody>\n",
       "    <tr>\n",
       "      <th>46</th>\n",
       "      <td>Filet de bœuf</td>\n",
       "      <td>Filet-de-boeuf</td>\n",
       "      <td>fr:filet-de-boeuf</td>\n",
       "      <td>fr:filet-de-boeuf</td>\n",
       "      <td>Filet-de-boeuf</td>\n",
       "    </tr>\n",
       "    <tr>\n",
       "      <th>174</th>\n",
       "      <td>Légumes-feuilles</td>\n",
       "      <td>Aliments et boissons à base de végétaux,Alimen...</td>\n",
       "      <td>en:plant-based-foods-and-beverages,en:plant-ba...</td>\n",
       "      <td>en:fresh-vegetables</td>\n",
       "      <td>Légumes frais</td>\n",
       "    </tr>\n",
       "    <tr>\n",
       "      <th>175</th>\n",
       "      <td>Snacks sucrés,Biscuits et gâteaux,Pâtisseries</td>\n",
       "      <td>Snacks sucrés,Biscuits et gâteaux,Pâtisseries</td>\n",
       "      <td>en:sugary-snacks,en:biscuits-and-cakes,en:past...</td>\n",
       "      <td>en:pastries</td>\n",
       "      <td>Pâtisseries</td>\n",
       "    </tr>\n",
       "    <tr>\n",
       "      <th>177</th>\n",
       "      <td>Plant-based foods and beverages,Plant-based fo...</td>\n",
       "      <td>Aliments et boissons à base de végétaux,Alimen...</td>\n",
       "      <td>en:plant-based-foods-and-beverages,en:plant-ba...</td>\n",
       "      <td>en:breads</td>\n",
       "      <td>Pains</td>\n",
       "    </tr>\n",
       "    <tr>\n",
       "      <th>180</th>\n",
       "      <td>Snacks sucrés,Biscuits et gâteaux,Pâtisseries</td>\n",
       "      <td>Snacks sucrés,Biscuits et gâteaux,Pâtisseries</td>\n",
       "      <td>en:sugary-snacks,en:biscuits-and-cakes,en:past...</td>\n",
       "      <td>en:pastries</td>\n",
       "      <td>Pâtisseries</td>\n",
       "    </tr>\n",
       "    <tr>\n",
       "      <th>181</th>\n",
       "      <td>Boulange</td>\n",
       "      <td>Boulange</td>\n",
       "      <td>fr:boulange</td>\n",
       "      <td>fr:boulange</td>\n",
       "      <td>Boulange</td>\n",
       "    </tr>\n",
       "    <tr>\n",
       "      <th>182</th>\n",
       "      <td>Aliments et boissons à base de végétaux,Alimen...</td>\n",
       "      <td>Aliments et boissons à base de végétaux,Alimen...</td>\n",
       "      <td>en:plant-based-foods-and-beverages,en:plant-ba...</td>\n",
       "      <td>en:plant-based-foods-and-beverages</td>\n",
       "      <td>Aliments et boissons à base de végétaux</td>\n",
       "    </tr>\n",
       "    <tr>\n",
       "      <th>183</th>\n",
       "      <td>Root bier</td>\n",
       "      <td>Root-bier</td>\n",
       "      <td>fr:root-bier</td>\n",
       "      <td>fr:root-bier</td>\n",
       "      <td>Root-bier</td>\n",
       "    </tr>\n",
       "    <tr>\n",
       "      <th>184</th>\n",
       "      <td>Snacks sucrés,Biscuits et gâteaux,Biscuits,Sablés</td>\n",
       "      <td>Snacks sucrés,Biscuits et gâteaux,Biscuits,Sablés</td>\n",
       "      <td>en:sugary-snacks,en:biscuits-and-cakes,en:bisc...</td>\n",
       "      <td>fr:sables</td>\n",
       "      <td>Sablés</td>\n",
       "    </tr>\n",
       "    <tr>\n",
       "      <th>185</th>\n",
       "      <td>Quiches lorraines</td>\n",
       "      <td>Plats préparés,Pizzas tartes salées et quiches...</td>\n",
       "      <td>en:meals,en:pizzas-pies-and-quiches,en:quiches...</td>\n",
       "      <td>en:meals</td>\n",
       "      <td>Plats préparés</td>\n",
       "    </tr>\n",
       "    <tr>\n",
       "      <th>186</th>\n",
       "      <td>Poulets cuisinés</td>\n",
       "      <td>Viandes,Volailles,Poulets,Poulets cuisinés</td>\n",
       "      <td>en:meats,en:poultries,en:chickens,en:cooked-ch...</td>\n",
       "      <td>en:poultries</td>\n",
       "      <td>Volailles</td>\n",
       "    </tr>\n",
       "    <tr>\n",
       "      <th>187</th>\n",
       "      <td>Bonbons</td>\n",
       "      <td>Snacks sucrés,Confiseries,Bonbons</td>\n",
       "      <td>en:sugary-snacks,en:confectioneries,en:candies</td>\n",
       "      <td>en:candies</td>\n",
       "      <td>Bonbons</td>\n",
       "    </tr>\n",
       "    <tr>\n",
       "      <th>188</th>\n",
       "      <td>Aliments et boissons à base de végétaux,Boisso...</td>\n",
       "      <td>Aliments et boissons à base de végétaux,Boisso...</td>\n",
       "      <td>en:plant-based-foods-and-beverages,en:beverage...</td>\n",
       "      <td>en:teas</td>\n",
       "      <td>Thés</td>\n",
       "    </tr>\n",
       "    <tr>\n",
       "      <th>189</th>\n",
       "      <td>Sirops,Sirops pour ganache</td>\n",
       "      <td>Sirops,Sirops-pour-ganache</td>\n",
       "      <td>en:syrups,fr:sirops-pour-ganache</td>\n",
       "      <td>en:syrups</td>\n",
       "      <td>Sirops</td>\n",
       "    </tr>\n",
       "    <tr>\n",
       "      <th>192</th>\n",
       "      <td>Chicken feet</td>\n",
       "      <td>en:Chicken-feet</td>\n",
       "      <td>en:chicken-feet</td>\n",
       "      <td>en:chicken-feet</td>\n",
       "      <td>en:Chicken-feet</td>\n",
       "    </tr>\n",
       "    <tr>\n",
       "      <th>218</th>\n",
       "      <td>Pralinen</td>\n",
       "      <td>Aliments et boissons à base de végétaux,Alimen...</td>\n",
       "      <td>en:plant-based-foods-and-beverages,en:plant-ba...</td>\n",
       "      <td>en:plant-based-foods-and-beverages</td>\n",
       "      <td>Aliments et boissons à base de végétaux</td>\n",
       "    </tr>\n",
       "    <tr>\n",
       "      <th>222</th>\n",
       "      <td>Desserts,Christmas Puddings,Puddings</td>\n",
       "      <td>Desserts,Puddings,Puddings de Noël</td>\n",
       "      <td>en:desserts,en:puddings,en:christmas-puddings</td>\n",
       "      <td>en:desserts</td>\n",
       "      <td>Desserts</td>\n",
       "    </tr>\n",
       "    <tr>\n",
       "      <th>223</th>\n",
       "      <td>Sugary snacks,Desserts,Biscuits and cakes,Cake...</td>\n",
       "      <td>Snacks sucrés,Biscuits et gâteaux,Desserts,Gât...</td>\n",
       "      <td>en:sugary-snacks,en:biscuits-and-cakes,en:dess...</td>\n",
       "      <td>en:cakes</td>\n",
       "      <td>Gâteaux</td>\n",
       "    </tr>\n",
       "    <tr>\n",
       "      <th>226</th>\n",
       "      <td>Sodas au cola</td>\n",
       "      <td>Boissons,Boissons gazeuses,Sodas,Sodas au cola...</td>\n",
       "      <td>en:beverages,en:carbonated-drinks,en:sodas,en:...</td>\n",
       "      <td>en:sodas</td>\n",
       "      <td>Sodas</td>\n",
       "    </tr>\n",
       "    <tr>\n",
       "      <th>236</th>\n",
       "      <td>Plant-based foods and beverages,Plant-based fo...</td>\n",
       "      <td>Aliments et boissons à base de végétaux,Alimen...</td>\n",
       "      <td>en:plant-based-foods-and-beverages,en:plant-ba...</td>\n",
       "      <td>en:fresh-vegetables</td>\n",
       "      <td>Légumes frais</td>\n",
       "    </tr>\n",
       "    <tr>\n",
       "      <th>239</th>\n",
       "      <td>Comestibles,Condimentos,Salsas,Salsas de mostaza</td>\n",
       "      <td>Epicerie,Condiments,Sauces,Moutardes</td>\n",
       "      <td>en:groceries,en:condiments,en:sauces,en:mustards</td>\n",
       "      <td>en:condiments</td>\n",
       "      <td>Condiments</td>\n",
       "    </tr>\n",
       "    <tr>\n",
       "      <th>240</th>\n",
       "      <td>Sodas au citron,Boissons sucrées</td>\n",
       "      <td>Aliments et boissons à base de végétaux,Boisso...</td>\n",
       "      <td>en:plant-based-foods-and-beverages,en:beverage...</td>\n",
       "      <td>en:fruit-sodas</td>\n",
       "      <td>Sodas aux fruits</td>\n",
       "    </tr>\n",
       "    <tr>\n",
       "      <th>242</th>\n",
       "      <td>Snacks sucrés,Desserts,Biscuits et gâteaux,Gât...</td>\n",
       "      <td>Snacks sucrés,Biscuits et gâteaux,Desserts,Gât...</td>\n",
       "      <td>en:sugary-snacks,en:biscuits-and-cakes,en:dess...</td>\n",
       "      <td>en:cakes</td>\n",
       "      <td>Gâteaux</td>\n",
       "    </tr>\n",
       "    <tr>\n",
       "      <th>259</th>\n",
       "      <td>Plant-based foods and beverages,Plant-based fo...</td>\n",
       "      <td>Aliments et boissons à base de végétaux,Alimen...</td>\n",
       "      <td>en:plant-based-foods-and-beverages,en:plant-ba...</td>\n",
       "      <td>en:fresh-vegetables</td>\n",
       "      <td>Légumes frais</td>\n",
       "    </tr>\n",
       "    <tr>\n",
       "      <th>267</th>\n",
       "      <td>Proteinpulver</td>\n",
       "      <td>Compléments alimentaires,Compléments pour le B...</td>\n",
       "      <td>en:dietary-supplements,en:bodybuilding-supplem...</td>\n",
       "      <td>en:dietary-supplements</td>\n",
       "      <td>Compléments alimentaires</td>\n",
       "    </tr>\n",
       "    <tr>\n",
       "      <th>268</th>\n",
       "      <td>de:Proteinpulver</td>\n",
       "      <td>Compléments alimentaires,Compléments pour le B...</td>\n",
       "      <td>en:dietary-supplements,en:bodybuilding-supplem...</td>\n",
       "      <td>en:dietary-supplements</td>\n",
       "      <td>Compléments alimentaires</td>\n",
       "    </tr>\n",
       "    <tr>\n",
       "      <th>274</th>\n",
       "      <td>Proteinpulver</td>\n",
       "      <td>Compléments alimentaires,Compléments pour le B...</td>\n",
       "      <td>en:dietary-supplements,en:bodybuilding-supplem...</td>\n",
       "      <td>en:dietary-supplements</td>\n",
       "      <td>Compléments alimentaires</td>\n",
       "    </tr>\n",
       "    <tr>\n",
       "      <th>278</th>\n",
       "      <td>Flat Parsley,Parsley,Herbs</td>\n",
       "      <td>Aliments et boissons à base de végétaux,Alimen...</td>\n",
       "      <td>en:plant-based-foods-and-beverages,en:plant-ba...</td>\n",
       "      <td>en:condiments</td>\n",
       "      <td>Condiments</td>\n",
       "    </tr>\n",
       "    <tr>\n",
       "      <th>279</th>\n",
       "      <td>Cakes aux raisins,Cakes,Gâteaux</td>\n",
       "      <td>Snacks sucrés,Biscuits et gâteaux,Desserts,Gât...</td>\n",
       "      <td>en:sugary-snacks,en:biscuits-and-cakes,en:dess...</td>\n",
       "      <td>en:cakes</td>\n",
       "      <td>Gâteaux</td>\n",
       "    </tr>\n",
       "    <tr>\n",
       "      <th>283</th>\n",
       "      <td>Snacks sucrés,Desserts,Biscuits et gâteaux,Gât...</td>\n",
       "      <td>Snacks sucrés,Biscuits et gâteaux,Desserts,Gât...</td>\n",
       "      <td>en:sugary-snacks,en:biscuits-and-cakes,en:dess...</td>\n",
       "      <td>en:pastries</td>\n",
       "      <td>Pâtisseries</td>\n",
       "    </tr>\n",
       "    <tr>\n",
       "      <th>284</th>\n",
       "      <td>Viandes de porc</td>\n",
       "      <td>Viandes,Porc</td>\n",
       "      <td>en:meats,en:pork</td>\n",
       "      <td>en:meats</td>\n",
       "      <td>Viandes</td>\n",
       "    </tr>\n",
       "    <tr>\n",
       "      <th>297</th>\n",
       "      <td>Proteinpulver</td>\n",
       "      <td>Compléments alimentaires,Compléments pour le B...</td>\n",
       "      <td>en:dietary-supplements,en:bodybuilding-supplem...</td>\n",
       "      <td>en:dietary-supplements</td>\n",
       "      <td>Compléments alimentaires</td>\n",
       "    </tr>\n",
       "    <tr>\n",
       "      <th>298</th>\n",
       "      <td>Proteinpulver</td>\n",
       "      <td>Compléments alimentaires,Compléments pour le B...</td>\n",
       "      <td>en:dietary-supplements,en:bodybuilding-supplem...</td>\n",
       "      <td>en:dietary-supplements</td>\n",
       "      <td>Compléments alimentaires</td>\n",
       "    </tr>\n",
       "    <tr>\n",
       "      <th>299</th>\n",
       "      <td>Snacks sucrés,Biscuits et gâteaux,Desserts,Gât...</td>\n",
       "      <td>Snacks sucrés,Biscuits et gâteaux,Desserts,Gât...</td>\n",
       "      <td>en:sugary-snacks,en:biscuits-and-cakes,en:dess...</td>\n",
       "      <td>en:pastries</td>\n",
       "      <td>Pâtisseries</td>\n",
       "    </tr>\n",
       "    <tr>\n",
       "      <th>300</th>\n",
       "      <td>Proteinpulver</td>\n",
       "      <td>Compléments alimentaires,Compléments pour le B...</td>\n",
       "      <td>en:dietary-supplements,en:bodybuilding-supplem...</td>\n",
       "      <td>en:dietary-supplements</td>\n",
       "      <td>Compléments alimentaires</td>\n",
       "    </tr>\n",
       "    <tr>\n",
       "      <th>301</th>\n",
       "      <td>Snacks sucrés,Biscuits et gâteaux,Desserts,Gât...</td>\n",
       "      <td>Snacks sucrés,Biscuits et gâteaux,Desserts,Gât...</td>\n",
       "      <td>en:sugary-snacks,en:biscuits-and-cakes,en:dess...</td>\n",
       "      <td>en:pastries</td>\n",
       "      <td>Pâtisseries</td>\n",
       "    </tr>\n",
       "    <tr>\n",
       "      <th>303</th>\n",
       "      <td>Proteinpulver</td>\n",
       "      <td>Compléments alimentaires,Compléments pour le B...</td>\n",
       "      <td>en:dietary-supplements,en:bodybuilding-supplem...</td>\n",
       "      <td>en:dietary-supplements</td>\n",
       "      <td>Compléments alimentaires</td>\n",
       "    </tr>\n",
       "    <tr>\n",
       "      <th>306</th>\n",
       "      <td>Chips,Chips and fries</td>\n",
       "      <td>Chips et frites,en:Chips</td>\n",
       "      <td>en:chips-and-fries,en:chips</td>\n",
       "      <td>en:chips-and-fries</td>\n",
       "      <td>Chips et frites</td>\n",
       "    </tr>\n",
       "    <tr>\n",
       "      <th>360</th>\n",
       "      <td>Sugary snacks,Confectioneries,Candies</td>\n",
       "      <td>Snacks sucrés,Confiseries,Bonbons</td>\n",
       "      <td>en:sugary-snacks,en:confectioneries,en:candies</td>\n",
       "      <td>en:candies</td>\n",
       "      <td>Bonbons</td>\n",
       "    </tr>\n",
       "    <tr>\n",
       "      <th>361</th>\n",
       "      <td>Sugary snacks,Confectioneries,Candies</td>\n",
       "      <td>Snacks sucrés,Confiseries,Bonbons</td>\n",
       "      <td>en:sugary-snacks,en:confectioneries,en:candies</td>\n",
       "      <td>en:candies</td>\n",
       "      <td>Bonbons</td>\n",
       "    </tr>\n",
       "  </tbody>\n",
       "</table>\n",
       "</div>"
      ],
      "text/plain": [
       "                                            categories  \\\n",
       "46                                       Filet de bœuf   \n",
       "174                                   Légumes-feuilles   \n",
       "175      Snacks sucrés,Biscuits et gâteaux,Pâtisseries   \n",
       "177  Plant-based foods and beverages,Plant-based fo...   \n",
       "180      Snacks sucrés,Biscuits et gâteaux,Pâtisseries   \n",
       "181                                           Boulange   \n",
       "182  Aliments et boissons à base de végétaux,Alimen...   \n",
       "183                                          Root bier   \n",
       "184  Snacks sucrés,Biscuits et gâteaux,Biscuits,Sablés   \n",
       "185                                  Quiches lorraines   \n",
       "186                                   Poulets cuisinés   \n",
       "187                                            Bonbons   \n",
       "188  Aliments et boissons à base de végétaux,Boisso...   \n",
       "189                         Sirops,Sirops pour ganache   \n",
       "192                                       Chicken feet   \n",
       "218                                           Pralinen   \n",
       "222               Desserts,Christmas Puddings,Puddings   \n",
       "223  Sugary snacks,Desserts,Biscuits and cakes,Cake...   \n",
       "226                                      Sodas au cola   \n",
       "236  Plant-based foods and beverages,Plant-based fo...   \n",
       "239   Comestibles,Condimentos,Salsas,Salsas de mostaza   \n",
       "240                   Sodas au citron,Boissons sucrées   \n",
       "242  Snacks sucrés,Desserts,Biscuits et gâteaux,Gât...   \n",
       "259  Plant-based foods and beverages,Plant-based fo...   \n",
       "267                                      Proteinpulver   \n",
       "268                                   de:Proteinpulver   \n",
       "274                                      Proteinpulver   \n",
       "278                         Flat Parsley,Parsley,Herbs   \n",
       "279                    Cakes aux raisins,Cakes,Gâteaux   \n",
       "283  Snacks sucrés,Desserts,Biscuits et gâteaux,Gât...   \n",
       "284                                    Viandes de porc   \n",
       "297                                      Proteinpulver   \n",
       "298                                      Proteinpulver   \n",
       "299  Snacks sucrés,Biscuits et gâteaux,Desserts,Gât...   \n",
       "300                                      Proteinpulver   \n",
       "301  Snacks sucrés,Biscuits et gâteaux,Desserts,Gât...   \n",
       "303                                      Proteinpulver   \n",
       "306                              Chips,Chips and fries   \n",
       "360              Sugary snacks,Confectioneries,Candies   \n",
       "361              Sugary snacks,Confectioneries,Candies   \n",
       "\n",
       "                                         categories_fr  \\\n",
       "46                                      Filet-de-boeuf   \n",
       "174  Aliments et boissons à base de végétaux,Alimen...   \n",
       "175      Snacks sucrés,Biscuits et gâteaux,Pâtisseries   \n",
       "177  Aliments et boissons à base de végétaux,Alimen...   \n",
       "180      Snacks sucrés,Biscuits et gâteaux,Pâtisseries   \n",
       "181                                           Boulange   \n",
       "182  Aliments et boissons à base de végétaux,Alimen...   \n",
       "183                                          Root-bier   \n",
       "184  Snacks sucrés,Biscuits et gâteaux,Biscuits,Sablés   \n",
       "185  Plats préparés,Pizzas tartes salées et quiches...   \n",
       "186         Viandes,Volailles,Poulets,Poulets cuisinés   \n",
       "187                  Snacks sucrés,Confiseries,Bonbons   \n",
       "188  Aliments et boissons à base de végétaux,Boisso...   \n",
       "189                         Sirops,Sirops-pour-ganache   \n",
       "192                                    en:Chicken-feet   \n",
       "218  Aliments et boissons à base de végétaux,Alimen...   \n",
       "222                 Desserts,Puddings,Puddings de Noël   \n",
       "223  Snacks sucrés,Biscuits et gâteaux,Desserts,Gât...   \n",
       "226  Boissons,Boissons gazeuses,Sodas,Sodas au cola...   \n",
       "236  Aliments et boissons à base de végétaux,Alimen...   \n",
       "239               Epicerie,Condiments,Sauces,Moutardes   \n",
       "240  Aliments et boissons à base de végétaux,Boisso...   \n",
       "242  Snacks sucrés,Biscuits et gâteaux,Desserts,Gât...   \n",
       "259  Aliments et boissons à base de végétaux,Alimen...   \n",
       "267  Compléments alimentaires,Compléments pour le B...   \n",
       "268  Compléments alimentaires,Compléments pour le B...   \n",
       "274  Compléments alimentaires,Compléments pour le B...   \n",
       "278  Aliments et boissons à base de végétaux,Alimen...   \n",
       "279  Snacks sucrés,Biscuits et gâteaux,Desserts,Gât...   \n",
       "283  Snacks sucrés,Biscuits et gâteaux,Desserts,Gât...   \n",
       "284                                       Viandes,Porc   \n",
       "297  Compléments alimentaires,Compléments pour le B...   \n",
       "298  Compléments alimentaires,Compléments pour le B...   \n",
       "299  Snacks sucrés,Biscuits et gâteaux,Desserts,Gât...   \n",
       "300  Compléments alimentaires,Compléments pour le B...   \n",
       "301  Snacks sucrés,Biscuits et gâteaux,Desserts,Gât...   \n",
       "303  Compléments alimentaires,Compléments pour le B...   \n",
       "306                           Chips et frites,en:Chips   \n",
       "360                  Snacks sucrés,Confiseries,Bonbons   \n",
       "361                  Snacks sucrés,Confiseries,Bonbons   \n",
       "\n",
       "                                       categories_tags  \\\n",
       "46                                   fr:filet-de-boeuf   \n",
       "174  en:plant-based-foods-and-beverages,en:plant-ba...   \n",
       "175  en:sugary-snacks,en:biscuits-and-cakes,en:past...   \n",
       "177  en:plant-based-foods-and-beverages,en:plant-ba...   \n",
       "180  en:sugary-snacks,en:biscuits-and-cakes,en:past...   \n",
       "181                                        fr:boulange   \n",
       "182  en:plant-based-foods-and-beverages,en:plant-ba...   \n",
       "183                                       fr:root-bier   \n",
       "184  en:sugary-snacks,en:biscuits-and-cakes,en:bisc...   \n",
       "185  en:meals,en:pizzas-pies-and-quiches,en:quiches...   \n",
       "186  en:meats,en:poultries,en:chickens,en:cooked-ch...   \n",
       "187     en:sugary-snacks,en:confectioneries,en:candies   \n",
       "188  en:plant-based-foods-and-beverages,en:beverage...   \n",
       "189                   en:syrups,fr:sirops-pour-ganache   \n",
       "192                                    en:chicken-feet   \n",
       "218  en:plant-based-foods-and-beverages,en:plant-ba...   \n",
       "222      en:desserts,en:puddings,en:christmas-puddings   \n",
       "223  en:sugary-snacks,en:biscuits-and-cakes,en:dess...   \n",
       "226  en:beverages,en:carbonated-drinks,en:sodas,en:...   \n",
       "236  en:plant-based-foods-and-beverages,en:plant-ba...   \n",
       "239   en:groceries,en:condiments,en:sauces,en:mustards   \n",
       "240  en:plant-based-foods-and-beverages,en:beverage...   \n",
       "242  en:sugary-snacks,en:biscuits-and-cakes,en:dess...   \n",
       "259  en:plant-based-foods-and-beverages,en:plant-ba...   \n",
       "267  en:dietary-supplements,en:bodybuilding-supplem...   \n",
       "268  en:dietary-supplements,en:bodybuilding-supplem...   \n",
       "274  en:dietary-supplements,en:bodybuilding-supplem...   \n",
       "278  en:plant-based-foods-and-beverages,en:plant-ba...   \n",
       "279  en:sugary-snacks,en:biscuits-and-cakes,en:dess...   \n",
       "283  en:sugary-snacks,en:biscuits-and-cakes,en:dess...   \n",
       "284                                   en:meats,en:pork   \n",
       "297  en:dietary-supplements,en:bodybuilding-supplem...   \n",
       "298  en:dietary-supplements,en:bodybuilding-supplem...   \n",
       "299  en:sugary-snacks,en:biscuits-and-cakes,en:dess...   \n",
       "300  en:dietary-supplements,en:bodybuilding-supplem...   \n",
       "301  en:sugary-snacks,en:biscuits-and-cakes,en:dess...   \n",
       "303  en:dietary-supplements,en:bodybuilding-supplem...   \n",
       "306                        en:chips-and-fries,en:chips   \n",
       "360     en:sugary-snacks,en:confectioneries,en:candies   \n",
       "361     en:sugary-snacks,en:confectioneries,en:candies   \n",
       "\n",
       "                          main_category  \\\n",
       "46                    fr:filet-de-boeuf   \n",
       "174                 en:fresh-vegetables   \n",
       "175                         en:pastries   \n",
       "177                           en:breads   \n",
       "180                         en:pastries   \n",
       "181                         fr:boulange   \n",
       "182  en:plant-based-foods-and-beverages   \n",
       "183                        fr:root-bier   \n",
       "184                           fr:sables   \n",
       "185                            en:meals   \n",
       "186                        en:poultries   \n",
       "187                          en:candies   \n",
       "188                             en:teas   \n",
       "189                           en:syrups   \n",
       "192                     en:chicken-feet   \n",
       "218  en:plant-based-foods-and-beverages   \n",
       "222                         en:desserts   \n",
       "223                            en:cakes   \n",
       "226                            en:sodas   \n",
       "236                 en:fresh-vegetables   \n",
       "239                       en:condiments   \n",
       "240                      en:fruit-sodas   \n",
       "242                            en:cakes   \n",
       "259                 en:fresh-vegetables   \n",
       "267              en:dietary-supplements   \n",
       "268              en:dietary-supplements   \n",
       "274              en:dietary-supplements   \n",
       "278                       en:condiments   \n",
       "279                            en:cakes   \n",
       "283                         en:pastries   \n",
       "284                            en:meats   \n",
       "297              en:dietary-supplements   \n",
       "298              en:dietary-supplements   \n",
       "299                         en:pastries   \n",
       "300              en:dietary-supplements   \n",
       "301                         en:pastries   \n",
       "303              en:dietary-supplements   \n",
       "306                  en:chips-and-fries   \n",
       "360                          en:candies   \n",
       "361                          en:candies   \n",
       "\n",
       "                            main_category_fr  \n",
       "46                            Filet-de-boeuf  \n",
       "174                            Légumes frais  \n",
       "175                              Pâtisseries  \n",
       "177                                    Pains  \n",
       "180                              Pâtisseries  \n",
       "181                                 Boulange  \n",
       "182  Aliments et boissons à base de végétaux  \n",
       "183                                Root-bier  \n",
       "184                                   Sablés  \n",
       "185                           Plats préparés  \n",
       "186                                Volailles  \n",
       "187                                  Bonbons  \n",
       "188                                     Thés  \n",
       "189                                   Sirops  \n",
       "192                          en:Chicken-feet  \n",
       "218  Aliments et boissons à base de végétaux  \n",
       "222                                 Desserts  \n",
       "223                                  Gâteaux  \n",
       "226                                    Sodas  \n",
       "236                            Légumes frais  \n",
       "239                               Condiments  \n",
       "240                         Sodas aux fruits  \n",
       "242                                  Gâteaux  \n",
       "259                            Légumes frais  \n",
       "267                 Compléments alimentaires  \n",
       "268                 Compléments alimentaires  \n",
       "274                 Compléments alimentaires  \n",
       "278                               Condiments  \n",
       "279                                  Gâteaux  \n",
       "283                              Pâtisseries  \n",
       "284                                  Viandes  \n",
       "297                 Compléments alimentaires  \n",
       "298                 Compléments alimentaires  \n",
       "299                              Pâtisseries  \n",
       "300                 Compléments alimentaires  \n",
       "301                              Pâtisseries  \n",
       "303                 Compléments alimentaires  \n",
       "306                          Chips et frites  \n",
       "360                                  Bonbons  \n",
       "361                                  Bonbons  "
      ]
     },
     "execution_count": 13,
     "metadata": {},
     "output_type": "execute_result"
    }
   ],
   "source": [
    "# 40 lignes des colonnes catégorie, où aucune valeur nulle n'est présente\n",
    "\n",
    "df[categorie].dropna(subset=categorie, how='any').head(40)"
   ]
  },
  {
   "cell_type": "markdown",
   "id": "c765de7a",
   "metadata": {},
   "source": [
    "La colonnes à garder comme caractéristique secondaire est 'main_category_fr' car :\n",
    "  - dénominations françaises\n",
    "  - dénominations plus concises  \n",
    "  - pas moins de valeurs que les autres colonnes"
   ]
  },
  {
   "cell_type": "code",
   "execution_count": 14,
   "id": "631dda1e",
   "metadata": {},
   "outputs": [],
   "source": [
    "caracteristiques_sec = ['main_category_fr']"
   ]
  },
  {
   "cell_type": "code",
   "execution_count": 15,
   "id": "67b77b26",
   "metadata": {},
   "outputs": [
    {
     "data": {
      "text/html": [
       "<div>\n",
       "<style scoped>\n",
       "    .dataframe tbody tr th:only-of-type {\n",
       "        vertical-align: middle;\n",
       "    }\n",
       "\n",
       "    .dataframe tbody tr th {\n",
       "        vertical-align: top;\n",
       "    }\n",
       "\n",
       "    .dataframe thead th {\n",
       "        text-align: right;\n",
       "    }\n",
       "</style>\n",
       "<table border=\"1\" class=\"dataframe\">\n",
       "  <thead>\n",
       "    <tr style=\"text-align: right;\">\n",
       "      <th></th>\n",
       "      <th>labels</th>\n",
       "      <th>labels_tags</th>\n",
       "      <th>labels_fr</th>\n",
       "    </tr>\n",
       "  </thead>\n",
       "  <tbody>\n",
       "    <tr>\n",
       "      <th>count</th>\n",
       "      <td>46559</td>\n",
       "      <td>46644</td>\n",
       "      <td>46666</td>\n",
       "    </tr>\n",
       "    <tr>\n",
       "      <th>unique</th>\n",
       "      <td>18114</td>\n",
       "      <td>13653</td>\n",
       "      <td>13655</td>\n",
       "    </tr>\n",
       "    <tr>\n",
       "      <th>top</th>\n",
       "      <td>Organic, EU Organic, fr:AB Agriculture Biologique</td>\n",
       "      <td>en:organic,en:eu-organic,fr:ab-agriculture-bio...</td>\n",
       "      <td>Bio,Bio européen,AB Agriculture Biologique</td>\n",
       "    </tr>\n",
       "    <tr>\n",
       "      <th>freq</th>\n",
       "      <td>3223</td>\n",
       "      <td>5311</td>\n",
       "      <td>5311</td>\n",
       "    </tr>\n",
       "  </tbody>\n",
       "</table>\n",
       "</div>"
      ],
      "text/plain": [
       "                                                   labels  \\\n",
       "count                                               46559   \n",
       "unique                                              18114   \n",
       "top     Organic, EU Organic, fr:AB Agriculture Biologique   \n",
       "freq                                                 3223   \n",
       "\n",
       "                                              labels_tags  \\\n",
       "count                                               46644   \n",
       "unique                                              13653   \n",
       "top     en:organic,en:eu-organic,fr:ab-agriculture-bio...   \n",
       "freq                                                 5311   \n",
       "\n",
       "                                         labels_fr  \n",
       "count                                        46666  \n",
       "unique                                       13655  \n",
       "top     Bio,Bio européen,AB Agriculture Biologique  \n",
       "freq                                          5311  "
      ]
     },
     "execution_count": 15,
     "metadata": {},
     "output_type": "execute_result"
    }
   ],
   "source": [
    "# analyse de la liste label\n",
    "df[label].describe(include='object')"
   ]
  },
  {
   "cell_type": "code",
   "execution_count": 16,
   "id": "cf9e06e7",
   "metadata": {
    "scrolled": true
   },
   "outputs": [
    {
     "data": {
      "text/html": [
       "<div>\n",
       "<style scoped>\n",
       "    .dataframe tbody tr th:only-of-type {\n",
       "        vertical-align: middle;\n",
       "    }\n",
       "\n",
       "    .dataframe tbody tr th {\n",
       "        vertical-align: top;\n",
       "    }\n",
       "\n",
       "    .dataframe thead th {\n",
       "        text-align: right;\n",
       "    }\n",
       "</style>\n",
       "<table border=\"1\" class=\"dataframe\">\n",
       "  <thead>\n",
       "    <tr style=\"text-align: right;\">\n",
       "      <th></th>\n",
       "      <th>labels</th>\n",
       "      <th>labels_tags</th>\n",
       "      <th>labels_fr</th>\n",
       "    </tr>\n",
       "  </thead>\n",
       "  <tbody>\n",
       "    <tr>\n",
       "      <th>182</th>\n",
       "      <td>AB</td>\n",
       "      <td>en:organic,en:eu-organic,fr:ab-agriculture-bio...</td>\n",
       "      <td>Bio,Bio européen,AB Agriculture Biologique</td>\n",
       "    </tr>\n",
       "    <tr>\n",
       "      <th>184</th>\n",
       "      <td>Point Vert</td>\n",
       "      <td>en:green-dot</td>\n",
       "      <td>Point Vert</td>\n",
       "    </tr>\n",
       "    <tr>\n",
       "      <th>187</th>\n",
       "      <td>Sans arômes artificiels,Contient des OGM</td>\n",
       "      <td>en:no-artificial-flavors,fr:contient-des-ogm</td>\n",
       "      <td>Sans arômes artificiels,Contient-des-ogm</td>\n",
       "    </tr>\n",
       "    <tr>\n",
       "      <th>192</th>\n",
       "      <td>Incorrect data on label</td>\n",
       "      <td>en:incorrect-data-on-label</td>\n",
       "      <td>Informations incorrectes sur l'emballage</td>\n",
       "    </tr>\n",
       "    <tr>\n",
       "      <th>218</th>\n",
       "      <td>UTZ Certified Kakao</td>\n",
       "      <td>en:sustainable-farming,en:utz-certified,en:utz...</td>\n",
       "      <td>Agriculture durable,UTZ Certified,UTZ Certifie...</td>\n",
       "    </tr>\n",
       "    <tr>\n",
       "      <th>239</th>\n",
       "      <td>Vegetariano,Vegano</td>\n",
       "      <td>en:vegetarian,en:vegan</td>\n",
       "      <td>Végétarien,Végétalien</td>\n",
       "    </tr>\n",
       "    <tr>\n",
       "      <th>279</th>\n",
       "      <td>Fabriqué en France,Point Vert</td>\n",
       "      <td>en:green-dot,en:made-in-france</td>\n",
       "      <td>Point Vert,Fabriqué en France</td>\n",
       "    </tr>\n",
       "    <tr>\n",
       "      <th>283</th>\n",
       "      <td>Point Vert,Fabriqué en France</td>\n",
       "      <td>en:green-dot,en:made-in-france</td>\n",
       "      <td>Point Vert,Fabriqué en France</td>\n",
       "    </tr>\n",
       "    <tr>\n",
       "      <th>297</th>\n",
       "      <td>Vegetarisch,Vegan</td>\n",
       "      <td>en:vegetarian,en:vegan</td>\n",
       "      <td>Végétarien,Végétalien</td>\n",
       "    </tr>\n",
       "    <tr>\n",
       "      <th>299</th>\n",
       "      <td>Point Vert,Fabriqué en France</td>\n",
       "      <td>en:green-dot,en:made-in-france</td>\n",
       "      <td>Point Vert,Fabriqué en France</td>\n",
       "    </tr>\n",
       "    <tr>\n",
       "      <th>301</th>\n",
       "      <td>Point Vert,Fabriqué en France</td>\n",
       "      <td>en:green-dot,en:made-in-france</td>\n",
       "      <td>Point Vert,Fabriqué en France</td>\n",
       "    </tr>\n",
       "    <tr>\n",
       "      <th>448</th>\n",
       "      <td>Point Vert</td>\n",
       "      <td>en:green-dot</td>\n",
       "      <td>Point Vert</td>\n",
       "    </tr>\n",
       "    <tr>\n",
       "      <th>452</th>\n",
       "      <td>Point Vert,Sans colorants artificiels,Sans arô...</td>\n",
       "      <td>en:point-vert,en:sans-aromes-artificiels,en:sa...</td>\n",
       "      <td>en:Point-vert,en:Sans-aromes-artificiels,en:Sa...</td>\n",
       "    </tr>\n",
       "    <tr>\n",
       "      <th>454</th>\n",
       "      <td>Vegetarien</td>\n",
       "      <td>en:vegetarian</td>\n",
       "      <td>Végétarien</td>\n",
       "    </tr>\n",
       "    <tr>\n",
       "      <th>458</th>\n",
       "      <td>Allégé en matière grasse,Végétarien,Moins 30% ...</td>\n",
       "      <td>en:low-or-no-fat,en:vegetarian,en:low-fat,en:3...</td>\n",
       "      <td>Peu ou pas de matière grasse,Végétarien,Peu de...</td>\n",
       "    </tr>\n",
       "    <tr>\n",
       "      <th>495</th>\n",
       "      <td>Organic, EU Organic, fr:AB Agriculture Biologique</td>\n",
       "      <td>en:organic,en:eu-organic,fr:ab-agriculture-bio...</td>\n",
       "      <td>Bio,Bio européen,AB Agriculture Biologique</td>\n",
       "    </tr>\n",
       "    <tr>\n",
       "      <th>508</th>\n",
       "      <td>Point Vert,Fabriqué en France</td>\n",
       "      <td>en:green-dot,en:made-in-france</td>\n",
       "      <td>Point Vert,Fabriqué en France</td>\n",
       "    </tr>\n",
       "    <tr>\n",
       "      <th>546</th>\n",
       "      <td>Vegetarisch,Vegan</td>\n",
       "      <td>en:vegetarian,en:vegan</td>\n",
       "      <td>Végétarien,Végétalien</td>\n",
       "    </tr>\n",
       "    <tr>\n",
       "      <th>564</th>\n",
       "      <td>Sans colorants,Sans conservateurs,Cuisiné en F...</td>\n",
       "      <td>en:no-colorings,en:no-preservatives,fr:cuisine...</td>\n",
       "      <td>Sans colorants,Sans conservateurs,Cuisine-en-f...</td>\n",
       "    </tr>\n",
       "    <tr>\n",
       "      <th>568</th>\n",
       "      <td>Leeeeeeet it goooooooo</td>\n",
       "      <td>en:leeeeeeet-it-goooooooo</td>\n",
       "      <td>en:Leeeeeeet-it-goooooooo</td>\n",
       "    </tr>\n",
       "    <tr>\n",
       "      <th>628</th>\n",
       "      <td>Vegetarian,Vegan</td>\n",
       "      <td>en:vegetarian,en:vegan</td>\n",
       "      <td>Végétarien,Végétalien</td>\n",
       "    </tr>\n",
       "    <tr>\n",
       "      <th>630</th>\n",
       "      <td>Vegan</td>\n",
       "      <td>en:vegetarian,en:vegan</td>\n",
       "      <td>Végétarien,Végétalien</td>\n",
       "    </tr>\n",
       "    <tr>\n",
       "      <th>648</th>\n",
       "      <td>Vegan</td>\n",
       "      <td>en:vegetarian,en:vegan</td>\n",
       "      <td>Végétarien,Végétalien</td>\n",
       "    </tr>\n",
       "    <tr>\n",
       "      <th>652</th>\n",
       "      <td>Forever fish</td>\n",
       "      <td>en:forever-fish</td>\n",
       "      <td>en:Forever-fish</td>\n",
       "    </tr>\n",
       "    <tr>\n",
       "      <th>661</th>\n",
       "      <td>Not the droid you're looking for</td>\n",
       "      <td>en:not-the-droid-you-re-looking-for</td>\n",
       "      <td>en:Not-the-droid-you-re-looking-for</td>\n",
       "    </tr>\n",
       "    <tr>\n",
       "      <th>680</th>\n",
       "      <td>Peu ou pas de matière grasse,Peu de matière gr...</td>\n",
       "      <td>en:low-or-no-fat,en:fsc,en:low-fat,en:35-less-...</td>\n",
       "      <td>Peu ou pas de matière grasse,FSC,Peu de matièr...</td>\n",
       "    </tr>\n",
       "    <tr>\n",
       "      <th>685</th>\n",
       "      <td>Vegan</td>\n",
       "      <td>en:vegetarian,en:vegan</td>\n",
       "      <td>Végétarien,Végétalien</td>\n",
       "    </tr>\n",
       "    <tr>\n",
       "      <th>695</th>\n",
       "      <td>Point Vert</td>\n",
       "      <td>en:green-dot</td>\n",
       "      <td>Point Vert</td>\n",
       "    </tr>\n",
       "    <tr>\n",
       "      <th>760</th>\n",
       "      <td>Gluten-free,No GMOs,No preservatives</td>\n",
       "      <td>en:gluten-free,en:no-gmos,en:no-preservatives</td>\n",
       "      <td>Sans gluten,Sans OGM,Sans conservateurs</td>\n",
       "    </tr>\n",
       "    <tr>\n",
       "      <th>774</th>\n",
       "      <td>Protected Geographical Indication</td>\n",
       "      <td>en:pgi</td>\n",
       "      <td>IGP</td>\n",
       "    </tr>\n",
       "    <tr>\n",
       "      <th>905</th>\n",
       "      <td>usda organic</td>\n",
       "      <td>en:organic,en:usda-organic</td>\n",
       "      <td>Bio,USDA Organic</td>\n",
       "    </tr>\n",
       "    <tr>\n",
       "      <th>1343</th>\n",
       "      <td>Fabriqué au Canada</td>\n",
       "      <td>fr:fabrique-au-canada</td>\n",
       "      <td>Fabrique-au-canada</td>\n",
       "    </tr>\n",
       "    <tr>\n",
       "      <th>1345</th>\n",
       "      <td>Sans gluten</td>\n",
       "      <td>en:sans-gluten</td>\n",
       "      <td>en:Sans-gluten</td>\n",
       "    </tr>\n",
       "    <tr>\n",
       "      <th>1351</th>\n",
       "      <td>Kosher,No artificial colors,No artificial flav...</td>\n",
       "      <td>en:kosher,en:no-artificial-colors,en:no-artifi...</td>\n",
       "      <td>Kascher,Sans colorants artificiels,Sans arômes...</td>\n",
       "    </tr>\n",
       "    <tr>\n",
       "      <th>1356</th>\n",
       "      <td>Point Vert</td>\n",
       "      <td>en:green-dot</td>\n",
       "      <td>Point Vert</td>\n",
       "    </tr>\n",
       "    <tr>\n",
       "      <th>1623</th>\n",
       "      <td>Orthodox Union Kosher</td>\n",
       "      <td>en:kosher,en:orthodox-union-kosher</td>\n",
       "      <td>Kascher,Orthodox Union Kosher</td>\n",
       "    </tr>\n",
       "    <tr>\n",
       "      <th>1625</th>\n",
       "      <td>Low or no fat,Low fat,Kosher,Reduced fat,25% l...</td>\n",
       "      <td>en:low-or-no-fat,en:kosher,en:low-fat,en:25-le...</td>\n",
       "      <td>Peu ou pas de matière grasse,Kascher,Peu de ma...</td>\n",
       "    </tr>\n",
       "    <tr>\n",
       "      <th>1651</th>\n",
       "      <td>Organic,USDA Organic</td>\n",
       "      <td>en:organic,en:usda-organic</td>\n",
       "      <td>Bio,USDA Organic</td>\n",
       "    </tr>\n",
       "    <tr>\n",
       "      <th>1702</th>\n",
       "      <td>Vegan</td>\n",
       "      <td>en:vegetarian,en:vegan</td>\n",
       "      <td>Végétarien,Végétalien</td>\n",
       "    </tr>\n",
       "    <tr>\n",
       "      <th>1727</th>\n",
       "      <td>0g trans fat,Less than 1 g sugar,No high fruct...</td>\n",
       "      <td>en:no-trans-fat,en:less-than-1-g-sugar,en:no-h...</td>\n",
       "      <td>Sans acides gras trans,en:Less-than-1-g-sugar,...</td>\n",
       "    </tr>\n",
       "  </tbody>\n",
       "</table>\n",
       "</div>"
      ],
      "text/plain": [
       "                                                 labels  \\\n",
       "182                                                  AB   \n",
       "184                                          Point Vert   \n",
       "187            Sans arômes artificiels,Contient des OGM   \n",
       "192                             Incorrect data on label   \n",
       "218                                 UTZ Certified Kakao   \n",
       "239                                  Vegetariano,Vegano   \n",
       "279                       Fabriqué en France,Point Vert   \n",
       "283                       Point Vert,Fabriqué en France   \n",
       "297                                   Vegetarisch,Vegan   \n",
       "299                       Point Vert,Fabriqué en France   \n",
       "301                       Point Vert,Fabriqué en France   \n",
       "448                                          Point Vert   \n",
       "452   Point Vert,Sans colorants artificiels,Sans arô...   \n",
       "454                                          Vegetarien   \n",
       "458   Allégé en matière grasse,Végétarien,Moins 30% ...   \n",
       "495   Organic, EU Organic, fr:AB Agriculture Biologique   \n",
       "508                       Point Vert,Fabriqué en France   \n",
       "546                                   Vegetarisch,Vegan   \n",
       "564   Sans colorants,Sans conservateurs,Cuisiné en F...   \n",
       "568                              Leeeeeeet it goooooooo   \n",
       "628                                    Vegetarian,Vegan   \n",
       "630                                               Vegan   \n",
       "648                                               Vegan   \n",
       "652                                        Forever fish   \n",
       "661                    Not the droid you're looking for   \n",
       "680   Peu ou pas de matière grasse,Peu de matière gr...   \n",
       "685                                               Vegan   \n",
       "695                                          Point Vert   \n",
       "760                Gluten-free,No GMOs,No preservatives   \n",
       "774                   Protected Geographical Indication   \n",
       "905                                        usda organic   \n",
       "1343                                 Fabriqué au Canada   \n",
       "1345                                        Sans gluten   \n",
       "1351  Kosher,No artificial colors,No artificial flav...   \n",
       "1356                                         Point Vert   \n",
       "1623                              Orthodox Union Kosher   \n",
       "1625  Low or no fat,Low fat,Kosher,Reduced fat,25% l...   \n",
       "1651                               Organic,USDA Organic   \n",
       "1702                                              Vegan   \n",
       "1727  0g trans fat,Less than 1 g sugar,No high fruct...   \n",
       "\n",
       "                                            labels_tags  \\\n",
       "182   en:organic,en:eu-organic,fr:ab-agriculture-bio...   \n",
       "184                                        en:green-dot   \n",
       "187        en:no-artificial-flavors,fr:contient-des-ogm   \n",
       "192                          en:incorrect-data-on-label   \n",
       "218   en:sustainable-farming,en:utz-certified,en:utz...   \n",
       "239                              en:vegetarian,en:vegan   \n",
       "279                      en:green-dot,en:made-in-france   \n",
       "283                      en:green-dot,en:made-in-france   \n",
       "297                              en:vegetarian,en:vegan   \n",
       "299                      en:green-dot,en:made-in-france   \n",
       "301                      en:green-dot,en:made-in-france   \n",
       "448                                        en:green-dot   \n",
       "452   en:point-vert,en:sans-aromes-artificiels,en:sa...   \n",
       "454                                       en:vegetarian   \n",
       "458   en:low-or-no-fat,en:vegetarian,en:low-fat,en:3...   \n",
       "495   en:organic,en:eu-organic,fr:ab-agriculture-bio...   \n",
       "508                      en:green-dot,en:made-in-france   \n",
       "546                              en:vegetarian,en:vegan   \n",
       "564   en:no-colorings,en:no-preservatives,fr:cuisine...   \n",
       "568                           en:leeeeeeet-it-goooooooo   \n",
       "628                              en:vegetarian,en:vegan   \n",
       "630                              en:vegetarian,en:vegan   \n",
       "648                              en:vegetarian,en:vegan   \n",
       "652                                     en:forever-fish   \n",
       "661                 en:not-the-droid-you-re-looking-for   \n",
       "680   en:low-or-no-fat,en:fsc,en:low-fat,en:35-less-...   \n",
       "685                              en:vegetarian,en:vegan   \n",
       "695                                        en:green-dot   \n",
       "760       en:gluten-free,en:no-gmos,en:no-preservatives   \n",
       "774                                              en:pgi   \n",
       "905                          en:organic,en:usda-organic   \n",
       "1343                              fr:fabrique-au-canada   \n",
       "1345                                     en:sans-gluten   \n",
       "1351  en:kosher,en:no-artificial-colors,en:no-artifi...   \n",
       "1356                                       en:green-dot   \n",
       "1623                 en:kosher,en:orthodox-union-kosher   \n",
       "1625  en:low-or-no-fat,en:kosher,en:low-fat,en:25-le...   \n",
       "1651                         en:organic,en:usda-organic   \n",
       "1702                             en:vegetarian,en:vegan   \n",
       "1727  en:no-trans-fat,en:less-than-1-g-sugar,en:no-h...   \n",
       "\n",
       "                                              labels_fr  \n",
       "182          Bio,Bio européen,AB Agriculture Biologique  \n",
       "184                                          Point Vert  \n",
       "187            Sans arômes artificiels,Contient-des-ogm  \n",
       "192            Informations incorrectes sur l'emballage  \n",
       "218   Agriculture durable,UTZ Certified,UTZ Certifie...  \n",
       "239                               Végétarien,Végétalien  \n",
       "279                       Point Vert,Fabriqué en France  \n",
       "283                       Point Vert,Fabriqué en France  \n",
       "297                               Végétarien,Végétalien  \n",
       "299                       Point Vert,Fabriqué en France  \n",
       "301                       Point Vert,Fabriqué en France  \n",
       "448                                          Point Vert  \n",
       "452   en:Point-vert,en:Sans-aromes-artificiels,en:Sa...  \n",
       "454                                          Végétarien  \n",
       "458   Peu ou pas de matière grasse,Végétarien,Peu de...  \n",
       "495          Bio,Bio européen,AB Agriculture Biologique  \n",
       "508                       Point Vert,Fabriqué en France  \n",
       "546                               Végétarien,Végétalien  \n",
       "564   Sans colorants,Sans conservateurs,Cuisine-en-f...  \n",
       "568                           en:Leeeeeeet-it-goooooooo  \n",
       "628                               Végétarien,Végétalien  \n",
       "630                               Végétarien,Végétalien  \n",
       "648                               Végétarien,Végétalien  \n",
       "652                                     en:Forever-fish  \n",
       "661                 en:Not-the-droid-you-re-looking-for  \n",
       "680   Peu ou pas de matière grasse,FSC,Peu de matièr...  \n",
       "685                               Végétarien,Végétalien  \n",
       "695                                          Point Vert  \n",
       "760             Sans gluten,Sans OGM,Sans conservateurs  \n",
       "774                                                 IGP  \n",
       "905                                    Bio,USDA Organic  \n",
       "1343                                 Fabrique-au-canada  \n",
       "1345                                     en:Sans-gluten  \n",
       "1351  Kascher,Sans colorants artificiels,Sans arômes...  \n",
       "1356                                         Point Vert  \n",
       "1623                      Kascher,Orthodox Union Kosher  \n",
       "1625  Peu ou pas de matière grasse,Kascher,Peu de ma...  \n",
       "1651                                   Bio,USDA Organic  \n",
       "1702                              Végétarien,Végétalien  \n",
       "1727  Sans acides gras trans,en:Less-than-1-g-sugar,...  "
      ]
     },
     "execution_count": 16,
     "metadata": {},
     "output_type": "execute_result"
    }
   ],
   "source": [
    "# 40 lignes des colonnes label, où aucune valeur nulle n'est présente\n",
    "\n",
    "df[label].dropna(subset=label, how='any').head(40)"
   ]
  },
  {
   "cell_type": "markdown",
   "id": "7fd1f895",
   "metadata": {},
   "source": [
    "La colonnes à garder comme label est 'label_fr' car :\n",
    "  - dénominations françaises \n",
    "  - pas moins de valeurs que les autres colonnes"
   ]
  },
  {
   "cell_type": "code",
   "execution_count": 17,
   "id": "01965c9b",
   "metadata": {},
   "outputs": [
    {
     "data": {
      "text/html": [
       "<div>\n",
       "<style scoped>\n",
       "    .dataframe tbody tr th:only-of-type {\n",
       "        vertical-align: middle;\n",
       "    }\n",
       "\n",
       "    .dataframe tbody tr th {\n",
       "        vertical-align: top;\n",
       "    }\n",
       "\n",
       "    .dataframe thead th {\n",
       "        text-align: right;\n",
       "    }\n",
       "</style>\n",
       "<table border=\"1\" class=\"dataframe\">\n",
       "  <thead>\n",
       "    <tr style=\"text-align: right;\">\n",
       "      <th></th>\n",
       "      <th>ingredients_text</th>\n",
       "      <th>traces</th>\n",
       "      <th>traces_tags</th>\n",
       "    </tr>\n",
       "  </thead>\n",
       "  <tbody>\n",
       "    <tr>\n",
       "      <th>count</th>\n",
       "      <td>248962</td>\n",
       "      <td>24353</td>\n",
       "      <td>24329</td>\n",
       "    </tr>\n",
       "    <tr>\n",
       "      <th>unique</th>\n",
       "      <td>205520</td>\n",
       "      <td>8378</td>\n",
       "      <td>3578</td>\n",
       "    </tr>\n",
       "    <tr>\n",
       "      <th>top</th>\n",
       "      <td>Carbonated water, natural flavor.</td>\n",
       "      <td>Fruits à coque</td>\n",
       "      <td>en:nuts</td>\n",
       "    </tr>\n",
       "    <tr>\n",
       "      <th>freq</th>\n",
       "      <td>222</td>\n",
       "      <td>1240</td>\n",
       "      <td>2051</td>\n",
       "    </tr>\n",
       "  </tbody>\n",
       "</table>\n",
       "</div>"
      ],
      "text/plain": [
       "                         ingredients_text          traces traces_tags\n",
       "count                              248962           24353       24329\n",
       "unique                             205520            8378        3578\n",
       "top     Carbonated water, natural flavor.  Fruits à coque     en:nuts\n",
       "freq                                  222            1240        2051"
      ]
     },
     "execution_count": 17,
     "metadata": {},
     "output_type": "execute_result"
    }
   ],
   "source": [
    "# analyse de la liste ingredient\n",
    "df[ingredient].describe(include='object')"
   ]
  },
  {
   "cell_type": "code",
   "execution_count": 18,
   "id": "4bad0175",
   "metadata": {
    "scrolled": true
   },
   "outputs": [
    {
     "data": {
      "text/html": [
       "<div>\n",
       "<style scoped>\n",
       "    .dataframe tbody tr th:only-of-type {\n",
       "        vertical-align: middle;\n",
       "    }\n",
       "\n",
       "    .dataframe tbody tr th {\n",
       "        vertical-align: top;\n",
       "    }\n",
       "\n",
       "    .dataframe thead th {\n",
       "        text-align: right;\n",
       "    }\n",
       "</style>\n",
       "<table border=\"1\" class=\"dataframe\">\n",
       "  <thead>\n",
       "    <tr style=\"text-align: right;\">\n",
       "      <th></th>\n",
       "      <th>ingredients_text</th>\n",
       "      <th>traces</th>\n",
       "      <th>traces_tags</th>\n",
       "    </tr>\n",
       "  </thead>\n",
       "  <tbody>\n",
       "    <tr>\n",
       "      <th>47</th>\n",
       "      <td>pasteurized free range egg.sugar.blueberries (...</td>\n",
       "      <td>milk, egg,</td>\n",
       "      <td>en:eggs,en:milk</td>\n",
       "    </tr>\n",
       "    <tr>\n",
       "      <th>153</th>\n",
       "      <td>milk chocolate (32%) (sugar, cocoa butter, dri...</td>\n",
       "      <td>nuts, milk, soya, wheatflour, gluten, oatmeal,...</td>\n",
       "      <td>en:eggs,en:gluten,en:milk,en:nuts,en:soybeans,...</td>\n",
       "    </tr>\n",
       "    <tr>\n",
       "      <th>174</th>\n",
       "      <td>INGREDIENTS : LAITUE. VINAIGRETTE (HUILE DE CA...</td>\n",
       "      <td>CONTIENT : OEUF. LAIT. ANCHOIS. SOYA. BLE. SEI...</td>\n",
       "      <td>fr:contient-oeuf-lait-anchois-soya-ble-seigle-...</td>\n",
       "    </tr>\n",
       "    <tr>\n",
       "      <th>180</th>\n",
       "      <td>Ingrédients : Pâte (farine, margarines d'huile...</td>\n",
       "      <td>Soja,Anhydride sulfureux et sulfites,Contient ...</td>\n",
       "      <td>en:soybeans,en:sulphur-dioxide-and-sulphites,f...</td>\n",
       "    </tr>\n",
       "    <tr>\n",
       "      <th>181</th>\n",
       "      <td>Ingrédients : Farine, eau, sel, levure, orge m...</td>\n",
       "      <td>Blé,Orge,Peut contenir:  Noix variés Soya Lait...</td>\n",
       "      <td>en:gluten,fr:peut-contenir-noix-varies-soya-la...</td>\n",
       "    </tr>\n",
       "    <tr>\n",
       "      <th>184</th>\n",
       "      <td>Sucre, farine de _Blé_, graisse et huiles végé...</td>\n",
       "      <td>Fruits à coque,Graines de sésame,Soja</td>\n",
       "      <td>en:nuts,en:sesame-seeds,en:soybeans</td>\n",
       "    </tr>\n",
       "    <tr>\n",
       "      <th>188</th>\n",
       "      <td>Thé noir de Chine, zestes d'oranges 7,5 %, arô...</td>\n",
       "      <td>Œufs,Gluten,Lait,Moutarde,Fruits à coque,Grain...</td>\n",
       "      <td>en:eggs,en:gluten,en:milk,en:mustard,en:nuts,e...</td>\n",
       "    </tr>\n",
       "    <tr>\n",
       "      <th>218</th>\n",
       "      <td>Zucker, Kakaomasse, Kakaobutter, _Vollmilchpul...</td>\n",
       "      <td>Ei,Gluten,Schalenfrüchte,Alkohol</td>\n",
       "      <td>en:eggs,en:gluten,en:nuts,de:alkohol</td>\n",
       "    </tr>\n",
       "    <tr>\n",
       "      <th>221</th>\n",
       "      <td>77</td>\n",
       "      <td>macadamia nuts,</td>\n",
       "      <td>sl:macadamia-nuts</td>\n",
       "    </tr>\n",
       "    <tr>\n",
       "      <th>235</th>\n",
       "      <td>malted barley, water, hops, yeast</td>\n",
       "      <td>barley, yeast</td>\n",
       "      <td>en:gluten,yeast</td>\n",
       "    </tr>\n",
       "    <tr>\n",
       "      <th>241</th>\n",
       "      <td>water, horseradish, mustard seed, sugar, veget...</td>\n",
       "      <td>peanuts,</td>\n",
       "      <td>en:peanuts</td>\n",
       "    </tr>\n",
       "    <tr>\n",
       "      <th>242</th>\n",
       "      <td>Farine de _blé_, huile de colza, sucre, _oeufs...</td>\n",
       "      <td>Soja,Fruits à coque</td>\n",
       "      <td>en:nuts,en:soybeans</td>\n",
       "    </tr>\n",
       "    <tr>\n",
       "      <th>267</th>\n",
       "      <td>Proteinmischung (_Sojaprotein_, _Weizenprotein...</td>\n",
       "      <td>Gluten,Milch,Schalenfrüchte</td>\n",
       "      <td>en:gluten,en:milk,en:nuts</td>\n",
       "    </tr>\n",
       "    <tr>\n",
       "      <th>268</th>\n",
       "      <td>Proteinmischung (_Sojaprotein_, _Weizenprotein...</td>\n",
       "      <td>Gluten,Milch,Schalenfrüchte</td>\n",
       "      <td>en:gluten,en:milk,en:nuts</td>\n",
       "    </tr>\n",
       "    <tr>\n",
       "      <th>274</th>\n",
       "      <td>Proteinmischung (_Sojaprotein_, _Weizenprotein...</td>\n",
       "      <td>Gluten,Milch,Schalenfrüchte</td>\n",
       "      <td>en:gluten,en:milk,en:nuts</td>\n",
       "    </tr>\n",
       "    <tr>\n",
       "      <th>279</th>\n",
       "      <td>Farine de _blé_, _œufs_ frais, huile de colza,...</td>\n",
       "      <td>Soja,Fruits à coque</td>\n",
       "      <td>en:nuts,en:soybeans</td>\n",
       "    </tr>\n",
       "    <tr>\n",
       "      <th>283</th>\n",
       "      <td>Fruits 37.4% [fruits confits 21,5% [fruits (pa...</td>\n",
       "      <td>Fruits à coque,Soja</td>\n",
       "      <td>en:nuts,en:soybeans</td>\n",
       "    </tr>\n",
       "    <tr>\n",
       "      <th>297</th>\n",
       "      <td>100% Soja-Protein-Isolat (_Soja_), Aroma, Süßs...</td>\n",
       "      <td>Gluten,Milch,Schalenfrüchte</td>\n",
       "      <td>en:gluten,en:milk,en:nuts</td>\n",
       "    </tr>\n",
       "    <tr>\n",
       "      <th>298</th>\n",
       "      <td>Molkenproteinkonzentrat 99%(_Wheyproteinkonzen...</td>\n",
       "      <td>Gluten,Milch,Schalenfrüchte</td>\n",
       "      <td>en:gluten,en:milk,en:nuts</td>\n",
       "    </tr>\n",
       "    <tr>\n",
       "      <th>299</th>\n",
       "      <td>Sucre, blanc d’_œufs_ frais, poudre d’_amande_...</td>\n",
       "      <td>Fruits à coque,Soja</td>\n",
       "      <td>en:nuts,en:soybeans</td>\n",
       "    </tr>\n",
       "    <tr>\n",
       "      <th>300</th>\n",
       "      <td>Molkenproteinkonzentrat 99%(_Wheyproteinkonzen...</td>\n",
       "      <td>Gluten,Milch,Schalenfrüchte</td>\n",
       "      <td>en:gluten,en:milk,en:nuts</td>\n",
       "    </tr>\n",
       "    <tr>\n",
       "      <th>301</th>\n",
       "      <td>Sucre, blanc d’_œufs_ frais, poudre d’_amande_...</td>\n",
       "      <td>Fruits à coque,Soja</td>\n",
       "      <td>en:nuts,en:soybeans</td>\n",
       "    </tr>\n",
       "    <tr>\n",
       "      <th>303</th>\n",
       "      <td>Molkenproteinkonzentrat 99%(_Wheyproteinkonzen...</td>\n",
       "      <td>Gluten,Milch,Schalenfrüchte</td>\n",
       "      <td>en:gluten,en:milk,en:nuts</td>\n",
       "    </tr>\n",
       "    <tr>\n",
       "      <th>428</th>\n",
       "      <td>Pâtisseries fourrées à la pulpe de pêche : far...</td>\n",
       "      <td>Soja,Fruits à coque</td>\n",
       "      <td>en:nuts,en:soybeans</td>\n",
       "    </tr>\n",
       "    <tr>\n",
       "      <th>458</th>\n",
       "      <td>Farine de _blé_ contient _Gluten_ (avec farine...</td>\n",
       "      <td>Arachides,Fruits à coque</td>\n",
       "      <td>en:nuts,en:peanuts</td>\n",
       "    </tr>\n",
       "    <tr>\n",
       "      <th>459</th>\n",
       "      <td>Farine de _blé_ contient _gluten_ (avec farine...</td>\n",
       "      <td>Fruits à coque</td>\n",
       "      <td>en:nuts</td>\n",
       "    </tr>\n",
       "    <tr>\n",
       "      <th>498</th>\n",
       "      <td>Proteinmischung (_Sojaprotein_, _Weizenprotein...</td>\n",
       "      <td>Gluten,Milch,Schalenfrüchte</td>\n",
       "      <td>en:gluten,en:milk,en:nuts</td>\n",
       "    </tr>\n",
       "    <tr>\n",
       "      <th>508</th>\n",
       "      <td>Farine de _blé_, fourrage lait et caramel 17% ...</td>\n",
       "      <td>Fruits à coque</td>\n",
       "      <td>en:nuts</td>\n",
       "    </tr>\n",
       "    <tr>\n",
       "      <th>546</th>\n",
       "      <td>100% Soja-Protein-Isolat (_Soja_)</td>\n",
       "      <td>Gluten,Milch,Schalenfrüchte</td>\n",
       "      <td>en:gluten,en:milk,en:nuts</td>\n",
       "    </tr>\n",
       "    <tr>\n",
       "      <th>579</th>\n",
       "      <td>COOKED ELBOW MACARONI (WATER, ENRICHED SEMOLIN...</td>\n",
       "      <td>Eggs,Fish,Peanuts,Soybeans,Shellfish,Tree nuts</td>\n",
       "      <td>en:eggs,en:fish,en:peanuts,en:soybeans,en:shel...</td>\n",
       "    </tr>\n",
       "    <tr>\n",
       "      <th>680</th>\n",
       "      <td>Pommes de terre (29%), Blanc de poulet cuit (2...</td>\n",
       "      <td>Os</td>\n",
       "      <td>fr:os</td>\n",
       "    </tr>\n",
       "    <tr>\n",
       "      <th>1162</th>\n",
       "      <td>Sugar, cocoa butter, _milk_, milkfat, chocolat...</td>\n",
       "      <td>Eggs,Treenuts</td>\n",
       "      <td>en:eggs,en:treenuts</td>\n",
       "    </tr>\n",
       "    <tr>\n",
       "      <th>1163</th>\n",
       "      <td>Sugar, almond and hazelnut praline (_almonds_,...</td>\n",
       "      <td>Eggs,Gluten,Tree nuts</td>\n",
       "      <td>en:eggs,en:gluten,en:tree-nuts</td>\n",
       "    </tr>\n",
       "    <tr>\n",
       "      <th>1572</th>\n",
       "      <td>Pork Lung 32%, Beef Fat 25%, Oatmeal 19%, Pork...</td>\n",
       "      <td>Oats,Gluten</td>\n",
       "      <td>en:gluten</td>\n",
       "    </tr>\n",
       "    <tr>\n",
       "      <th>2324</th>\n",
       "      <td>ORGANIC ROASTED _SOY_ NUTS (ORGANIC _SOYBEANS_...</td>\n",
       "      <td>Almonds,Brazil Nuts,Cashews,Coconut,Filberts,H...</td>\n",
       "      <td>en:gluten,en:milk,en:nuts,en:peanuts,en:coconu...</td>\n",
       "    </tr>\n",
       "    <tr>\n",
       "      <th>9744</th>\n",
       "      <td>Chocolat au lait 45% (sucre, beurre de cacao, ...</td>\n",
       "      <td>Œufs,Fruits à coque,Graines de sésame</td>\n",
       "      <td>en:eggs,en:nuts,en:sesame-seeds</td>\n",
       "    </tr>\n",
       "    <tr>\n",
       "      <th>9779</th>\n",
       "      <td>Whole rolled _oats_, honey, expeller-pressed c...</td>\n",
       "      <td>wheat,tree nuts,peanuts,milk,soy</td>\n",
       "      <td>en:gluten,en:milk,en:peanuts,en:soybeans,en:tr...</td>\n",
       "    </tr>\n",
       "    <tr>\n",
       "      <th>9847</th>\n",
       "      <td>POTATOES, VEGETABLE OIL (_PEANUT_ OIL, CORN OI...</td>\n",
       "      <td>Gluten,Milk,Soybeans,F&amp;DC YELLOW #5</td>\n",
       "      <td>en:gluten,en:milk,en:soybeans,en:f-dc-yellow-5</td>\n",
       "    </tr>\n",
       "    <tr>\n",
       "      <th>9882</th>\n",
       "      <td>Cocoa Mass, Sugar, Cocoa Butter, Cocoa Powder,...</td>\n",
       "      <td>Nuts,Milk,Soya</td>\n",
       "      <td>en:milk,en:nuts,en:soybeans</td>\n",
       "    </tr>\n",
       "    <tr>\n",
       "      <th>9890</th>\n",
       "      <td>Cane sugar, ginger 7%, tapioca starch</td>\n",
       "      <td>Peanuts</td>\n",
       "      <td>en:peanuts</td>\n",
       "    </tr>\n",
       "  </tbody>\n",
       "</table>\n",
       "</div>"
      ],
      "text/plain": [
       "                                       ingredients_text  \\\n",
       "47    pasteurized free range egg.sugar.blueberries (...   \n",
       "153   milk chocolate (32%) (sugar, cocoa butter, dri...   \n",
       "174   INGREDIENTS : LAITUE. VINAIGRETTE (HUILE DE CA...   \n",
       "180   Ingrédients : Pâte (farine, margarines d'huile...   \n",
       "181   Ingrédients : Farine, eau, sel, levure, orge m...   \n",
       "184   Sucre, farine de _Blé_, graisse et huiles végé...   \n",
       "188   Thé noir de Chine, zestes d'oranges 7,5 %, arô...   \n",
       "218   Zucker, Kakaomasse, Kakaobutter, _Vollmilchpul...   \n",
       "221                                                  77   \n",
       "235                   malted barley, water, hops, yeast   \n",
       "241   water, horseradish, mustard seed, sugar, veget...   \n",
       "242   Farine de _blé_, huile de colza, sucre, _oeufs...   \n",
       "267   Proteinmischung (_Sojaprotein_, _Weizenprotein...   \n",
       "268   Proteinmischung (_Sojaprotein_, _Weizenprotein...   \n",
       "274   Proteinmischung (_Sojaprotein_, _Weizenprotein...   \n",
       "279   Farine de _blé_, _œufs_ frais, huile de colza,...   \n",
       "283   Fruits 37.4% [fruits confits 21,5% [fruits (pa...   \n",
       "297   100% Soja-Protein-Isolat (_Soja_), Aroma, Süßs...   \n",
       "298   Molkenproteinkonzentrat 99%(_Wheyproteinkonzen...   \n",
       "299   Sucre, blanc d’_œufs_ frais, poudre d’_amande_...   \n",
       "300   Molkenproteinkonzentrat 99%(_Wheyproteinkonzen...   \n",
       "301   Sucre, blanc d’_œufs_ frais, poudre d’_amande_...   \n",
       "303   Molkenproteinkonzentrat 99%(_Wheyproteinkonzen...   \n",
       "428   Pâtisseries fourrées à la pulpe de pêche : far...   \n",
       "458   Farine de _blé_ contient _Gluten_ (avec farine...   \n",
       "459   Farine de _blé_ contient _gluten_ (avec farine...   \n",
       "498   Proteinmischung (_Sojaprotein_, _Weizenprotein...   \n",
       "508   Farine de _blé_, fourrage lait et caramel 17% ...   \n",
       "546                   100% Soja-Protein-Isolat (_Soja_)   \n",
       "579   COOKED ELBOW MACARONI (WATER, ENRICHED SEMOLIN...   \n",
       "680   Pommes de terre (29%), Blanc de poulet cuit (2...   \n",
       "1162  Sugar, cocoa butter, _milk_, milkfat, chocolat...   \n",
       "1163  Sugar, almond and hazelnut praline (_almonds_,...   \n",
       "1572  Pork Lung 32%, Beef Fat 25%, Oatmeal 19%, Pork...   \n",
       "2324  ORGANIC ROASTED _SOY_ NUTS (ORGANIC _SOYBEANS_...   \n",
       "9744  Chocolat au lait 45% (sucre, beurre de cacao, ...   \n",
       "9779  Whole rolled _oats_, honey, expeller-pressed c...   \n",
       "9847  POTATOES, VEGETABLE OIL (_PEANUT_ OIL, CORN OI...   \n",
       "9882  Cocoa Mass, Sugar, Cocoa Butter, Cocoa Powder,...   \n",
       "9890              Cane sugar, ginger 7%, tapioca starch   \n",
       "\n",
       "                                                 traces  \\\n",
       "47                                          milk, egg,    \n",
       "153   nuts, milk, soya, wheatflour, gluten, oatmeal,...   \n",
       "174   CONTIENT : OEUF. LAIT. ANCHOIS. SOYA. BLE. SEI...   \n",
       "180   Soja,Anhydride sulfureux et sulfites,Contient ...   \n",
       "181   Blé,Orge,Peut contenir:  Noix variés Soya Lait...   \n",
       "184               Fruits à coque,Graines de sésame,Soja   \n",
       "188   Œufs,Gluten,Lait,Moutarde,Fruits à coque,Grain...   \n",
       "218                    Ei,Gluten,Schalenfrüchte,Alkohol   \n",
       "221                                    macadamia nuts,    \n",
       "235                                       barley, yeast   \n",
       "241                                           peanuts,    \n",
       "242                                 Soja,Fruits à coque   \n",
       "267                         Gluten,Milch,Schalenfrüchte   \n",
       "268                         Gluten,Milch,Schalenfrüchte   \n",
       "274                         Gluten,Milch,Schalenfrüchte   \n",
       "279                                 Soja,Fruits à coque   \n",
       "283                                 Fruits à coque,Soja   \n",
       "297                         Gluten,Milch,Schalenfrüchte   \n",
       "298                         Gluten,Milch,Schalenfrüchte   \n",
       "299                                 Fruits à coque,Soja   \n",
       "300                         Gluten,Milch,Schalenfrüchte   \n",
       "301                                 Fruits à coque,Soja   \n",
       "303                         Gluten,Milch,Schalenfrüchte   \n",
       "428                                 Soja,Fruits à coque   \n",
       "458                            Arachides,Fruits à coque   \n",
       "459                                      Fruits à coque   \n",
       "498                         Gluten,Milch,Schalenfrüchte   \n",
       "508                                      Fruits à coque   \n",
       "546                         Gluten,Milch,Schalenfrüchte   \n",
       "579      Eggs,Fish,Peanuts,Soybeans,Shellfish,Tree nuts   \n",
       "680                                                  Os   \n",
       "1162                                      Eggs,Treenuts   \n",
       "1163                              Eggs,Gluten,Tree nuts   \n",
       "1572                                        Oats,Gluten   \n",
       "2324  Almonds,Brazil Nuts,Cashews,Coconut,Filberts,H...   \n",
       "9744              Œufs,Fruits à coque,Graines de sésame   \n",
       "9779                   wheat,tree nuts,peanuts,milk,soy   \n",
       "9847                Gluten,Milk,Soybeans,F&DC YELLOW #5   \n",
       "9882                                     Nuts,Milk,Soya   \n",
       "9890                                            Peanuts   \n",
       "\n",
       "                                            traces_tags  \n",
       "47                                      en:eggs,en:milk  \n",
       "153   en:eggs,en:gluten,en:milk,en:nuts,en:soybeans,...  \n",
       "174   fr:contient-oeuf-lait-anchois-soya-ble-seigle-...  \n",
       "180   en:soybeans,en:sulphur-dioxide-and-sulphites,f...  \n",
       "181   en:gluten,fr:peut-contenir-noix-varies-soya-la...  \n",
       "184                 en:nuts,en:sesame-seeds,en:soybeans  \n",
       "188   en:eggs,en:gluten,en:milk,en:mustard,en:nuts,e...  \n",
       "218                en:eggs,en:gluten,en:nuts,de:alkohol  \n",
       "221                                   sl:macadamia-nuts  \n",
       "235                                     en:gluten,yeast  \n",
       "241                                          en:peanuts  \n",
       "242                                 en:nuts,en:soybeans  \n",
       "267                           en:gluten,en:milk,en:nuts  \n",
       "268                           en:gluten,en:milk,en:nuts  \n",
       "274                           en:gluten,en:milk,en:nuts  \n",
       "279                                 en:nuts,en:soybeans  \n",
       "283                                 en:nuts,en:soybeans  \n",
       "297                           en:gluten,en:milk,en:nuts  \n",
       "298                           en:gluten,en:milk,en:nuts  \n",
       "299                                 en:nuts,en:soybeans  \n",
       "300                           en:gluten,en:milk,en:nuts  \n",
       "301                                 en:nuts,en:soybeans  \n",
       "303                           en:gluten,en:milk,en:nuts  \n",
       "428                                 en:nuts,en:soybeans  \n",
       "458                                  en:nuts,en:peanuts  \n",
       "459                                             en:nuts  \n",
       "498                           en:gluten,en:milk,en:nuts  \n",
       "508                                             en:nuts  \n",
       "546                           en:gluten,en:milk,en:nuts  \n",
       "579   en:eggs,en:fish,en:peanuts,en:soybeans,en:shel...  \n",
       "680                                               fr:os  \n",
       "1162                                en:eggs,en:treenuts  \n",
       "1163                     en:eggs,en:gluten,en:tree-nuts  \n",
       "1572                                          en:gluten  \n",
       "2324  en:gluten,en:milk,en:nuts,en:peanuts,en:coconu...  \n",
       "9744                    en:eggs,en:nuts,en:sesame-seeds  \n",
       "9779  en:gluten,en:milk,en:peanuts,en:soybeans,en:tr...  \n",
       "9847     en:gluten,en:milk,en:soybeans,en:f-dc-yellow-5  \n",
       "9882                        en:milk,en:nuts,en:soybeans  \n",
       "9890                                         en:peanuts  "
      ]
     },
     "execution_count": 18,
     "metadata": {},
     "output_type": "execute_result"
    }
   ],
   "source": [
    "# 40 lignes des colonnes ingrédients, où aucune valeur nulle n'est présente\n",
    "\n",
    "df[ingredient].dropna(subset=ingredient, how='any').head(40)"
   ]
  },
  {
   "cell_type": "markdown",
   "id": "938a9d43",
   "metadata": {},
   "source": [
    "La colonnes à garder comme ingrédient est 'ingrédients_text' car :\n",
    "  - beaucoup plus de valeurs que les deux autres colonnes\n",
    "  - traces sont de plus les aliments présents en faible quantité, ce qui n'impact pas le nutriscore"
   ]
  },
  {
   "cell_type": "code",
   "execution_count": 19,
   "id": "d5e21fcc",
   "metadata": {},
   "outputs": [],
   "source": [
    "caracteristiques_sec.append('ingredients_text')"
   ]
  },
  {
   "cell_type": "code",
   "execution_count": 20,
   "id": "c1acbc28",
   "metadata": {},
   "outputs": [
    {
     "data": {
      "text/html": [
       "<div>\n",
       "<style scoped>\n",
       "    .dataframe tbody tr th:only-of-type {\n",
       "        vertical-align: middle;\n",
       "    }\n",
       "\n",
       "    .dataframe tbody tr th {\n",
       "        vertical-align: top;\n",
       "    }\n",
       "\n",
       "    .dataframe thead th {\n",
       "        text-align: right;\n",
       "    }\n",
       "</style>\n",
       "<table border=\"1\" class=\"dataframe\">\n",
       "  <thead>\n",
       "    <tr style=\"text-align: right;\">\n",
       "      <th></th>\n",
       "      <th>additives_tags</th>\n",
       "      <th>additives</th>\n",
       "      <th>additives_fr</th>\n",
       "    </tr>\n",
       "  </thead>\n",
       "  <tbody>\n",
       "    <tr>\n",
       "      <th>count</th>\n",
       "      <td>154680</td>\n",
       "      <td>248905</td>\n",
       "      <td>154680</td>\n",
       "    </tr>\n",
       "    <tr>\n",
       "      <th>unique</th>\n",
       "      <td>41537</td>\n",
       "      <td>196069</td>\n",
       "      <td>41537</td>\n",
       "    </tr>\n",
       "    <tr>\n",
       "      <th>top</th>\n",
       "      <td>en:e322</td>\n",
       "      <td>[ extra-virgin-olive-oil -&gt; en:extra-virgin-o...</td>\n",
       "      <td>E322 - Lécithines</td>\n",
       "    </tr>\n",
       "    <tr>\n",
       "      <th>freq</th>\n",
       "      <td>8264</td>\n",
       "      <td>397</td>\n",
       "      <td>8264</td>\n",
       "    </tr>\n",
       "  </tbody>\n",
       "</table>\n",
       "</div>"
      ],
      "text/plain": [
       "       additives_tags                                          additives  \\\n",
       "count          154680                                             248905   \n",
       "unique          41537                                             196069   \n",
       "top           en:e322   [ extra-virgin-olive-oil -> en:extra-virgin-o...   \n",
       "freq             8264                                                397   \n",
       "\n",
       "             additives_fr  \n",
       "count              154680  \n",
       "unique              41537  \n",
       "top     E322 - Lécithines  \n",
       "freq                 8264  "
      ]
     },
     "execution_count": 20,
     "metadata": {},
     "output_type": "execute_result"
    }
   ],
   "source": [
    "# analyse de la liste additif\n",
    "df[additif].describe(include='object')"
   ]
  },
  {
   "cell_type": "code",
   "execution_count": 21,
   "id": "282d4365",
   "metadata": {},
   "outputs": [
    {
     "data": {
      "text/html": [
       "<div>\n",
       "<style scoped>\n",
       "    .dataframe tbody tr th:only-of-type {\n",
       "        vertical-align: middle;\n",
       "    }\n",
       "\n",
       "    .dataframe tbody tr th {\n",
       "        vertical-align: top;\n",
       "    }\n",
       "\n",
       "    .dataframe thead th {\n",
       "        text-align: right;\n",
       "    }\n",
       "</style>\n",
       "<table border=\"1\" class=\"dataframe\">\n",
       "  <thead>\n",
       "    <tr style=\"text-align: right;\">\n",
       "      <th></th>\n",
       "      <th>additives_n</th>\n",
       "    </tr>\n",
       "  </thead>\n",
       "  <tbody>\n",
       "    <tr>\n",
       "      <th>count</th>\n",
       "      <td>248939.000000</td>\n",
       "    </tr>\n",
       "    <tr>\n",
       "      <th>mean</th>\n",
       "      <td>1.936024</td>\n",
       "    </tr>\n",
       "    <tr>\n",
       "      <th>std</th>\n",
       "      <td>2.502019</td>\n",
       "    </tr>\n",
       "    <tr>\n",
       "      <th>min</th>\n",
       "      <td>0.000000</td>\n",
       "    </tr>\n",
       "    <tr>\n",
       "      <th>25%</th>\n",
       "      <td>0.000000</td>\n",
       "    </tr>\n",
       "    <tr>\n",
       "      <th>50%</th>\n",
       "      <td>1.000000</td>\n",
       "    </tr>\n",
       "    <tr>\n",
       "      <th>75%</th>\n",
       "      <td>3.000000</td>\n",
       "    </tr>\n",
       "    <tr>\n",
       "      <th>max</th>\n",
       "      <td>31.000000</td>\n",
       "    </tr>\n",
       "  </tbody>\n",
       "</table>\n",
       "</div>"
      ],
      "text/plain": [
       "         additives_n\n",
       "count  248939.000000\n",
       "mean        1.936024\n",
       "std         2.502019\n",
       "min         0.000000\n",
       "25%         0.000000\n",
       "50%         1.000000\n",
       "75%         3.000000\n",
       "max        31.000000"
      ]
     },
     "execution_count": 21,
     "metadata": {},
     "output_type": "execute_result"
    }
   ],
   "source": [
    "df[additif].describe()"
   ]
  },
  {
   "cell_type": "code",
   "execution_count": 22,
   "id": "7d2a628f",
   "metadata": {
    "scrolled": true
   },
   "outputs": [
    {
     "data": {
      "text/html": [
       "<div>\n",
       "<style scoped>\n",
       "    .dataframe tbody tr th:only-of-type {\n",
       "        vertical-align: middle;\n",
       "    }\n",
       "\n",
       "    .dataframe tbody tr th {\n",
       "        vertical-align: top;\n",
       "    }\n",
       "\n",
       "    .dataframe thead th {\n",
       "        text-align: right;\n",
       "    }\n",
       "</style>\n",
       "<table border=\"1\" class=\"dataframe\">\n",
       "  <thead>\n",
       "    <tr style=\"text-align: right;\">\n",
       "      <th></th>\n",
       "      <th>additives_tags</th>\n",
       "      <th>additives</th>\n",
       "      <th>additives_fr</th>\n",
       "      <th>additives_n</th>\n",
       "    </tr>\n",
       "  </thead>\n",
       "  <tbody>\n",
       "    <tr>\n",
       "      <th>7</th>\n",
       "      <td>en:e123,en:e307a</td>\n",
       "      <td>[ org-oats -&gt; en:org-oats  ]  [ oats -&gt; en:oa...</td>\n",
       "      <td>E123 - Amarante,E307a - Tocophérol</td>\n",
       "      <td>2.0</td>\n",
       "    </tr>\n",
       "    <tr>\n",
       "      <th>12</th>\n",
       "      <td>en:e100</td>\n",
       "      <td>[ roasted-peanuts -&gt; en:roasted-peanuts  ]  [...</td>\n",
       "      <td>E100 - Curcumine</td>\n",
       "      <td>1.0</td>\n",
       "    </tr>\n",
       "    <tr>\n",
       "      <th>21</th>\n",
       "      <td>en:e322</td>\n",
       "      <td>[ chocolate-stars -&gt; en:chocolate-stars  ]  [...</td>\n",
       "      <td>E322 - Lécithines</td>\n",
       "      <td>1.0</td>\n",
       "    </tr>\n",
       "    <tr>\n",
       "      <th>23</th>\n",
       "      <td>en:e339iii,en:e330</td>\n",
       "      <td>[ dry-roasted-almonds -&gt; en:dry-roasted-almon...</td>\n",
       "      <td>E339iii - Phosphate de sodium tribasique,E330 ...</td>\n",
       "      <td>2.0</td>\n",
       "    </tr>\n",
       "    <tr>\n",
       "      <th>24</th>\n",
       "      <td>en:e170,en:e322,en:e410</td>\n",
       "      <td>[ peanut-butter -&gt; en:peanut-butter  ]  [ but...</td>\n",
       "      <td>E170 - Carbonate de calcium,E322 - Lécithines,...</td>\n",
       "      <td>3.0</td>\n",
       "    </tr>\n",
       "    <tr>\n",
       "      <th>28</th>\n",
       "      <td>en:e100</td>\n",
       "      <td>[ cashews -&gt; en:cashews  ]  [ curry-seasoning...</td>\n",
       "      <td>E100 - Curcumine</td>\n",
       "      <td>1.0</td>\n",
       "    </tr>\n",
       "    <tr>\n",
       "      <th>29</th>\n",
       "      <td>en:e330</td>\n",
       "      <td>[ almonds -&gt; en:almonds  ]  [ wasabi-spice -&gt;...</td>\n",
       "      <td>E330 - Acide citrique</td>\n",
       "      <td>1.0</td>\n",
       "    </tr>\n",
       "    <tr>\n",
       "      <th>32</th>\n",
       "      <td>en:e322</td>\n",
       "      <td>[ coconut-bar -&gt; en:coconut-bar  ]  [ bar -&gt; ...</td>\n",
       "      <td>E322 - Lécithines</td>\n",
       "      <td>1.0</td>\n",
       "    </tr>\n",
       "    <tr>\n",
       "      <th>33</th>\n",
       "      <td>en:e322</td>\n",
       "      <td>[ organic-semi-sweet-chocolate-chips -&gt; en:or...</td>\n",
       "      <td>E322 - Lécithines</td>\n",
       "      <td>1.0</td>\n",
       "    </tr>\n",
       "    <tr>\n",
       "      <th>43</th>\n",
       "      <td>en:e322</td>\n",
       "      <td>[ dark-chocolate-coating -&gt; en:dark-chocolate...</td>\n",
       "      <td>E322 - Lécithines</td>\n",
       "      <td>1.0</td>\n",
       "    </tr>\n",
       "    <tr>\n",
       "      <th>47</th>\n",
       "      <td>en:e1422,en:e450,en:e481,en:e472e,en:e472b,en:...</td>\n",
       "      <td>[ pasteurized-free-range-egg-sugar-blueberrie...</td>\n",
       "      <td>E1422 - Adipate de diamidon acétylé,E450 - Sel...</td>\n",
       "      <td>6.0</td>\n",
       "    </tr>\n",
       "    <tr>\n",
       "      <th>62</th>\n",
       "      <td>en:e422,en:e160b,en:e100</td>\n",
       "      <td>[ whole-rolled-oats -&gt; en:whole-rolled-oats  ...</td>\n",
       "      <td>E422 - Glycérol,E160b - Rocou,E100 - Curcumine</td>\n",
       "      <td>3.0</td>\n",
       "    </tr>\n",
       "    <tr>\n",
       "      <th>66</th>\n",
       "      <td>en:e101</td>\n",
       "      <td>[ refined-enriched-durum-semolina-wheat -&gt; en...</td>\n",
       "      <td>E101 - Riboflavine</td>\n",
       "      <td>1.0</td>\n",
       "    </tr>\n",
       "    <tr>\n",
       "      <th>68</th>\n",
       "      <td>en:e101,en:e375</td>\n",
       "      <td>[ refined -&gt; en:refined  ]  [ enriched-durum-...</td>\n",
       "      <td>E101 - Riboflavine,E375 - Acide nicotinique</td>\n",
       "      <td>2.0</td>\n",
       "    </tr>\n",
       "    <tr>\n",
       "      <th>70</th>\n",
       "      <td>en:e339iii,en:e341i</td>\n",
       "      <td>[ wheat -&gt; en:wheat  ]  [ rye -&gt; en:rye  ]  [...</td>\n",
       "      <td>E339iii - Phosphate de sodium tribasique,E341i</td>\n",
       "      <td>2.0</td>\n",
       "    </tr>\n",
       "    <tr>\n",
       "      <th>73</th>\n",
       "      <td>en:e375</td>\n",
       "      <td>[ organic-refined-wheat-flour -&gt; en:organic-r...</td>\n",
       "      <td>E375 - Acide nicotinique</td>\n",
       "      <td>1.0</td>\n",
       "    </tr>\n",
       "    <tr>\n",
       "      <th>80</th>\n",
       "      <td>en:e415</td>\n",
       "      <td>[ peanuts -&gt; en:peanuts  ]  [ honey -&gt; en:hon...</td>\n",
       "      <td>E415 - Gomme xanthane</td>\n",
       "      <td>1.0</td>\n",
       "    </tr>\n",
       "    <tr>\n",
       "      <th>89</th>\n",
       "      <td>en:e322</td>\n",
       "      <td>[ honey-roast-mixed-nuts -&gt; en:honey-roast-mi...</td>\n",
       "      <td>E322 - Lécithines</td>\n",
       "      <td>1.0</td>\n",
       "    </tr>\n",
       "    <tr>\n",
       "      <th>99</th>\n",
       "      <td>en:e1510</td>\n",
       "      <td>[ water -&gt; en:water  ]  [ organic-whole-soybe...</td>\n",
       "      <td>E1510 - Éthanol</td>\n",
       "      <td>1.0</td>\n",
       "    </tr>\n",
       "    <tr>\n",
       "      <th>100</th>\n",
       "      <td>en:e1510</td>\n",
       "      <td>[ water -&gt; en:water  ]  [ organic-whole-soybe...</td>\n",
       "      <td>E1510 - Éthanol</td>\n",
       "      <td>1.0</td>\n",
       "    </tr>\n",
       "    <tr>\n",
       "      <th>104</th>\n",
       "      <td>en:e322</td>\n",
       "      <td>[ figs -&gt; en:figs  ]  [ stone-ground-whole-wh...</td>\n",
       "      <td>E322 - Lécithines</td>\n",
       "      <td>1.0</td>\n",
       "    </tr>\n",
       "    <tr>\n",
       "      <th>105</th>\n",
       "      <td>en:e322</td>\n",
       "      <td>[ peanut-butter-chips -&gt; en:peanut-butter-chi...</td>\n",
       "      <td>E322 - Lécithines</td>\n",
       "      <td>1.0</td>\n",
       "    </tr>\n",
       "    <tr>\n",
       "      <th>106</th>\n",
       "      <td>en:e322</td>\n",
       "      <td>[ milk-chocolate-coating -&gt; en:milk-chocolate...</td>\n",
       "      <td>E322 - Lécithines</td>\n",
       "      <td>1.0</td>\n",
       "    </tr>\n",
       "    <tr>\n",
       "      <th>107</th>\n",
       "      <td>en:e322,en:e500ii</td>\n",
       "      <td>[ peanut-butter-coating -&gt; en:peanut-butter-c...</td>\n",
       "      <td>E322 - Lécithines,E500ii - Hydrogénocarbonate ...</td>\n",
       "      <td>2.0</td>\n",
       "    </tr>\n",
       "    <tr>\n",
       "      <th>109</th>\n",
       "      <td>en:e101,en:e322</td>\n",
       "      <td>[ pretzels -&gt; en:pretzels  ]  [ enriched-flou...</td>\n",
       "      <td>E101 - Riboflavine,E322 - Lécithines</td>\n",
       "      <td>2.0</td>\n",
       "    </tr>\n",
       "    <tr>\n",
       "      <th>147</th>\n",
       "      <td>en:e220</td>\n",
       "      <td>[ apricots -&gt; en:apricots  ]  [ sulfur-dioxid...</td>\n",
       "      <td>E220 - Anhydride sulfureux</td>\n",
       "      <td>1.0</td>\n",
       "    </tr>\n",
       "    <tr>\n",
       "      <th>150</th>\n",
       "      <td>en:e330</td>\n",
       "      <td>[ dried-mango -&gt; en:dried-mango  ]  [ mango -...</td>\n",
       "      <td>E330 - Acide citrique</td>\n",
       "      <td>1.0</td>\n",
       "    </tr>\n",
       "    <tr>\n",
       "      <th>151</th>\n",
       "      <td>en:e322,en:e375,en:e101,en:e551,en:e500ii</td>\n",
       "      <td>[ milk-chocolate -&gt; en:milk-chocolate  ]  [ c...</td>\n",
       "      <td>E322 - Lécithines,E375 - Acide nicotinique,E10...</td>\n",
       "      <td>5.0</td>\n",
       "    </tr>\n",
       "    <tr>\n",
       "      <th>153</th>\n",
       "      <td>en:e322,en:e170,en:e375,en:e500ii,en:e450,en:e...</td>\n",
       "      <td>[ milk-chocolate -&gt; en:milk-chocolate  ]  [ c...</td>\n",
       "      <td>E322 - Lécithines,E170 - Carbonate de calcium,...</td>\n",
       "      <td>8.0</td>\n",
       "    </tr>\n",
       "    <tr>\n",
       "      <th>154</th>\n",
       "      <td>en:e330,en:e331iii,en:e955,en:e201</td>\n",
       "      <td>[ carbonated-water -&gt; en:carbonated-water  ] ...</td>\n",
       "      <td>E330 - Acide citrique,E331iii,E955 - Sucralose...</td>\n",
       "      <td>4.0</td>\n",
       "    </tr>\n",
       "    <tr>\n",
       "      <th>175</th>\n",
       "      <td>en:e170,en:e300,en:e1100,en:e203,en:e420,en:e4...</td>\n",
       "      <td>[ ingredients -&gt; fr:ingredients  ]  [ pate -&gt;...</td>\n",
       "      <td>E170 - Carbonate de calcium,E300 - Acide ascor...</td>\n",
       "      <td>10.0</td>\n",
       "    </tr>\n",
       "    <tr>\n",
       "      <th>176</th>\n",
       "      <td>en:e296,en:e330,en:e270,en:e170</td>\n",
       "      <td>[ sugar -&gt; en:sugar  ]  [ glucose-syrup -&gt; en...</td>\n",
       "      <td>E296 - Acide malique,E330 - Acide citrique,E27...</td>\n",
       "      <td>4.0</td>\n",
       "    </tr>\n",
       "    <tr>\n",
       "      <th>180</th>\n",
       "      <td>en:e920,en:e330,en:e509,en:e211,en:e202</td>\n",
       "      <td>[ ingredients -&gt; fr:ingredients  ]  [ pate -&gt;...</td>\n",
       "      <td>E920 - L-Cystéine et ses chlorhydrates,E330 - ...</td>\n",
       "      <td>5.0</td>\n",
       "    </tr>\n",
       "    <tr>\n",
       "      <th>184</th>\n",
       "      <td>en:e1400,en:e322,en:e503</td>\n",
       "      <td>[ sucre -&gt; fr:sucre  ]  [ farine-de-ble -&gt; fr...</td>\n",
       "      <td>E1400 - Dextrines,E322 - Lécithines,E503 - Car...</td>\n",
       "      <td>3.0</td>\n",
       "    </tr>\n",
       "    <tr>\n",
       "      <th>185</th>\n",
       "      <td>en:e316,en:e407,en:e235</td>\n",
       "      <td>[ ingredients -&gt; fr:ingredients  ]  [ garnitu...</td>\n",
       "      <td>E316 - Erythorbate de sodium,E407 - Carraghéna...</td>\n",
       "      <td>3.0</td>\n",
       "    </tr>\n",
       "    <tr>\n",
       "      <th>189</th>\n",
       "      <td>en:e330,en:e171,en:e211,en:e131</td>\n",
       "      <td>[ sirop-saveur-pistache-5-cl -&gt; fr:sirop-save...</td>\n",
       "      <td>E330 - Acide citrique,E171 - Oxyde de titane,E...</td>\n",
       "      <td>4.0</td>\n",
       "    </tr>\n",
       "    <tr>\n",
       "      <th>195</th>\n",
       "      <td>en:e300</td>\n",
       "      <td>[ wheat-flour -&gt; en:wheat-flour  ]  [ flour -...</td>\n",
       "      <td>E300 - Acide ascorbique</td>\n",
       "      <td>1.0</td>\n",
       "    </tr>\n",
       "    <tr>\n",
       "      <th>196</th>\n",
       "      <td>en:e375,en:e101,en:e450</td>\n",
       "      <td>[ enriched-wheat-flour -&gt; en:enriched-wheat-f...</td>\n",
       "      <td>E375 - Acide nicotinique,E101 - Riboflavine,E4...</td>\n",
       "      <td>3.0</td>\n",
       "    </tr>\n",
       "    <tr>\n",
       "      <th>197</th>\n",
       "      <td>en:e375,en:e101,en:e516,en:e300,en:e200</td>\n",
       "      <td>[ enriched-wheat-flour -&gt; en:enriched-wheat-f...</td>\n",
       "      <td>E375 - Acide nicotinique,E101 - Riboflavine,E5...</td>\n",
       "      <td>5.0</td>\n",
       "    </tr>\n",
       "    <tr>\n",
       "      <th>198</th>\n",
       "      <td>en:e375,en:e101,en:e410</td>\n",
       "      <td>[ enriched-wheat-flour -&gt; en:enriched-wheat-f...</td>\n",
       "      <td>E375 - Acide nicotinique,E101 - Riboflavine,E4...</td>\n",
       "      <td>3.0</td>\n",
       "    </tr>\n",
       "  </tbody>\n",
       "</table>\n",
       "</div>"
      ],
      "text/plain": [
       "                                        additives_tags  \\\n",
       "7                                     en:e123,en:e307a   \n",
       "12                                             en:e100   \n",
       "21                                             en:e322   \n",
       "23                                  en:e339iii,en:e330   \n",
       "24                             en:e170,en:e322,en:e410   \n",
       "28                                             en:e100   \n",
       "29                                             en:e330   \n",
       "32                                             en:e322   \n",
       "33                                             en:e322   \n",
       "43                                             en:e322   \n",
       "47   en:e1422,en:e450,en:e481,en:e472e,en:e472b,en:...   \n",
       "62                            en:e422,en:e160b,en:e100   \n",
       "66                                             en:e101   \n",
       "68                                     en:e101,en:e375   \n",
       "70                                 en:e339iii,en:e341i   \n",
       "73                                             en:e375   \n",
       "80                                             en:e415   \n",
       "89                                             en:e322   \n",
       "99                                            en:e1510   \n",
       "100                                           en:e1510   \n",
       "104                                            en:e322   \n",
       "105                                            en:e322   \n",
       "106                                            en:e322   \n",
       "107                                  en:e322,en:e500ii   \n",
       "109                                    en:e101,en:e322   \n",
       "147                                            en:e220   \n",
       "150                                            en:e330   \n",
       "151          en:e322,en:e375,en:e101,en:e551,en:e500ii   \n",
       "153  en:e322,en:e170,en:e375,en:e500ii,en:e450,en:e...   \n",
       "154                 en:e330,en:e331iii,en:e955,en:e201   \n",
       "175  en:e170,en:e300,en:e1100,en:e203,en:e420,en:e4...   \n",
       "176                    en:e296,en:e330,en:e270,en:e170   \n",
       "180            en:e920,en:e330,en:e509,en:e211,en:e202   \n",
       "184                           en:e1400,en:e322,en:e503   \n",
       "185                            en:e316,en:e407,en:e235   \n",
       "189                    en:e330,en:e171,en:e211,en:e131   \n",
       "195                                            en:e300   \n",
       "196                            en:e375,en:e101,en:e450   \n",
       "197            en:e375,en:e101,en:e516,en:e300,en:e200   \n",
       "198                            en:e375,en:e101,en:e410   \n",
       "\n",
       "                                             additives  \\\n",
       "7     [ org-oats -> en:org-oats  ]  [ oats -> en:oa...   \n",
       "12    [ roasted-peanuts -> en:roasted-peanuts  ]  [...   \n",
       "21    [ chocolate-stars -> en:chocolate-stars  ]  [...   \n",
       "23    [ dry-roasted-almonds -> en:dry-roasted-almon...   \n",
       "24    [ peanut-butter -> en:peanut-butter  ]  [ but...   \n",
       "28    [ cashews -> en:cashews  ]  [ curry-seasoning...   \n",
       "29    [ almonds -> en:almonds  ]  [ wasabi-spice ->...   \n",
       "32    [ coconut-bar -> en:coconut-bar  ]  [ bar -> ...   \n",
       "33    [ organic-semi-sweet-chocolate-chips -> en:or...   \n",
       "43    [ dark-chocolate-coating -> en:dark-chocolate...   \n",
       "47    [ pasteurized-free-range-egg-sugar-blueberrie...   \n",
       "62    [ whole-rolled-oats -> en:whole-rolled-oats  ...   \n",
       "66    [ refined-enriched-durum-semolina-wheat -> en...   \n",
       "68    [ refined -> en:refined  ]  [ enriched-durum-...   \n",
       "70    [ wheat -> en:wheat  ]  [ rye -> en:rye  ]  [...   \n",
       "73    [ organic-refined-wheat-flour -> en:organic-r...   \n",
       "80    [ peanuts -> en:peanuts  ]  [ honey -> en:hon...   \n",
       "89    [ honey-roast-mixed-nuts -> en:honey-roast-mi...   \n",
       "99    [ water -> en:water  ]  [ organic-whole-soybe...   \n",
       "100   [ water -> en:water  ]  [ organic-whole-soybe...   \n",
       "104   [ figs -> en:figs  ]  [ stone-ground-whole-wh...   \n",
       "105   [ peanut-butter-chips -> en:peanut-butter-chi...   \n",
       "106   [ milk-chocolate-coating -> en:milk-chocolate...   \n",
       "107   [ peanut-butter-coating -> en:peanut-butter-c...   \n",
       "109   [ pretzels -> en:pretzels  ]  [ enriched-flou...   \n",
       "147   [ apricots -> en:apricots  ]  [ sulfur-dioxid...   \n",
       "150   [ dried-mango -> en:dried-mango  ]  [ mango -...   \n",
       "151   [ milk-chocolate -> en:milk-chocolate  ]  [ c...   \n",
       "153   [ milk-chocolate -> en:milk-chocolate  ]  [ c...   \n",
       "154   [ carbonated-water -> en:carbonated-water  ] ...   \n",
       "175   [ ingredients -> fr:ingredients  ]  [ pate ->...   \n",
       "176   [ sugar -> en:sugar  ]  [ glucose-syrup -> en...   \n",
       "180   [ ingredients -> fr:ingredients  ]  [ pate ->...   \n",
       "184   [ sucre -> fr:sucre  ]  [ farine-de-ble -> fr...   \n",
       "185   [ ingredients -> fr:ingredients  ]  [ garnitu...   \n",
       "189   [ sirop-saveur-pistache-5-cl -> fr:sirop-save...   \n",
       "195   [ wheat-flour -> en:wheat-flour  ]  [ flour -...   \n",
       "196   [ enriched-wheat-flour -> en:enriched-wheat-f...   \n",
       "197   [ enriched-wheat-flour -> en:enriched-wheat-f...   \n",
       "198   [ enriched-wheat-flour -> en:enriched-wheat-f...   \n",
       "\n",
       "                                          additives_fr  additives_n  \n",
       "7                   E123 - Amarante,E307a - Tocophérol          2.0  \n",
       "12                                    E100 - Curcumine          1.0  \n",
       "21                                   E322 - Lécithines          1.0  \n",
       "23   E339iii - Phosphate de sodium tribasique,E330 ...          2.0  \n",
       "24   E170 - Carbonate de calcium,E322 - Lécithines,...          3.0  \n",
       "28                                    E100 - Curcumine          1.0  \n",
       "29                               E330 - Acide citrique          1.0  \n",
       "32                                   E322 - Lécithines          1.0  \n",
       "33                                   E322 - Lécithines          1.0  \n",
       "43                                   E322 - Lécithines          1.0  \n",
       "47   E1422 - Adipate de diamidon acétylé,E450 - Sel...          6.0  \n",
       "62      E422 - Glycérol,E160b - Rocou,E100 - Curcumine          3.0  \n",
       "66                                  E101 - Riboflavine          1.0  \n",
       "68         E101 - Riboflavine,E375 - Acide nicotinique          2.0  \n",
       "70      E339iii - Phosphate de sodium tribasique,E341i          2.0  \n",
       "73                            E375 - Acide nicotinique          1.0  \n",
       "80                               E415 - Gomme xanthane          1.0  \n",
       "89                                   E322 - Lécithines          1.0  \n",
       "99                                     E1510 - Éthanol          1.0  \n",
       "100                                    E1510 - Éthanol          1.0  \n",
       "104                                  E322 - Lécithines          1.0  \n",
       "105                                  E322 - Lécithines          1.0  \n",
       "106                                  E322 - Lécithines          1.0  \n",
       "107  E322 - Lécithines,E500ii - Hydrogénocarbonate ...          2.0  \n",
       "109               E101 - Riboflavine,E322 - Lécithines          2.0  \n",
       "147                         E220 - Anhydride sulfureux          1.0  \n",
       "150                              E330 - Acide citrique          1.0  \n",
       "151  E322 - Lécithines,E375 - Acide nicotinique,E10...          5.0  \n",
       "153  E322 - Lécithines,E170 - Carbonate de calcium,...          8.0  \n",
       "154  E330 - Acide citrique,E331iii,E955 - Sucralose...          4.0  \n",
       "175  E170 - Carbonate de calcium,E300 - Acide ascor...         10.0  \n",
       "176  E296 - Acide malique,E330 - Acide citrique,E27...          4.0  \n",
       "180  E920 - L-Cystéine et ses chlorhydrates,E330 - ...          5.0  \n",
       "184  E1400 - Dextrines,E322 - Lécithines,E503 - Car...          3.0  \n",
       "185  E316 - Erythorbate de sodium,E407 - Carraghéna...          3.0  \n",
       "189  E330 - Acide citrique,E171 - Oxyde de titane,E...          4.0  \n",
       "195                            E300 - Acide ascorbique          1.0  \n",
       "196  E375 - Acide nicotinique,E101 - Riboflavine,E4...          3.0  \n",
       "197  E375 - Acide nicotinique,E101 - Riboflavine,E5...          5.0  \n",
       "198  E375 - Acide nicotinique,E101 - Riboflavine,E4...          3.0  "
      ]
     },
     "execution_count": 22,
     "metadata": {},
     "output_type": "execute_result"
    }
   ],
   "source": [
    "# 40 lignes des colonnes additifs, où aucune valeur nulle n'est présente\n",
    "\n",
    "df[additif].dropna(subset=additif, how='any').head(40)"
   ]
  },
  {
   "cell_type": "markdown",
   "id": "8c5262ac",
   "metadata": {},
   "source": [
    "'additives' fait redondance avec 'ingredient_text'\n",
    "\n",
    "'additives_tags' et 'additives_fr' semblent être similaire, mais additives_fr est en français.\n",
    "\n",
    "'additives_n' correspond au nombre d'additifs présents dans le produits.\n",
    "\n",
    "Comme caractéristiques secondaires, 'additives_fr' et 'additives_n' seront gardées."
   ]
  },
  {
   "cell_type": "code",
   "execution_count": 23,
   "id": "a33274f5",
   "metadata": {},
   "outputs": [],
   "source": [
    "caracteristiques_sec.append('additives_fr')\n",
    "caracteristiques_sec.append('additives_n')"
   ]
  },
  {
   "cell_type": "code",
   "execution_count": 24,
   "id": "8c48e09f",
   "metadata": {},
   "outputs": [
    {
     "data": {
      "text/html": [
       "<div>\n",
       "<style scoped>\n",
       "    .dataframe tbody tr th:only-of-type {\n",
       "        vertical-align: middle;\n",
       "    }\n",
       "\n",
       "    .dataframe tbody tr th {\n",
       "        vertical-align: top;\n",
       "    }\n",
       "\n",
       "    .dataframe thead th {\n",
       "        text-align: right;\n",
       "    }\n",
       "</style>\n",
       "<table border=\"1\" class=\"dataframe\">\n",
       "  <thead>\n",
       "    <tr style=\"text-align: right;\">\n",
       "      <th></th>\n",
       "      <th>ingredients_from_palm_oil_tags</th>\n",
       "    </tr>\n",
       "  </thead>\n",
       "  <tbody>\n",
       "    <tr>\n",
       "      <th>count</th>\n",
       "      <td>4835</td>\n",
       "    </tr>\n",
       "    <tr>\n",
       "      <th>unique</th>\n",
       "      <td>14</td>\n",
       "    </tr>\n",
       "    <tr>\n",
       "      <th>top</th>\n",
       "      <td>huile-de-palme</td>\n",
       "    </tr>\n",
       "    <tr>\n",
       "      <th>freq</th>\n",
       "      <td>4586</td>\n",
       "    </tr>\n",
       "  </tbody>\n",
       "</table>\n",
       "</div>"
      ],
      "text/plain": [
       "       ingredients_from_palm_oil_tags\n",
       "count                            4835\n",
       "unique                             14\n",
       "top                    huile-de-palme\n",
       "freq                             4586"
      ]
     },
     "execution_count": 24,
     "metadata": {},
     "output_type": "execute_result"
    }
   ],
   "source": [
    "# analyse de la liste huile_palme\n",
    "df[huile_palme].describe(include='object')"
   ]
  },
  {
   "cell_type": "code",
   "execution_count": 25,
   "id": "f148aa3e",
   "metadata": {
    "scrolled": true
   },
   "outputs": [
    {
     "data": {
      "text/html": [
       "<div>\n",
       "<style scoped>\n",
       "    .dataframe tbody tr th:only-of-type {\n",
       "        vertical-align: middle;\n",
       "    }\n",
       "\n",
       "    .dataframe tbody tr th {\n",
       "        vertical-align: top;\n",
       "    }\n",
       "\n",
       "    .dataframe thead th {\n",
       "        text-align: right;\n",
       "    }\n",
       "</style>\n",
       "<table border=\"1\" class=\"dataframe\">\n",
       "  <thead>\n",
       "    <tr style=\"text-align: right;\">\n",
       "      <th></th>\n",
       "      <th>ingredients_from_palm_oil_n</th>\n",
       "    </tr>\n",
       "  </thead>\n",
       "  <tbody>\n",
       "    <tr>\n",
       "      <th>count</th>\n",
       "      <td>248939.000000</td>\n",
       "    </tr>\n",
       "    <tr>\n",
       "      <th>mean</th>\n",
       "      <td>0.019659</td>\n",
       "    </tr>\n",
       "    <tr>\n",
       "      <th>std</th>\n",
       "      <td>0.140524</td>\n",
       "    </tr>\n",
       "    <tr>\n",
       "      <th>min</th>\n",
       "      <td>0.000000</td>\n",
       "    </tr>\n",
       "    <tr>\n",
       "      <th>25%</th>\n",
       "      <td>0.000000</td>\n",
       "    </tr>\n",
       "    <tr>\n",
       "      <th>50%</th>\n",
       "      <td>0.000000</td>\n",
       "    </tr>\n",
       "    <tr>\n",
       "      <th>75%</th>\n",
       "      <td>0.000000</td>\n",
       "    </tr>\n",
       "    <tr>\n",
       "      <th>max</th>\n",
       "      <td>2.000000</td>\n",
       "    </tr>\n",
       "  </tbody>\n",
       "</table>\n",
       "</div>"
      ],
      "text/plain": [
       "       ingredients_from_palm_oil_n\n",
       "count                248939.000000\n",
       "mean                      0.019659\n",
       "std                       0.140524\n",
       "min                       0.000000\n",
       "25%                       0.000000\n",
       "50%                       0.000000\n",
       "75%                       0.000000\n",
       "max                       2.000000"
      ]
     },
     "execution_count": 25,
     "metadata": {},
     "output_type": "execute_result"
    }
   ],
   "source": [
    "df[huile_palme].describe()"
   ]
  },
  {
   "cell_type": "code",
   "execution_count": 26,
   "id": "676bd09b",
   "metadata": {
    "scrolled": true
   },
   "outputs": [
    {
     "data": {
      "text/plain": [
       "ingredients_from_palm_oil_n\n",
       "0.0    244104\n",
       "1.0      4776\n",
       "2.0        59\n",
       "Name: count, dtype: int64"
      ]
     },
     "execution_count": 26,
     "metadata": {},
     "output_type": "execute_result"
    }
   ],
   "source": [
    "df['ingredients_from_palm_oil_n'].value_counts()"
   ]
  },
  {
   "cell_type": "markdown",
   "id": "36beb078",
   "metadata": {},
   "source": [
    "Trop peu de produits renseignés avec de l'huile de palme, pour éviter le bruit, non utilisations de ces données."
   ]
  },
  {
   "cell_type": "code",
   "execution_count": 27,
   "id": "3299f57d",
   "metadata": {
    "scrolled": true
   },
   "outputs": [],
   "source": [
    "df_2 = df[caracteristiques_princip + caracteristiques_sec]"
   ]
  },
  {
   "cell_type": "code",
   "execution_count": 28,
   "id": "211bccd4",
   "metadata": {},
   "outputs": [
    {
     "name": "stdout",
     "output_type": "stream",
     "text": [
      "Le nombre de colonnes restantes est de:  93\n"
     ]
    }
   ],
   "source": [
    "print('Le nombre de colonnes restantes est de: ', df_2.shape[1])"
   ]
  },
  {
   "cell_type": "code",
   "execution_count": 29,
   "id": "c64ad2df",
   "metadata": {},
   "outputs": [
    {
     "data": {
      "text/plain": [
       "<Axes: >"
      ]
     },
     "execution_count": 29,
     "metadata": {},
     "output_type": "execute_result"
    },
    {
     "data": {
      "image/png": "[encoded data removed]",
      "text/plain": [
       "<Figure size 640x480 with 2 Axes>"
      ]
     },
     "metadata": {},
     "output_type": "display_data"
    }
   ],
   "source": [
    "#visualisation des valeurs nulles / non nulles sur les colonnes restantes\n",
    "\n",
    "sns.heatmap(df_2.notna())"
   ]
  },
  {
   "cell_type": "markdown",
   "id": "554ad70f",
   "metadata": {},
   "source": [
    "Beaucoup de colonnes presque vides. Elles sont à supprimer."
   ]
  },
  {
   "cell_type": "code",
   "execution_count": 30,
   "id": "370724e4",
   "metadata": {},
   "outputs": [
    {
     "name": "stdout",
     "output_type": "stream",
     "text": [
      "70  colonnes avec plus de 90% de valeurs nulles.\n"
     ]
    }
   ],
   "source": [
    "#liste des colonnes avec plus de 90% de valeurs nulles\n",
    "\n",
    "colonnes_a_supprimer = df_2.columns[round(df_2.isna().mean()*100,1)> 90]\n",
    "print(len(colonnes_a_supprimer), ' colonnes avec plus de 90% de valeurs nulles.')"
   ]
  },
  {
   "cell_type": "code",
   "execution_count": 31,
   "id": "1aafd80a",
   "metadata": {},
   "outputs": [],
   "source": [
    "#suppression des colonnes à supprimer \n",
    "\n",
    "df_2 = df_2.drop(columns=colonnes_a_supprimer)"
   ]
  },
  {
   "cell_type": "code",
   "execution_count": 32,
   "id": "e71166da",
   "metadata": {},
   "outputs": [
    {
     "data": {
      "text/plain": [
       "<Axes: >"
      ]
     },
     "execution_count": 32,
     "metadata": {},
     "output_type": "execute_result"
    },
    {
     "data": {
      "image/png": "[encoded data removed]",
      "text/plain": [
       "<Figure size 640x480 with 2 Axes>"
      ]
     },
     "metadata": {},
     "output_type": "display_data"
    }
   ],
   "source": [
    "sns.heatmap(df_2.notna())"
   ]
  },
  {
   "cell_type": "code",
   "execution_count": 33,
   "id": "56da491a",
   "metadata": {},
   "outputs": [
    {
     "name": "stdout",
     "output_type": "stream",
     "text": [
      "Il reste  23  valeurs pertinentes.\n"
     ]
    }
   ],
   "source": [
    "print('Il reste ', df_2.shape[1], ' valeurs pertinentes.')"
   ]
  },
  {
   "cell_type": "code",
   "execution_count": 34,
   "id": "a8bf20cf",
   "metadata": {},
   "outputs": [],
   "source": [
    "#création d'un dataframe quantitatif\n",
    "\n",
    "df_quantitatif = pd.DataFrame()\n",
    "\n",
    "for colonne in df_2.columns:\n",
    "    if pd.api.types.is_numeric_dtype(df_2[colonne]):\n",
    "        df_quantitatif[colonne] = df_2[colonne]"
   ]
  },
  {
   "cell_type": "code",
   "execution_count": 35,
   "id": "6c7478ab",
   "metadata": {},
   "outputs": [],
   "source": [
    "#matrice de corrélation entre toutes les valeurs quantitatives restantes du dataframe\n",
    "\n",
    "matrice = df_quantitatif.corr()"
   ]
  },
  {
   "cell_type": "code",
   "execution_count": 36,
   "id": "dd9bc498",
   "metadata": {},
   "outputs": [],
   "source": [
    "#filtre pour identifier simplement les colonnes avec une corrélation supérieure à 0.7\n",
    "\n",
    "matrice_correlation_filtree = matrice.applymap(lambda x: x if abs(x) > 0.7 else np.nan)"
   ]
  },
  {
   "cell_type": "code",
   "execution_count": 37,
   "id": "83467747",
   "metadata": {},
   "outputs": [
    {
     "data": {
      "text/plain": [
       "<Axes: >"
      ]
     },
     "execution_count": 37,
     "metadata": {},
     "output_type": "execute_result"
    },
    {
     "data": {
      "image/png": "[encoded data removed]",
      "text/plain": [
       "<Figure size 640x480 with 2 Axes>"
      ]
     },
     "metadata": {},
     "output_type": "display_data"
    }
   ],
   "source": [
    "sns.heatmap(matrice_correlation_filtree)"
   ]
  },
  {
   "cell_type": "markdown",
   "id": "469de105",
   "metadata": {},
   "source": [
    "On remarque des corrélations élevées (voire totales) entre les colonnes suivantes:\n",
    " - salt_100g et sodium_100g\n",
    " - nutrition-score-fr_100g et nutrition-score-uk_100g\n",
    " \n",
    "Par choix arbitraire, les colonnes 'sodium_100g' et 'nutrition-score-uk_100g' sont supprimées."
   ]
  },
  {
   "cell_type": "code",
   "execution_count": 38,
   "id": "35bd220f",
   "metadata": {},
   "outputs": [],
   "source": [
    "df_2.drop(['sodium_100g', 'nutrition-score-uk_100g'], axis = 1, inplace = True)"
   ]
  },
  {
   "cell_type": "code",
   "execution_count": 39,
   "id": "346d32f7",
   "metadata": {},
   "outputs": [
    {
     "name": "stdout",
     "output_type": "stream",
     "text": [
      "Il reste  21  valeurs pertinentes.\n"
     ]
    }
   ],
   "source": [
    "print('Il reste ', df_2.shape[1], ' valeurs pertinentes.')"
   ]
  },
  {
   "cell_type": "markdown",
   "id": "8bd3ac4a",
   "metadata": {},
   "source": [
    "## Gestion des valeurs manquantes"
   ]
  },
  {
   "cell_type": "code",
   "execution_count": 85,
   "id": "0b371deb",
   "metadata": {},
   "outputs": [],
   "source": [
    "#fonction afficher le % de valeurs nulles pour les colonnes d'un dataframe\n",
    "\n",
    "def valeurNullesGraph(df):\n",
    "    \n",
    "    #pourcentage de valeurs non nulles par colonne\n",
    "    pourcentage_non_nulles = round(df.notna().mean() * 100,1).sort_values(ascending=False)\n",
    "\n",
    "    fig = px.bar(x=pourcentage_non_nulles.index,\n",
    "                 y=pourcentage_non_nulles.values,\n",
    "                 labels={'x': 'Colonnes', 'y': 'Pourcentage'},\n",
    "                 title='Pourcentage de valeurs non nulles par colonne',\n",
    "                 color=pourcentage_non_nulles.values,\n",
    "                color_continuous_scale='blues')\n",
    "\n",
    "    fig.update_xaxes(tickangle=45, tickmode='array')\n",
    "    fig.show()"
   ]
  },
  {
   "cell_type": "code",
   "execution_count": 86,
   "id": "cc6ee248",
   "metadata": {},
   "outputs": [
    {
     "data": {
      "application/vnd.plotly.v1+json": {
       "config": {
        "plotlyServerURL": "https://plot.ly"
       },
       "data": [
        {
         "alignmentgroup": "True",
         "hovertemplate": "Colonnes=%{x}<br>Pourcentage=%{y}<br>color=%{marker.color}<extra></extra>",
         "legendgroup": "",
         "marker": {
          "color": [
           100,
           95,
           95,
           95,
           95,
           95,
           95,
           95,
           95,
           95,
           95,
           81.6,
           72.1,
           50.7,
           47.5,
           47.2,
           46.5,
           46.4,
           46.3,
           45.3,
           27.5
          ],
          "coloraxis": "coloraxis",
          "pattern": {
           "shape": ""
          }
         },
         "name": "",
         "offsetgroup": "",
         "orientation": "v",
         "showlegend": false,
         "textposition": "auto",
         "type": "bar",
         "x": [
          "product_name",
          "carbohydrates_100g",
          "nutrition-score-fr_100g",
          "salt_100g",
          "fiber_100g",
          "sugars_100g",
          "proteins_100g",
          "saturated-fat_100g",
          "fat_100g",
          "energy_100g",
          "additives_n",
          "ingredients_text",
          "nutrition_grade_fr",
          "additives_fr",
          "cholesterol_100g",
          "trans-fat_100g",
          "calcium_100g",
          "vitamin-c_100g",
          "iron_100g",
          "vitamin-a_100g",
          "main_category_fr"
         ],
         "xaxis": "x",
         "y": [
          100,
          95,
          95,
          95,
          95,
          95,
          95,
          95,
          95,
          95,
          95,
          81.6,
          72.1,
          50.7,
          47.5,
          47.2,
          46.5,
          46.4,
          46.3,
          45.3,
          27.5
         ],
         "yaxis": "y"
        }
       ],
       "layout": {
        "barmode": "relative",
        "coloraxis": {
         "colorbar": {
          "title": {
           "text": "color"
          }
         },
         "colorscale": [
          [
           0,
           "rgb(247,251,255)"
          ],
          [
           0.125,
           "rgb(222,235,247)"
          ],
          [
           0.25,
           "rgb(198,219,239)"
          ],
          [
           0.375,
           "rgb(158,202,225)"
          ],
          [
           0.5,
           "rgb(107,174,214)"
          ],
          [
           0.625,
           "rgb(66,146,198)"
          ],
          [
           0.75,
           "rgb(33,113,181)"
          ],
          [
           0.875,
           "rgb(8,81,156)"
          ],
          [
           1,
           "rgb(8,48,107)"
          ]
         ]
        },
        "legend": {
         "tracegroupgap": 0
        },
        "template": {
         "data": {
          "bar": [
           {
            "error_x": {
             "color": "#2a3f5f"
            },
            "error_y": {
             "color": "#2a3f5f"
            },
            "marker": {
             "line": {
              "color": "#E5ECF6",
              "width": 0.5
             },
             "pattern": {
              "fillmode": "overlay",
              "size": 10,
              "solidity": 0.2
             }
            },
            "type": "bar"
           }
          ],
          "barpolar": [
           {
            "marker": {
             "line": {
              "color": "#E5ECF6",
              "width": 0.5
             },
             "pattern": {
              "fillmode": "overlay",
              "size": 10,
              "solidity": 0.2
             }
            },
            "type": "barpolar"
           }
          ],
          "carpet": [
           {
            "aaxis": {
             "endlinecolor": "#2a3f5f",
             "gridcolor": "white",
             "linecolor": "white",
             "minorgridcolor": "white",
             "startlinecolor": "#2a3f5f"
            },
            "baxis": {
             "endlinecolor": "#2a3f5f",
             "gridcolor": "white",
             "linecolor": "white",
             "minorgridcolor": "white",
             "startlinecolor": "#2a3f5f"
            },
            "type": "carpet"
           }
          ],
          "choropleth": [
           {
            "colorbar": {
             "outlinewidth": 0,
             "ticks": ""
            },
            "type": "choropleth"
           }
          ],
          "contour": [
           {
            "colorbar": {
             "outlinewidth": 0,
             "ticks": ""
            },
            "colorscale": [
             [
              0,
              "#0d0887"
             ],
             [
              0.1111111111111111,
              "#46039f"
             ],
             [
              0.2222222222222222,
              "#7201a8"
             ],
             [
              0.3333333333333333,
              "#9c179e"
             ],
             [
              0.4444444444444444,
              "#bd3786"
             ],
             [
              0.5555555555555556,
              "#d8576b"
             ],
             [
              0.6666666666666666,
              "#ed7953"
             ],
             [
              0.7777777777777778,
              "#fb9f3a"
             ],
             [
              0.8888888888888888,
              "#fdca26"
             ],
             [
              1,
              "#f0f921"
             ]
            ],
            "type": "contour"
           }
          ],
          "contourcarpet": [
           {
            "colorbar": {
             "outlinewidth": 0,
             "ticks": ""
            },
            "type": "contourcarpet"
           }
          ],
          "heatmap": [
           {
            "colorbar": {
             "outlinewidth": 0,
             "ticks": ""
            },
            "colorscale": [
             [
              0,
              "#0d0887"
             ],
             [
              0.1111111111111111,
              "#46039f"
             ],
             [
              0.2222222222222222,
              "#7201a8"
             ],
             [
              0.3333333333333333,
              "#9c179e"
             ],
             [
              0.4444444444444444,
              "#bd3786"
             ],
             [
              0.5555555555555556,
              "#d8576b"
             ],
             [
              0.6666666666666666,
              "#ed7953"
             ],
             [
              0.7777777777777778,
              "#fb9f3a"
             ],
             [
              0.8888888888888888,
              "#fdca26"
             ],
             [
              1,
              "#f0f921"
             ]
            ],
            "type": "heatmap"
           }
          ],
          "heatmapgl": [
           {
            "colorbar": {
             "outlinewidth": 0,
             "ticks": ""
            },
            "colorscale": [
             [
              0,
              "#0d0887"
             ],
             [
              0.1111111111111111,
              "#46039f"
             ],
             [
              0.2222222222222222,
              "#7201a8"
             ],
             [
              0.3333333333333333,
              "#9c179e"
             ],
             [
              0.4444444444444444,
              "#bd3786"
             ],
             [
              0.5555555555555556,
              "#d8576b"
             ],
             [
              0.6666666666666666,
              "#ed7953"
             ],
             [
              0.7777777777777778,
              "#fb9f3a"
             ],
             [
              0.8888888888888888,
              "#fdca26"
             ],
             [
              1,
              "#f0f921"
             ]
            ],
            "type": "heatmapgl"
           }
          ],
          "histogram": [
           {
            "marker": {
             "pattern": {
              "fillmode": "overlay",
              "size": 10,
              "solidity": 0.2
             }
            },
            "type": "histogram"
           }
          ],
          "histogram2d": [
           {
            "colorbar": {
             "outlinewidth": 0,
             "ticks": ""
            },
            "colorscale": [
             [
              0,
              "#0d0887"
             ],
             [
              0.1111111111111111,
              "#46039f"
             ],
             [
              0.2222222222222222,
              "#7201a8"
             ],
             [
              0.3333333333333333,
              "#9c179e"
             ],
             [
              0.4444444444444444,
              "#bd3786"
             ],
             [
              0.5555555555555556,
              "#d8576b"
             ],
             [
              0.6666666666666666,
              "#ed7953"
             ],
             [
              0.7777777777777778,
              "#fb9f3a"
             ],
             [
              0.8888888888888888,
              "#fdca26"
             ],
             [
              1,
              "#f0f921"
             ]
            ],
            "type": "histogram2d"
           }
          ],
          "histogram2dcontour": [
           {
            "colorbar": {
             "outlinewidth": 0,
             "ticks": ""
            },
            "colorscale": [
             [
              0,
              "#0d0887"
             ],
             [
              0.1111111111111111,
              "#46039f"
             ],
             [
              0.2222222222222222,
              "#7201a8"
             ],
             [
              0.3333333333333333,
              "#9c179e"
             ],
             [
              0.4444444444444444,
              "#bd3786"
             ],
             [
              0.5555555555555556,
              "#d8576b"
             ],
             [
              0.6666666666666666,
              "#ed7953"
             ],
             [
              0.7777777777777778,
              "#fb9f3a"
             ],
             [
              0.8888888888888888,
              "#fdca26"
             ],
             [
              1,
              "#f0f921"
             ]
            ],
            "type": "histogram2dcontour"
           }
          ],
          "mesh3d": [
           {
            "colorbar": {
             "outlinewidth": 0,
             "ticks": ""
            },
            "type": "mesh3d"
           }
          ],
          "parcoords": [
           {
            "line": {
             "colorbar": {
              "outlinewidth": 0,
              "ticks": ""
             }
            },
            "type": "parcoords"
           }
          ],
          "pie": [
           {
            "automargin": true,
            "type": "pie"
           }
          ],
          "scatter": [
           {
            "fillpattern": {
             "fillmode": "overlay",
             "size": 10,
             "solidity": 0.2
            },
            "type": "scatter"
           }
          ],
          "scatter3d": [
           {
            "line": {
             "colorbar": {
              "outlinewidth": 0,
              "ticks": ""
             }
            },
            "marker": {
             "colorbar": {
              "outlinewidth": 0,
              "ticks": ""
             }
            },
            "type": "scatter3d"
           }
          ],
          "scattercarpet": [
           {
            "marker": {
             "colorbar": {
              "outlinewidth": 0,
              "ticks": ""
             }
            },
            "type": "scattercarpet"
           }
          ],
          "scattergeo": [
           {
            "marker": {
             "colorbar": {
              "outlinewidth": 0,
              "ticks": ""
             }
            },
            "type": "scattergeo"
           }
          ],
          "scattergl": [
           {
            "marker": {
             "colorbar": {
              "outlinewidth": 0,
              "ticks": ""
             }
            },
            "type": "scattergl"
           }
          ],
          "scattermapbox": [
           {
            "marker": {
             "colorbar": {
              "outlinewidth": 0,
              "ticks": ""
             }
            },
            "type": "scattermapbox"
           }
          ],
          "scatterpolar": [
           {
            "marker": {
             "colorbar": {
              "outlinewidth": 0,
              "ticks": ""
             }
            },
            "type": "scatterpolar"
           }
          ],
          "scatterpolargl": [
           {
            "marker": {
             "colorbar": {
              "outlinewidth": 0,
              "ticks": ""
             }
            },
            "type": "scatterpolargl"
           }
          ],
          "scatterternary": [
           {
            "marker": {
             "colorbar": {
              "outlinewidth": 0,
              "ticks": ""
             }
            },
            "type": "scatterternary"
           }
          ],
          "surface": [
           {
            "colorbar": {
             "outlinewidth": 0,
             "ticks": ""
            },
            "colorscale": [
             [
              0,
              "#0d0887"
             ],
             [
              0.1111111111111111,
              "#46039f"
             ],
             [
              0.2222222222222222,
              "#7201a8"
             ],
             [
              0.3333333333333333,
              "#9c179e"
             ],
             [
              0.4444444444444444,
              "#bd3786"
             ],
             [
              0.5555555555555556,
              "#d8576b"
             ],
             [
              0.6666666666666666,
              "#ed7953"
             ],
             [
              0.7777777777777778,
              "#fb9f3a"
             ],
             [
              0.8888888888888888,
              "#fdca26"
             ],
             [
              1,
              "#f0f921"
             ]
            ],
            "type": "surface"
           }
          ],
          "table": [
           {
            "cells": {
             "fill": {
              "color": "#EBF0F8"
             },
             "line": {
              "color": "white"
             }
            },
            "header": {
             "fill": {
              "color": "#C8D4E3"
             },
             "line": {
              "color": "white"
             }
            },
            "type": "table"
           }
          ]
         },
         "layout": {
          "annotationdefaults": {
           "arrowcolor": "#2a3f5f",
           "arrowhead": 0,
           "arrowwidth": 1
          },
          "autotypenumbers": "strict",
          "coloraxis": {
           "colorbar": {
            "outlinewidth": 0,
            "ticks": ""
           }
          },
          "colorscale": {
           "diverging": [
            [
             0,
             "#8e0152"
            ],
            [
             0.1,
             "#c51b7d"
            ],
            [
             0.2,
             "#de77ae"
            ],
            [
             0.3,
             "#f1b6da"
            ],
            [
             0.4,
             "#fde0ef"
            ],
            [
             0.5,
             "#f7f7f7"
            ],
            [
             0.6,
             "#e6f5d0"
            ],
            [
             0.7,
             "#b8e186"
            ],
            [
             0.8,
             "#7fbc41"
            ],
            [
             0.9,
             "#4d9221"
            ],
            [
             1,
             "#276419"
            ]
           ],
           "sequential": [
            [
             0,
             "#0d0887"
            ],
            [
             0.1111111111111111,
             "#46039f"
            ],
            [
             0.2222222222222222,
             "#7201a8"
            ],
            [
             0.3333333333333333,
             "#9c179e"
            ],
            [
             0.4444444444444444,
             "#bd3786"
            ],
            [
             0.5555555555555556,
             "#d8576b"
            ],
            [
             0.6666666666666666,
             "#ed7953"
            ],
            [
             0.7777777777777778,
             "#fb9f3a"
            ],
            [
             0.8888888888888888,
             "#fdca26"
            ],
            [
             1,
             "#f0f921"
            ]
           ],
           "sequentialminus": [
            [
             0,
             "#0d0887"
            ],
            [
             0.1111111111111111,
             "#46039f"
            ],
            [
             0.2222222222222222,
             "#7201a8"
            ],
            [
             0.3333333333333333,
             "#9c179e"
            ],
            [
             0.4444444444444444,
             "#bd3786"
            ],
            [
             0.5555555555555556,
             "#d8576b"
            ],
            [
             0.6666666666666666,
             "#ed7953"
            ],
            [
             0.7777777777777778,
             "#fb9f3a"
            ],
            [
             0.8888888888888888,
             "#fdca26"
            ],
            [
             1,
             "#f0f921"
            ]
           ]
          },
          "colorway": [
           "#636efa",
           "#EF553B",
           "#00cc96",
           "#ab63fa",
           "#FFA15A",
           "#19d3f3",
           "#FF6692",
           "#B6E880",
           "#FF97FF",
           "#FECB52"
          ],
          "font": {
           "color": "#2a3f5f"
          },
          "geo": {
           "bgcolor": "white",
           "lakecolor": "white",
           "landcolor": "#E5ECF6",
           "showlakes": true,
           "showland": true,
           "subunitcolor": "white"
          },
          "hoverlabel": {
           "align": "left"
          },
          "hovermode": "closest",
          "mapbox": {
           "style": "light"
          },
          "paper_bgcolor": "white",
          "plot_bgcolor": "#E5ECF6",
          "polar": {
           "angularaxis": {
            "gridcolor": "white",
            "linecolor": "white",
            "ticks": ""
           },
           "bgcolor": "#E5ECF6",
           "radialaxis": {
            "gridcolor": "white",
            "linecolor": "white",
            "ticks": ""
           }
          },
          "scene": {
           "xaxis": {
            "backgroundcolor": "#E5ECF6",
            "gridcolor": "white",
            "gridwidth": 2,
            "linecolor": "white",
            "showbackground": true,
            "ticks": "",
            "zerolinecolor": "white"
           },
           "yaxis": {
            "backgroundcolor": "#E5ECF6",
            "gridcolor": "white",
            "gridwidth": 2,
            "linecolor": "white",
            "showbackground": true,
            "ticks": "",
            "zerolinecolor": "white"
           },
           "zaxis": {
            "backgroundcolor": "#E5ECF6",
            "gridcolor": "white",
            "gridwidth": 2,
            "linecolor": "white",
            "showbackground": true,
            "ticks": "",
            "zerolinecolor": "white"
           }
          },
          "shapedefaults": {
           "line": {
            "color": "#2a3f5f"
           }
          },
          "ternary": {
           "aaxis": {
            "gridcolor": "white",
            "linecolor": "white",
            "ticks": ""
           },
           "baxis": {
            "gridcolor": "white",
            "linecolor": "white",
            "ticks": ""
           },
           "bgcolor": "#E5ECF6",
           "caxis": {
            "gridcolor": "white",
            "linecolor": "white",
            "ticks": ""
           }
          },
          "title": {
           "x": 0.05
          },
          "xaxis": {
           "automargin": true,
           "gridcolor": "white",
           "linecolor": "white",
           "ticks": "",
           "title": {
            "standoff": 15
           },
           "zerolinecolor": "white",
           "zerolinewidth": 2
          },
          "yaxis": {
           "automargin": true,
           "gridcolor": "white",
           "linecolor": "white",
           "ticks": "",
           "title": {
            "standoff": 15
           },
           "zerolinecolor": "white",
           "zerolinewidth": 2
          }
         }
        },
        "title": {
         "text": "Pourcentage de valeurs non nulles par colonne"
        },
        "xaxis": {
         "anchor": "y",
         "domain": [
          0,
          1
         ],
         "tickangle": 45,
         "tickmode": "array",
         "title": {
          "text": "Colonnes"
         }
        },
        "yaxis": {
         "anchor": "x",
         "domain": [
          0,
          1
         ],
         "title": {
          "text": "Pourcentage"
         }
        }
       }
      },
      "text/html": [
       "<div>                            <div id=\"cf3532ea-37ad-483e-a693-86f159101fdb\" class=\"plotly-graph-div\" style=\"height:525px; width:100%;\"></div>            <script type=\"text/javascript\">                require([\"plotly\"], function(Plotly) {                    window.PLOTLYENV=window.PLOTLYENV || {};                                    if (document.getElementById(\"cf3532ea-37ad-483e-a693-86f159101fdb\")) {                    Plotly.newPlot(                        \"cf3532ea-37ad-483e-a693-86f159101fdb\",                        [{\"alignmentgroup\":\"True\",\"hovertemplate\":\"Colonnes=%{x}<br>Pourcentage=%{y}<br>color=%{marker.color}<extra></extra>\",\"legendgroup\":\"\",\"marker\":{\"color\":[100.0,95.0,95.0,95.0,95.0,95.0,95.0,95.0,95.0,95.0,95.0,81.6,72.1,50.7,47.5,47.2,46.5,46.4,46.3,45.3,27.5],\"coloraxis\":\"coloraxis\",\"pattern\":{\"shape\":\"\"}},\"name\":\"\",\"offsetgroup\":\"\",\"orientation\":\"v\",\"showlegend\":false,\"textposition\":\"auto\",\"x\":[\"product_name\",\"carbohydrates_100g\",\"nutrition-score-fr_100g\",\"salt_100g\",\"fiber_100g\",\"sugars_100g\",\"proteins_100g\",\"saturated-fat_100g\",\"fat_100g\",\"energy_100g\",\"additives_n\",\"ingredients_text\",\"nutrition_grade_fr\",\"additives_fr\",\"cholesterol_100g\",\"trans-fat_100g\",\"calcium_100g\",\"vitamin-c_100g\",\"iron_100g\",\"vitamin-a_100g\",\"main_category_fr\"],\"xaxis\":\"x\",\"y\":[100.0,95.0,95.0,95.0,95.0,95.0,95.0,95.0,95.0,95.0,95.0,81.6,72.1,50.7,47.5,47.2,46.5,46.4,46.3,45.3,27.5],\"yaxis\":\"y\",\"type\":\"bar\"}],                        {\"template\":{\"data\":{\"histogram2dcontour\":[{\"type\":\"histogram2dcontour\",\"colorbar\":{\"outlinewidth\":0,\"ticks\":\"\"},\"colorscale\":[[0.0,\"#0d0887\"],[0.1111111111111111,\"#46039f\"],[0.2222222222222222,\"#7201a8\"],[0.3333333333333333,\"#9c179e\"],[0.4444444444444444,\"#bd3786\"],[0.5555555555555556,\"#d8576b\"],[0.6666666666666666,\"#ed7953\"],[0.7777777777777778,\"#fb9f3a\"],[0.8888888888888888,\"#fdca26\"],[1.0,\"#f0f921\"]]}],\"choropleth\":[{\"type\":\"choropleth\",\"colorbar\":{\"outlinewidth\":0,\"ticks\":\"\"}}],\"histogram2d\":[{\"type\":\"histogram2d\",\"colorbar\":{\"outlinewidth\":0,\"ticks\":\"\"},\"colorscale\":[[0.0,\"#0d0887\"],[0.1111111111111111,\"#46039f\"],[0.2222222222222222,\"#7201a8\"],[0.3333333333333333,\"#9c179e\"],[0.4444444444444444,\"#bd3786\"],[0.5555555555555556,\"#d8576b\"],[0.6666666666666666,\"#ed7953\"],[0.7777777777777778,\"#fb9f3a\"],[0.8888888888888888,\"#fdca26\"],[1.0,\"#f0f921\"]]}],\"heatmap\":[{\"type\":\"heatmap\",\"colorbar\":{\"outlinewidth\":0,\"ticks\":\"\"},\"colorscale\":[[0.0,\"#0d0887\"],[0.1111111111111111,\"#46039f\"],[0.2222222222222222,\"#7201a8\"],[0.3333333333333333,\"#9c179e\"],[0.4444444444444444,\"#bd3786\"],[0.5555555555555556,\"#d8576b\"],[0.6666666666666666,\"#ed7953\"],[0.7777777777777778,\"#fb9f3a\"],[0.8888888888888888,\"#fdca26\"],[1.0,\"#f0f921\"]]}],\"heatmapgl\":[{\"type\":\"heatmapgl\",\"colorbar\":{\"outlinewidth\":0,\"ticks\":\"\"},\"colorscale\":[[0.0,\"#0d0887\"],[0.1111111111111111,\"#46039f\"],[0.2222222222222222,\"#7201a8\"],[0.3333333333333333,\"#9c179e\"],[0.4444444444444444,\"#bd3786\"],[0.5555555555555556,\"#d8576b\"],[0.6666666666666666,\"#ed7953\"],[0.7777777777777778,\"#fb9f3a\"],[0.8888888888888888,\"#fdca26\"],[1.0,\"#f0f921\"]]}],\"contourcarpet\":[{\"type\":\"contourcarpet\",\"colorbar\":{\"outlinewidth\":0,\"ticks\":\"\"}}],\"contour\":[{\"type\":\"contour\",\"colorbar\":{\"outlinewidth\":0,\"ticks\":\"\"},\"colorscale\":[[0.0,\"#0d0887\"],[0.1111111111111111,\"#46039f\"],[0.2222222222222222,\"#7201a8\"],[0.3333333333333333,\"#9c179e\"],[0.4444444444444444,\"#bd3786\"],[0.5555555555555556,\"#d8576b\"],[0.6666666666666666,\"#ed7953\"],[0.7777777777777778,\"#fb9f3a\"],[0.8888888888888888,\"#fdca26\"],[1.0,\"#f0f921\"]]}],\"surface\":[{\"type\":\"surface\",\"colorbar\":{\"outlinewidth\":0,\"ticks\":\"\"},\"colorscale\":[[0.0,\"#0d0887\"],[0.1111111111111111,\"#46039f\"],[0.2222222222222222,\"#7201a8\"],[0.3333333333333333,\"#9c179e\"],[0.4444444444444444,\"#bd3786\"],[0.5555555555555556,\"#d8576b\"],[0.6666666666666666,\"#ed7953\"],[0.7777777777777778,\"#fb9f3a\"],[0.8888888888888888,\"#fdca26\"],[1.0,\"#f0f921\"]]}],\"mesh3d\":[{\"type\":\"mesh3d\",\"colorbar\":{\"outlinewidth\":0,\"ticks\":\"\"}}],\"scatter\":[{\"fillpattern\":{\"fillmode\":\"overlay\",\"size\":10,\"solidity\":0.2},\"type\":\"scatter\"}],\"parcoords\":[{\"type\":\"parcoords\",\"line\":{\"colorbar\":{\"outlinewidth\":0,\"ticks\":\"\"}}}],\"scatterpolargl\":[{\"type\":\"scatterpolargl\",\"marker\":{\"colorbar\":{\"outlinewidth\":0,\"ticks\":\"\"}}}],\"bar\":[{\"error_x\":{\"color\":\"#2a3f5f\"},\"error_y\":{\"color\":\"#2a3f5f\"},\"marker\":{\"line\":{\"color\":\"#E5ECF6\",\"width\":0.5},\"pattern\":{\"fillmode\":\"overlay\",\"size\":10,\"solidity\":0.2}},\"type\":\"bar\"}],\"scattergeo\":[{\"type\":\"scattergeo\",\"marker\":{\"colorbar\":{\"outlinewidth\":0,\"ticks\":\"\"}}}],\"scatterpolar\":[{\"type\":\"scatterpolar\",\"marker\":{\"colorbar\":{\"outlinewidth\":0,\"ticks\":\"\"}}}],\"histogram\":[{\"marker\":{\"pattern\":{\"fillmode\":\"overlay\",\"size\":10,\"solidity\":0.2}},\"type\":\"histogram\"}],\"scattergl\":[{\"type\":\"scattergl\",\"marker\":{\"colorbar\":{\"outlinewidth\":0,\"ticks\":\"\"}}}],\"scatter3d\":[{\"type\":\"scatter3d\",\"line\":{\"colorbar\":{\"outlinewidth\":0,\"ticks\":\"\"}},\"marker\":{\"colorbar\":{\"outlinewidth\":0,\"ticks\":\"\"}}}],\"scattermapbox\":[{\"type\":\"scattermapbox\",\"marker\":{\"colorbar\":{\"outlinewidth\":0,\"ticks\":\"\"}}}],\"scatterternary\":[{\"type\":\"scatterternary\",\"marker\":{\"colorbar\":{\"outlinewidth\":0,\"ticks\":\"\"}}}],\"scattercarpet\":[{\"type\":\"scattercarpet\",\"marker\":{\"colorbar\":{\"outlinewidth\":0,\"ticks\":\"\"}}}],\"carpet\":[{\"aaxis\":{\"endlinecolor\":\"#2a3f5f\",\"gridcolor\":\"white\",\"linecolor\":\"white\",\"minorgridcolor\":\"white\",\"startlinecolor\":\"#2a3f5f\"},\"baxis\":{\"endlinecolor\":\"#2a3f5f\",\"gridcolor\":\"white\",\"linecolor\":\"white\",\"minorgridcolor\":\"white\",\"startlinecolor\":\"#2a3f5f\"},\"type\":\"carpet\"}],\"table\":[{\"cells\":{\"fill\":{\"color\":\"#EBF0F8\"},\"line\":{\"color\":\"white\"}},\"header\":{\"fill\":{\"color\":\"#C8D4E3\"},\"line\":{\"color\":\"white\"}},\"type\":\"table\"}],\"barpolar\":[{\"marker\":{\"line\":{\"color\":\"#E5ECF6\",\"width\":0.5},\"pattern\":{\"fillmode\":\"overlay\",\"size\":10,\"solidity\":0.2}},\"type\":\"barpolar\"}],\"pie\":[{\"automargin\":true,\"type\":\"pie\"}]},\"layout\":{\"autotypenumbers\":\"strict\",\"colorway\":[\"#636efa\",\"#EF553B\",\"#00cc96\",\"#ab63fa\",\"#FFA15A\",\"#19d3f3\",\"#FF6692\",\"#B6E880\",\"#FF97FF\",\"#FECB52\"],\"font\":{\"color\":\"#2a3f5f\"},\"hovermode\":\"closest\",\"hoverlabel\":{\"align\":\"left\"},\"paper_bgcolor\":\"white\",\"plot_bgcolor\":\"#E5ECF6\",\"polar\":{\"bgcolor\":\"#E5ECF6\",\"angularaxis\":{\"gridcolor\":\"white\",\"linecolor\":\"white\",\"ticks\":\"\"},\"radialaxis\":{\"gridcolor\":\"white\",\"linecolor\":\"white\",\"ticks\":\"\"}},\"ternary\":{\"bgcolor\":\"#E5ECF6\",\"aaxis\":{\"gridcolor\":\"white\",\"linecolor\":\"white\",\"ticks\":\"\"},\"baxis\":{\"gridcolor\":\"white\",\"linecolor\":\"white\",\"ticks\":\"\"},\"caxis\":{\"gridcolor\":\"white\",\"linecolor\":\"white\",\"ticks\":\"\"}},\"coloraxis\":{\"colorbar\":{\"outlinewidth\":0,\"ticks\":\"\"}},\"colorscale\":{\"sequential\":[[0.0,\"#0d0887\"],[0.1111111111111111,\"#46039f\"],[0.2222222222222222,\"#7201a8\"],[0.3333333333333333,\"#9c179e\"],[0.4444444444444444,\"#bd3786\"],[0.5555555555555556,\"#d8576b\"],[0.6666666666666666,\"#ed7953\"],[0.7777777777777778,\"#fb9f3a\"],[0.8888888888888888,\"#fdca26\"],[1.0,\"#f0f921\"]],\"sequentialminus\":[[0.0,\"#0d0887\"],[0.1111111111111111,\"#46039f\"],[0.2222222222222222,\"#7201a8\"],[0.3333333333333333,\"#9c179e\"],[0.4444444444444444,\"#bd3786\"],[0.5555555555555556,\"#d8576b\"],[0.6666666666666666,\"#ed7953\"],[0.7777777777777778,\"#fb9f3a\"],[0.8888888888888888,\"#fdca26\"],[1.0,\"#f0f921\"]],\"diverging\":[[0,\"#8e0152\"],[0.1,\"#c51b7d\"],[0.2,\"#de77ae\"],[0.3,\"#f1b6da\"],[0.4,\"#fde0ef\"],[0.5,\"#f7f7f7\"],[0.6,\"#e6f5d0\"],[0.7,\"#b8e186\"],[0.8,\"#7fbc41\"],[0.9,\"#4d9221\"],[1,\"#276419\"]]},\"xaxis\":{\"gridcolor\":\"white\",\"linecolor\":\"white\",\"ticks\":\"\",\"title\":{\"standoff\":15},\"zerolinecolor\":\"white\",\"automargin\":true,\"zerolinewidth\":2},\"yaxis\":{\"gridcolor\":\"white\",\"linecolor\":\"white\",\"ticks\":\"\",\"title\":{\"standoff\":15},\"zerolinecolor\":\"white\",\"automargin\":true,\"zerolinewidth\":2},\"scene\":{\"xaxis\":{\"backgroundcolor\":\"#E5ECF6\",\"gridcolor\":\"white\",\"linecolor\":\"white\",\"showbackground\":true,\"ticks\":\"\",\"zerolinecolor\":\"white\",\"gridwidth\":2},\"yaxis\":{\"backgroundcolor\":\"#E5ECF6\",\"gridcolor\":\"white\",\"linecolor\":\"white\",\"showbackground\":true,\"ticks\":\"\",\"zerolinecolor\":\"white\",\"gridwidth\":2},\"zaxis\":{\"backgroundcolor\":\"#E5ECF6\",\"gridcolor\":\"white\",\"linecolor\":\"white\",\"showbackground\":true,\"ticks\":\"\",\"zerolinecolor\":\"white\",\"gridwidth\":2}},\"shapedefaults\":{\"line\":{\"color\":\"#2a3f5f\"}},\"annotationdefaults\":{\"arrowcolor\":\"#2a3f5f\",\"arrowhead\":0,\"arrowwidth\":1},\"geo\":{\"bgcolor\":\"white\",\"landcolor\":\"#E5ECF6\",\"subunitcolor\":\"white\",\"showland\":true,\"showlakes\":true,\"lakecolor\":\"white\"},\"title\":{\"x\":0.05},\"mapbox\":{\"style\":\"light\"}}},\"xaxis\":{\"anchor\":\"y\",\"domain\":[0.0,1.0],\"title\":{\"text\":\"Colonnes\"},\"tickangle\":45,\"tickmode\":\"array\"},\"yaxis\":{\"anchor\":\"x\",\"domain\":[0.0,1.0],\"title\":{\"text\":\"Pourcentage\"}},\"coloraxis\":{\"colorbar\":{\"title\":{\"text\":\"color\"}},\"colorscale\":[[0.0,\"rgb(247,251,255)\"],[0.125,\"rgb(222,235,247)\"],[0.25,\"rgb(198,219,239)\"],[0.375,\"rgb(158,202,225)\"],[0.5,\"rgb(107,174,214)\"],[0.625,\"rgb(66,146,198)\"],[0.75,\"rgb(33,113,181)\"],[0.875,\"rgb(8,81,156)\"],[1.0,\"rgb(8,48,107)\"]]},\"legend\":{\"tracegroupgap\":0},\"title\":{\"text\":\"Pourcentage de valeurs non nulles par colonne\"},\"barmode\":\"relative\"},                        {\"responsive\": true}                    ).then(function(){\n",
       "                            \n",
       "var gd = document.getElementById('cf3532ea-37ad-483e-a693-86f159101fdb');\n",
       "var x = new MutationObserver(function (mutations, observer) {{\n",
       "        var display = window.getComputedStyle(gd).display;\n",
       "        if (!display || display === 'none') {{\n",
       "            console.log([gd, 'removed!']);\n",
       "            Plotly.purge(gd);\n",
       "            observer.disconnect();\n",
       "        }}\n",
       "}});\n",
       "\n",
       "// Listen for the removal of the full notebook cells\n",
       "var notebookContainer = gd.closest('#notebook-container');\n",
       "if (notebookContainer) {{\n",
       "    x.observe(notebookContainer, {childList: true});\n",
       "}}\n",
       "\n",
       "// Listen for the clearing of the current output cell\n",
       "var outputEl = gd.closest('.output');\n",
       "if (outputEl) {{\n",
       "    x.observe(outputEl, {childList: true});\n",
       "}}\n",
       "\n",
       "                        })                };                });            </script>        </div>"
      ]
     },
     "metadata": {},
     "output_type": "display_data"
    }
   ],
   "source": [
    "valeurNullesGraph(df_2)"
   ]
  },
  {
   "cell_type": "markdown",
   "id": "a7633195",
   "metadata": {},
   "source": [
    "Séparation des colonnes en 3 groupes distincts afin de traiter leurs données manquantes séparémment\n",
    " - Catégorie 1 : valeurs catégorielles\n",
    " - Catégorie 2 : valeurs quantitatives > 50% de not na\n",
    " - Catégorie 3 : valeurs quantitatives < 50% de not na"
   ]
  },
  {
   "cell_type": "code",
   "execution_count": 42,
   "id": "df6153b4",
   "metadata": {},
   "outputs": [],
   "source": [
    "quali = ['product_name', 'ingredients_text', 'nutrition_grade_fr', 'main_category_fr',\n",
    "       'additives_fr']\n",
    "quanti1 = ['energy_100g', 'proteins_100g', 'salt_100g', 'additives_n',\n",
    "       'sugars_100g', 'fat_100g', 'carbohydrates_100g', 'saturated-fat_100g', \n",
    "       'nutrition-score-fr_100g','fiber_100g']\n",
    "quanti2 = ['cholesterol_100g', 'trans-fat_100g', 'calcium_100g', 'vitamin-c_100g',\n",
    "       'iron_100g', 'vitamin-a_100g']"
   ]
  },
  {
   "cell_type": "code",
   "execution_count": 43,
   "id": "1de559ec",
   "metadata": {},
   "outputs": [],
   "source": [
    "df_2.dropna(subset=['product_name'], inplace=True)"
   ]
  },
  {
   "cell_type": "code",
   "execution_count": 72,
   "id": "f20a72a4",
   "metadata": {},
   "outputs": [
    {
     "data": {
      "application/vnd.plotly.v1+json": {
       "config": {
        "plotlyServerURL": "https://plot.ly"
       },
       "data": [
        {
         "alignmentgroup": "True",
         "hovertemplate": "Colonnes=%{x}<br>Pourcentage=%{y}<br>color=%{marker.color}<extra></extra>",
         "legendgroup": "",
         "marker": {
          "color": [
           100,
           85.1,
           84.7,
           83.3,
           81.6,
           81.5,
           79.8,
           79.4,
           79.3,
           74.8,
           72.1,
           72.1,
           65.5,
           50.7,
           47.5,
           47.2,
           46.5,
           46.4,
           46.3,
           45.3,
           27.5
          ],
          "coloraxis": "coloraxis",
          "pattern": {
           "shape": ""
          }
         },
         "name": "",
         "offsetgroup": "",
         "orientation": "v",
         "showlegend": false,
         "textposition": "auto",
         "type": "bar",
         "x": [
          "product_name",
          "energy_100g",
          "proteins_100g",
          "salt_100g",
          "ingredients_text",
          "additives_n",
          "sugars_100g",
          "fat_100g",
          "carbohydrates_100g",
          "saturated-fat_100g",
          "nutrition_grade_fr",
          "nutrition-score-fr_100g",
          "fiber_100g",
          "additives_fr",
          "cholesterol_100g",
          "trans-fat_100g",
          "calcium_100g",
          "vitamin-c_100g",
          "iron_100g",
          "vitamin-a_100g",
          "main_category_fr"
         ],
         "xaxis": "x",
         "y": [
          100,
          85.1,
          84.7,
          83.3,
          81.6,
          81.5,
          79.8,
          79.4,
          79.3,
          74.8,
          72.1,
          72.1,
          65.5,
          50.7,
          47.5,
          47.2,
          46.5,
          46.4,
          46.3,
          45.3,
          27.5
         ],
         "yaxis": "y"
        }
       ],
       "layout": {
        "barmode": "relative",
        "coloraxis": {
         "colorbar": {
          "title": {
           "text": "color"
          }
         },
         "colorscale": [
          [
           0,
           "rgb(247,251,255)"
          ],
          [
           0.125,
           "rgb(222,235,247)"
          ],
          [
           0.25,
           "rgb(198,219,239)"
          ],
          [
           0.375,
           "rgb(158,202,225)"
          ],
          [
           0.5,
           "rgb(107,174,214)"
          ],
          [
           0.625,
           "rgb(66,146,198)"
          ],
          [
           0.75,
           "rgb(33,113,181)"
          ],
          [
           0.875,
           "rgb(8,81,156)"
          ],
          [
           1,
           "rgb(8,48,107)"
          ]
         ]
        },
        "legend": {
         "tracegroupgap": 0
        },
        "template": {
         "data": {
          "bar": [
           {
            "error_x": {
             "color": "#2a3f5f"
            },
            "error_y": {
             "color": "#2a3f5f"
            },
            "marker": {
             "line": {
              "color": "#E5ECF6",
              "width": 0.5
             },
             "pattern": {
              "fillmode": "overlay",
              "size": 10,
              "solidity": 0.2
             }
            },
            "type": "bar"
           }
          ],
          "barpolar": [
           {
            "marker": {
             "line": {
              "color": "#E5ECF6",
              "width": 0.5
             },
             "pattern": {
              "fillmode": "overlay",
              "size": 10,
              "solidity": 0.2
             }
            },
            "type": "barpolar"
           }
          ],
          "carpet": [
           {
            "aaxis": {
             "endlinecolor": "#2a3f5f",
             "gridcolor": "white",
             "linecolor": "white",
             "minorgridcolor": "white",
             "startlinecolor": "#2a3f5f"
            },
            "baxis": {
             "endlinecolor": "#2a3f5f",
             "gridcolor": "white",
             "linecolor": "white",
             "minorgridcolor": "white",
             "startlinecolor": "#2a3f5f"
            },
            "type": "carpet"
           }
          ],
          "choropleth": [
           {
            "colorbar": {
             "outlinewidth": 0,
             "ticks": ""
            },
            "type": "choropleth"
           }
          ],
          "contour": [
           {
            "colorbar": {
             "outlinewidth": 0,
             "ticks": ""
            },
            "colorscale": [
             [
              0,
              "#0d0887"
             ],
             [
              0.1111111111111111,
              "#46039f"
             ],
             [
              0.2222222222222222,
              "#7201a8"
             ],
             [
              0.3333333333333333,
              "#9c179e"
             ],
             [
              0.4444444444444444,
              "#bd3786"
             ],
             [
              0.5555555555555556,
              "#d8576b"
             ],
             [
              0.6666666666666666,
              "#ed7953"
             ],
             [
              0.7777777777777778,
              "#fb9f3a"
             ],
             [
              0.8888888888888888,
              "#fdca26"
             ],
             [
              1,
              "#f0f921"
             ]
            ],
            "type": "contour"
           }
          ],
          "contourcarpet": [
           {
            "colorbar": {
             "outlinewidth": 0,
             "ticks": ""
            },
            "type": "contourcarpet"
           }
          ],
          "heatmap": [
           {
            "colorbar": {
             "outlinewidth": 0,
             "ticks": ""
            },
            "colorscale": [
             [
              0,
              "#0d0887"
             ],
             [
              0.1111111111111111,
              "#46039f"
             ],
             [
              0.2222222222222222,
              "#7201a8"
             ],
             [
              0.3333333333333333,
              "#9c179e"
             ],
             [
              0.4444444444444444,
              "#bd3786"
             ],
             [
              0.5555555555555556,
              "#d8576b"
             ],
             [
              0.6666666666666666,
              "#ed7953"
             ],
             [
              0.7777777777777778,
              "#fb9f3a"
             ],
             [
              0.8888888888888888,
              "#fdca26"
             ],
             [
              1,
              "#f0f921"
             ]
            ],
            "type": "heatmap"
           }
          ],
          "heatmapgl": [
           {
            "colorbar": {
             "outlinewidth": 0,
             "ticks": ""
            },
            "colorscale": [
             [
              0,
              "#0d0887"
             ],
             [
              0.1111111111111111,
              "#46039f"
             ],
             [
              0.2222222222222222,
              "#7201a8"
             ],
             [
              0.3333333333333333,
              "#9c179e"
             ],
             [
              0.4444444444444444,
              "#bd3786"
             ],
             [
              0.5555555555555556,
              "#d8576b"
             ],
             [
              0.6666666666666666,
              "#ed7953"
             ],
             [
              0.7777777777777778,
              "#fb9f3a"
             ],
             [
              0.8888888888888888,
              "#fdca26"
             ],
             [
              1,
              "#f0f921"
             ]
            ],
            "type": "heatmapgl"
           }
          ],
          "histogram": [
           {
            "marker": {
             "pattern": {
              "fillmode": "overlay",
              "size": 10,
              "solidity": 0.2
             }
            },
            "type": "histogram"
           }
          ],
          "histogram2d": [
           {
            "colorbar": {
             "outlinewidth": 0,
             "ticks": ""
            },
            "colorscale": [
             [
              0,
              "#0d0887"
             ],
             [
              0.1111111111111111,
              "#46039f"
             ],
             [
              0.2222222222222222,
              "#7201a8"
             ],
             [
              0.3333333333333333,
              "#9c179e"
             ],
             [
              0.4444444444444444,
              "#bd3786"
             ],
             [
              0.5555555555555556,
              "#d8576b"
             ],
             [
              0.6666666666666666,
              "#ed7953"
             ],
             [
              0.7777777777777778,
              "#fb9f3a"
             ],
             [
              0.8888888888888888,
              "#fdca26"
             ],
             [
              1,
              "#f0f921"
             ]
            ],
            "type": "histogram2d"
           }
          ],
          "histogram2dcontour": [
           {
            "colorbar": {
             "outlinewidth": 0,
             "ticks": ""
            },
            "colorscale": [
             [
              0,
              "#0d0887"
             ],
             [
              0.1111111111111111,
              "#46039f"
             ],
             [
              0.2222222222222222,
              "#7201a8"
             ],
             [
              0.3333333333333333,
              "#9c179e"
             ],
             [
              0.4444444444444444,
              "#bd3786"
             ],
             [
              0.5555555555555556,
              "#d8576b"
             ],
             [
              0.6666666666666666,
              "#ed7953"
             ],
             [
              0.7777777777777778,
              "#fb9f3a"
             ],
             [
              0.8888888888888888,
              "#fdca26"
             ],
             [
              1,
              "#f0f921"
             ]
            ],
            "type": "histogram2dcontour"
           }
          ],
          "mesh3d": [
           {
            "colorbar": {
             "outlinewidth": 0,
             "ticks": ""
            },
            "type": "mesh3d"
           }
          ],
          "parcoords": [
           {
            "line": {
             "colorbar": {
              "outlinewidth": 0,
              "ticks": ""
             }
            },
            "type": "parcoords"
           }
          ],
          "pie": [
           {
            "automargin": true,
            "type": "pie"
           }
          ],
          "scatter": [
           {
            "fillpattern": {
             "fillmode": "overlay",
             "size": 10,
             "solidity": 0.2
            },
            "type": "scatter"
           }
          ],
          "scatter3d": [
           {
            "line": {
             "colorbar": {
              "outlinewidth": 0,
              "ticks": ""
             }
            },
            "marker": {
             "colorbar": {
              "outlinewidth": 0,
              "ticks": ""
             }
            },
            "type": "scatter3d"
           }
          ],
          "scattercarpet": [
           {
            "marker": {
             "colorbar": {
              "outlinewidth": 0,
              "ticks": ""
             }
            },
            "type": "scattercarpet"
           }
          ],
          "scattergeo": [
           {
            "marker": {
             "colorbar": {
              "outlinewidth": 0,
              "ticks": ""
             }
            },
            "type": "scattergeo"
           }
          ],
          "scattergl": [
           {
            "marker": {
             "colorbar": {
              "outlinewidth": 0,
              "ticks": ""
             }
            },
            "type": "scattergl"
           }
          ],
          "scattermapbox": [
           {
            "marker": {
             "colorbar": {
              "outlinewidth": 0,
              "ticks": ""
             }
            },
            "type": "scattermapbox"
           }
          ],
          "scatterpolar": [
           {
            "marker": {
             "colorbar": {
              "outlinewidth": 0,
              "ticks": ""
             }
            },
            "type": "scatterpolar"
           }
          ],
          "scatterpolargl": [
           {
            "marker": {
             "colorbar": {
              "outlinewidth": 0,
              "ticks": ""
             }
            },
            "type": "scatterpolargl"
           }
          ],
          "scatterternary": [
           {
            "marker": {
             "colorbar": {
              "outlinewidth": 0,
              "ticks": ""
             }
            },
            "type": "scatterternary"
           }
          ],
          "surface": [
           {
            "colorbar": {
             "outlinewidth": 0,
             "ticks": ""
            },
            "colorscale": [
             [
              0,
              "#0d0887"
             ],
             [
              0.1111111111111111,
              "#46039f"
             ],
             [
              0.2222222222222222,
              "#7201a8"
             ],
             [
              0.3333333333333333,
              "#9c179e"
             ],
             [
              0.4444444444444444,
              "#bd3786"
             ],
             [
              0.5555555555555556,
              "#d8576b"
             ],
             [
              0.6666666666666666,
              "#ed7953"
             ],
             [
              0.7777777777777778,
              "#fb9f3a"
             ],
             [
              0.8888888888888888,
              "#fdca26"
             ],
             [
              1,
              "#f0f921"
             ]
            ],
            "type": "surface"
           }
          ],
          "table": [
           {
            "cells": {
             "fill": {
              "color": "#EBF0F8"
             },
             "line": {
              "color": "white"
             }
            },
            "header": {
             "fill": {
              "color": "#C8D4E3"
             },
             "line": {
              "color": "white"
             }
            },
            "type": "table"
           }
          ]
         },
         "layout": {
          "annotationdefaults": {
           "arrowcolor": "#2a3f5f",
           "arrowhead": 0,
           "arrowwidth": 1
          },
          "autotypenumbers": "strict",
          "coloraxis": {
           "colorbar": {
            "outlinewidth": 0,
            "ticks": ""
           }
          },
          "colorscale": {
           "diverging": [
            [
             0,
             "#8e0152"
            ],
            [
             0.1,
             "#c51b7d"
            ],
            [
             0.2,
             "#de77ae"
            ],
            [
             0.3,
             "#f1b6da"
            ],
            [
             0.4,
             "#fde0ef"
            ],
            [
             0.5,
             "#f7f7f7"
            ],
            [
             0.6,
             "#e6f5d0"
            ],
            [
             0.7,
             "#b8e186"
            ],
            [
             0.8,
             "#7fbc41"
            ],
            [
             0.9,
             "#4d9221"
            ],
            [
             1,
             "#276419"
            ]
           ],
           "sequential": [
            [
             0,
             "#0d0887"
            ],
            [
             0.1111111111111111,
             "#46039f"
            ],
            [
             0.2222222222222222,
             "#7201a8"
            ],
            [
             0.3333333333333333,
             "#9c179e"
            ],
            [
             0.4444444444444444,
             "#bd3786"
            ],
            [
             0.5555555555555556,
             "#d8576b"
            ],
            [
             0.6666666666666666,
             "#ed7953"
            ],
            [
             0.7777777777777778,
             "#fb9f3a"
            ],
            [
             0.8888888888888888,
             "#fdca26"
            ],
            [
             1,
             "#f0f921"
            ]
           ],
           "sequentialminus": [
            [
             0,
             "#0d0887"
            ],
            [
             0.1111111111111111,
             "#46039f"
            ],
            [
             0.2222222222222222,
             "#7201a8"
            ],
            [
             0.3333333333333333,
             "#9c179e"
            ],
            [
             0.4444444444444444,
             "#bd3786"
            ],
            [
             0.5555555555555556,
             "#d8576b"
            ],
            [
             0.6666666666666666,
             "#ed7953"
            ],
            [
             0.7777777777777778,
             "#fb9f3a"
            ],
            [
             0.8888888888888888,
             "#fdca26"
            ],
            [
             1,
             "#f0f921"
            ]
           ]
          },
          "colorway": [
           "#636efa",
           "#EF553B",
           "#00cc96",
           "#ab63fa",
           "#FFA15A",
           "#19d3f3",
           "#FF6692",
           "#B6E880",
           "#FF97FF",
           "#FECB52"
          ],
          "font": {
           "color": "#2a3f5f"
          },
          "geo": {
           "bgcolor": "white",
           "lakecolor": "white",
           "landcolor": "#E5ECF6",
           "showlakes": true,
           "showland": true,
           "subunitcolor": "white"
          },
          "hoverlabel": {
           "align": "left"
          },
          "hovermode": "closest",
          "mapbox": {
           "style": "light"
          },
          "paper_bgcolor": "white",
          "plot_bgcolor": "#E5ECF6",
          "polar": {
           "angularaxis": {
            "gridcolor": "white",
            "linecolor": "white",
            "ticks": ""
           },
           "bgcolor": "#E5ECF6",
           "radialaxis": {
            "gridcolor": "white",
            "linecolor": "white",
            "ticks": ""
           }
          },
          "scene": {
           "xaxis": {
            "backgroundcolor": "#E5ECF6",
            "gridcolor": "white",
            "gridwidth": 2,
            "linecolor": "white",
            "showbackground": true,
            "ticks": "",
            "zerolinecolor": "white"
           },
           "yaxis": {
            "backgroundcolor": "#E5ECF6",
            "gridcolor": "white",
            "gridwidth": 2,
            "linecolor": "white",
            "showbackground": true,
            "ticks": "",
            "zerolinecolor": "white"
           },
           "zaxis": {
            "backgroundcolor": "#E5ECF6",
            "gridcolor": "white",
            "gridwidth": 2,
            "linecolor": "white",
            "showbackground": true,
            "ticks": "",
            "zerolinecolor": "white"
           }
          },
          "shapedefaults": {
           "line": {
            "color": "#2a3f5f"
           }
          },
          "ternary": {
           "aaxis": {
            "gridcolor": "white",
            "linecolor": "white",
            "ticks": ""
           },
           "baxis": {
            "gridcolor": "white",
            "linecolor": "white",
            "ticks": ""
           },
           "bgcolor": "#E5ECF6",
           "caxis": {
            "gridcolor": "white",
            "linecolor": "white",
            "ticks": ""
           }
          },
          "title": {
           "x": 0.05
          },
          "xaxis": {
           "automargin": true,
           "gridcolor": "white",
           "linecolor": "white",
           "ticks": "",
           "title": {
            "standoff": 15
           },
           "zerolinecolor": "white",
           "zerolinewidth": 2
          },
          "yaxis": {
           "automargin": true,
           "gridcolor": "white",
           "linecolor": "white",
           "ticks": "",
           "title": {
            "standoff": 15
           },
           "zerolinecolor": "white",
           "zerolinewidth": 2
          }
         }
        },
        "title": {
         "text": "Pourcentage de valeurs non nulles par colonne"
        },
        "xaxis": {
         "anchor": "y",
         "domain": [
          0,
          1
         ],
         "tickangle": 45,
         "tickmode": "array",
         "title": {
          "text": "Colonnes"
         }
        },
        "yaxis": {
         "anchor": "x",
         "domain": [
          0,
          1
         ],
         "title": {
          "text": "Pourcentage"
         }
        }
       }
      },
      "text/html": [
       "<div>                            <div id=\"ea249c9f-e6ba-4d31-aa2b-8b82598f2158\" class=\"plotly-graph-div\" style=\"height:525px; width:100%;\"></div>            <script type=\"text/javascript\">                require([\"plotly\"], function(Plotly) {                    window.PLOTLYENV=window.PLOTLYENV || {};                                    if (document.getElementById(\"ea249c9f-e6ba-4d31-aa2b-8b82598f2158\")) {                    Plotly.newPlot(                        \"ea249c9f-e6ba-4d31-aa2b-8b82598f2158\",                        [{\"alignmentgroup\":\"True\",\"hovertemplate\":\"Colonnes=%{x}<br>Pourcentage=%{y}<br>color=%{marker.color}<extra></extra>\",\"legendgroup\":\"\",\"marker\":{\"color\":[100.0,85.1,84.7,83.3,81.6,81.5,79.8,79.4,79.3,74.8,72.1,72.1,65.5,50.7,47.5,47.2,46.5,46.4,46.3,45.3,27.5],\"coloraxis\":\"coloraxis\",\"pattern\":{\"shape\":\"\"}},\"name\":\"\",\"offsetgroup\":\"\",\"orientation\":\"v\",\"showlegend\":false,\"textposition\":\"auto\",\"x\":[\"product_name\",\"energy_100g\",\"proteins_100g\",\"salt_100g\",\"ingredients_text\",\"additives_n\",\"sugars_100g\",\"fat_100g\",\"carbohydrates_100g\",\"saturated-fat_100g\",\"nutrition_grade_fr\",\"nutrition-score-fr_100g\",\"fiber_100g\",\"additives_fr\",\"cholesterol_100g\",\"trans-fat_100g\",\"calcium_100g\",\"vitamin-c_100g\",\"iron_100g\",\"vitamin-a_100g\",\"main_category_fr\"],\"xaxis\":\"x\",\"y\":[100.0,85.1,84.7,83.3,81.6,81.5,79.8,79.4,79.3,74.8,72.1,72.1,65.5,50.7,47.5,47.2,46.5,46.4,46.3,45.3,27.5],\"yaxis\":\"y\",\"type\":\"bar\"}],                        {\"template\":{\"data\":{\"histogram2dcontour\":[{\"type\":\"histogram2dcontour\",\"colorbar\":{\"outlinewidth\":0,\"ticks\":\"\"},\"colorscale\":[[0.0,\"#0d0887\"],[0.1111111111111111,\"#46039f\"],[0.2222222222222222,\"#7201a8\"],[0.3333333333333333,\"#9c179e\"],[0.4444444444444444,\"#bd3786\"],[0.5555555555555556,\"#d8576b\"],[0.6666666666666666,\"#ed7953\"],[0.7777777777777778,\"#fb9f3a\"],[0.8888888888888888,\"#fdca26\"],[1.0,\"#f0f921\"]]}],\"choropleth\":[{\"type\":\"choropleth\",\"colorbar\":{\"outlinewidth\":0,\"ticks\":\"\"}}],\"histogram2d\":[{\"type\":\"histogram2d\",\"colorbar\":{\"outlinewidth\":0,\"ticks\":\"\"},\"colorscale\":[[0.0,\"#0d0887\"],[0.1111111111111111,\"#46039f\"],[0.2222222222222222,\"#7201a8\"],[0.3333333333333333,\"#9c179e\"],[0.4444444444444444,\"#bd3786\"],[0.5555555555555556,\"#d8576b\"],[0.6666666666666666,\"#ed7953\"],[0.7777777777777778,\"#fb9f3a\"],[0.8888888888888888,\"#fdca26\"],[1.0,\"#f0f921\"]]}],\"heatmap\":[{\"type\":\"heatmap\",\"colorbar\":{\"outlinewidth\":0,\"ticks\":\"\"},\"colorscale\":[[0.0,\"#0d0887\"],[0.1111111111111111,\"#46039f\"],[0.2222222222222222,\"#7201a8\"],[0.3333333333333333,\"#9c179e\"],[0.4444444444444444,\"#bd3786\"],[0.5555555555555556,\"#d8576b\"],[0.6666666666666666,\"#ed7953\"],[0.7777777777777778,\"#fb9f3a\"],[0.8888888888888888,\"#fdca26\"],[1.0,\"#f0f921\"]]}],\"heatmapgl\":[{\"type\":\"heatmapgl\",\"colorbar\":{\"outlinewidth\":0,\"ticks\":\"\"},\"colorscale\":[[0.0,\"#0d0887\"],[0.1111111111111111,\"#46039f\"],[0.2222222222222222,\"#7201a8\"],[0.3333333333333333,\"#9c179e\"],[0.4444444444444444,\"#bd3786\"],[0.5555555555555556,\"#d8576b\"],[0.6666666666666666,\"#ed7953\"],[0.7777777777777778,\"#fb9f3a\"],[0.8888888888888888,\"#fdca26\"],[1.0,\"#f0f921\"]]}],\"contourcarpet\":[{\"type\":\"contourcarpet\",\"colorbar\":{\"outlinewidth\":0,\"ticks\":\"\"}}],\"contour\":[{\"type\":\"contour\",\"colorbar\":{\"outlinewidth\":0,\"ticks\":\"\"},\"colorscale\":[[0.0,\"#0d0887\"],[0.1111111111111111,\"#46039f\"],[0.2222222222222222,\"#7201a8\"],[0.3333333333333333,\"#9c179e\"],[0.4444444444444444,\"#bd3786\"],[0.5555555555555556,\"#d8576b\"],[0.6666666666666666,\"#ed7953\"],[0.7777777777777778,\"#fb9f3a\"],[0.8888888888888888,\"#fdca26\"],[1.0,\"#f0f921\"]]}],\"surface\":[{\"type\":\"surface\",\"colorbar\":{\"outlinewidth\":0,\"ticks\":\"\"},\"colorscale\":[[0.0,\"#0d0887\"],[0.1111111111111111,\"#46039f\"],[0.2222222222222222,\"#7201a8\"],[0.3333333333333333,\"#9c179e\"],[0.4444444444444444,\"#bd3786\"],[0.5555555555555556,\"#d8576b\"],[0.6666666666666666,\"#ed7953\"],[0.7777777777777778,\"#fb9f3a\"],[0.8888888888888888,\"#fdca26\"],[1.0,\"#f0f921\"]]}],\"mesh3d\":[{\"type\":\"mesh3d\",\"colorbar\":{\"outlinewidth\":0,\"ticks\":\"\"}}],\"scatter\":[{\"fillpattern\":{\"fillmode\":\"overlay\",\"size\":10,\"solidity\":0.2},\"type\":\"scatter\"}],\"parcoords\":[{\"type\":\"parcoords\",\"line\":{\"colorbar\":{\"outlinewidth\":0,\"ticks\":\"\"}}}],\"scatterpolargl\":[{\"type\":\"scatterpolargl\",\"marker\":{\"colorbar\":{\"outlinewidth\":0,\"ticks\":\"\"}}}],\"bar\":[{\"error_x\":{\"color\":\"#2a3f5f\"},\"error_y\":{\"color\":\"#2a3f5f\"},\"marker\":{\"line\":{\"color\":\"#E5ECF6\",\"width\":0.5},\"pattern\":{\"fillmode\":\"overlay\",\"size\":10,\"solidity\":0.2}},\"type\":\"bar\"}],\"scattergeo\":[{\"type\":\"scattergeo\",\"marker\":{\"colorbar\":{\"outlinewidth\":0,\"ticks\":\"\"}}}],\"scatterpolar\":[{\"type\":\"scatterpolar\",\"marker\":{\"colorbar\":{\"outlinewidth\":0,\"ticks\":\"\"}}}],\"histogram\":[{\"marker\":{\"pattern\":{\"fillmode\":\"overlay\",\"size\":10,\"solidity\":0.2}},\"type\":\"histogram\"}],\"scattergl\":[{\"type\":\"scattergl\",\"marker\":{\"colorbar\":{\"outlinewidth\":0,\"ticks\":\"\"}}}],\"scatter3d\":[{\"type\":\"scatter3d\",\"line\":{\"colorbar\":{\"outlinewidth\":0,\"ticks\":\"\"}},\"marker\":{\"colorbar\":{\"outlinewidth\":0,\"ticks\":\"\"}}}],\"scattermapbox\":[{\"type\":\"scattermapbox\",\"marker\":{\"colorbar\":{\"outlinewidth\":0,\"ticks\":\"\"}}}],\"scatterternary\":[{\"type\":\"scatterternary\",\"marker\":{\"colorbar\":{\"outlinewidth\":0,\"ticks\":\"\"}}}],\"scattercarpet\":[{\"type\":\"scattercarpet\",\"marker\":{\"colorbar\":{\"outlinewidth\":0,\"ticks\":\"\"}}}],\"carpet\":[{\"aaxis\":{\"endlinecolor\":\"#2a3f5f\",\"gridcolor\":\"white\",\"linecolor\":\"white\",\"minorgridcolor\":\"white\",\"startlinecolor\":\"#2a3f5f\"},\"baxis\":{\"endlinecolor\":\"#2a3f5f\",\"gridcolor\":\"white\",\"linecolor\":\"white\",\"minorgridcolor\":\"white\",\"startlinecolor\":\"#2a3f5f\"},\"type\":\"carpet\"}],\"table\":[{\"cells\":{\"fill\":{\"color\":\"#EBF0F8\"},\"line\":{\"color\":\"white\"}},\"header\":{\"fill\":{\"color\":\"#C8D4E3\"},\"line\":{\"color\":\"white\"}},\"type\":\"table\"}],\"barpolar\":[{\"marker\":{\"line\":{\"color\":\"#E5ECF6\",\"width\":0.5},\"pattern\":{\"fillmode\":\"overlay\",\"size\":10,\"solidity\":0.2}},\"type\":\"barpolar\"}],\"pie\":[{\"automargin\":true,\"type\":\"pie\"}]},\"layout\":{\"autotypenumbers\":\"strict\",\"colorway\":[\"#636efa\",\"#EF553B\",\"#00cc96\",\"#ab63fa\",\"#FFA15A\",\"#19d3f3\",\"#FF6692\",\"#B6E880\",\"#FF97FF\",\"#FECB52\"],\"font\":{\"color\":\"#2a3f5f\"},\"hovermode\":\"closest\",\"hoverlabel\":{\"align\":\"left\"},\"paper_bgcolor\":\"white\",\"plot_bgcolor\":\"#E5ECF6\",\"polar\":{\"bgcolor\":\"#E5ECF6\",\"angularaxis\":{\"gridcolor\":\"white\",\"linecolor\":\"white\",\"ticks\":\"\"},\"radialaxis\":{\"gridcolor\":\"white\",\"linecolor\":\"white\",\"ticks\":\"\"}},\"ternary\":{\"bgcolor\":\"#E5ECF6\",\"aaxis\":{\"gridcolor\":\"white\",\"linecolor\":\"white\",\"ticks\":\"\"},\"baxis\":{\"gridcolor\":\"white\",\"linecolor\":\"white\",\"ticks\":\"\"},\"caxis\":{\"gridcolor\":\"white\",\"linecolor\":\"white\",\"ticks\":\"\"}},\"coloraxis\":{\"colorbar\":{\"outlinewidth\":0,\"ticks\":\"\"}},\"colorscale\":{\"sequential\":[[0.0,\"#0d0887\"],[0.1111111111111111,\"#46039f\"],[0.2222222222222222,\"#7201a8\"],[0.3333333333333333,\"#9c179e\"],[0.4444444444444444,\"#bd3786\"],[0.5555555555555556,\"#d8576b\"],[0.6666666666666666,\"#ed7953\"],[0.7777777777777778,\"#fb9f3a\"],[0.8888888888888888,\"#fdca26\"],[1.0,\"#f0f921\"]],\"sequentialminus\":[[0.0,\"#0d0887\"],[0.1111111111111111,\"#46039f\"],[0.2222222222222222,\"#7201a8\"],[0.3333333333333333,\"#9c179e\"],[0.4444444444444444,\"#bd3786\"],[0.5555555555555556,\"#d8576b\"],[0.6666666666666666,\"#ed7953\"],[0.7777777777777778,\"#fb9f3a\"],[0.8888888888888888,\"#fdca26\"],[1.0,\"#f0f921\"]],\"diverging\":[[0,\"#8e0152\"],[0.1,\"#c51b7d\"],[0.2,\"#de77ae\"],[0.3,\"#f1b6da\"],[0.4,\"#fde0ef\"],[0.5,\"#f7f7f7\"],[0.6,\"#e6f5d0\"],[0.7,\"#b8e186\"],[0.8,\"#7fbc41\"],[0.9,\"#4d9221\"],[1,\"#276419\"]]},\"xaxis\":{\"gridcolor\":\"white\",\"linecolor\":\"white\",\"ticks\":\"\",\"title\":{\"standoff\":15},\"zerolinecolor\":\"white\",\"automargin\":true,\"zerolinewidth\":2},\"yaxis\":{\"gridcolor\":\"white\",\"linecolor\":\"white\",\"ticks\":\"\",\"title\":{\"standoff\":15},\"zerolinecolor\":\"white\",\"automargin\":true,\"zerolinewidth\":2},\"scene\":{\"xaxis\":{\"backgroundcolor\":\"#E5ECF6\",\"gridcolor\":\"white\",\"linecolor\":\"white\",\"showbackground\":true,\"ticks\":\"\",\"zerolinecolor\":\"white\",\"gridwidth\":2},\"yaxis\":{\"backgroundcolor\":\"#E5ECF6\",\"gridcolor\":\"white\",\"linecolor\":\"white\",\"showbackground\":true,\"ticks\":\"\",\"zerolinecolor\":\"white\",\"gridwidth\":2},\"zaxis\":{\"backgroundcolor\":\"#E5ECF6\",\"gridcolor\":\"white\",\"linecolor\":\"white\",\"showbackground\":true,\"ticks\":\"\",\"zerolinecolor\":\"white\",\"gridwidth\":2}},\"shapedefaults\":{\"line\":{\"color\":\"#2a3f5f\"}},\"annotationdefaults\":{\"arrowcolor\":\"#2a3f5f\",\"arrowhead\":0,\"arrowwidth\":1},\"geo\":{\"bgcolor\":\"white\",\"landcolor\":\"#E5ECF6\",\"subunitcolor\":\"white\",\"showland\":true,\"showlakes\":true,\"lakecolor\":\"white\"},\"title\":{\"x\":0.05},\"mapbox\":{\"style\":\"light\"}}},\"xaxis\":{\"anchor\":\"y\",\"domain\":[0.0,1.0],\"title\":{\"text\":\"Colonnes\"},\"tickangle\":45,\"tickmode\":\"array\"},\"yaxis\":{\"anchor\":\"x\",\"domain\":[0.0,1.0],\"title\":{\"text\":\"Pourcentage\"}},\"coloraxis\":{\"colorbar\":{\"title\":{\"text\":\"color\"}},\"colorscale\":[[0.0,\"rgb(247,251,255)\"],[0.125,\"rgb(222,235,247)\"],[0.25,\"rgb(198,219,239)\"],[0.375,\"rgb(158,202,225)\"],[0.5,\"rgb(107,174,214)\"],[0.625,\"rgb(66,146,198)\"],[0.75,\"rgb(33,113,181)\"],[0.875,\"rgb(8,81,156)\"],[1.0,\"rgb(8,48,107)\"]]},\"legend\":{\"tracegroupgap\":0},\"title\":{\"text\":\"Pourcentage de valeurs non nulles par colonne\"},\"barmode\":\"relative\"},                        {\"responsive\": true}                    ).then(function(){\n",
       "                            \n",
       "var gd = document.getElementById('ea249c9f-e6ba-4d31-aa2b-8b82598f2158');\n",
       "var x = new MutationObserver(function (mutations, observer) {{\n",
       "        var display = window.getComputedStyle(gd).display;\n",
       "        if (!display || display === 'none') {{\n",
       "            console.log([gd, 'removed!']);\n",
       "            Plotly.purge(gd);\n",
       "            observer.disconnect();\n",
       "        }}\n",
       "}});\n",
       "\n",
       "// Listen for the removal of the full notebook cells\n",
       "var notebookContainer = gd.closest('#notebook-container');\n",
       "if (notebookContainer) {{\n",
       "    x.observe(notebookContainer, {childList: true});\n",
       "}}\n",
       "\n",
       "// Listen for the clearing of the current output cell\n",
       "var outputEl = gd.closest('.output');\n",
       "if (outputEl) {{\n",
       "    x.observe(outputEl, {childList: true});\n",
       "}}\n",
       "\n",
       "                        })                };                });            </script>        </div>"
      ]
     },
     "metadata": {},
     "output_type": "display_data"
    }
   ],
   "source": [
    "valeurNullesGraph(df_2)"
   ]
  },
  {
   "cell_type": "markdown",
   "id": "cc3cbf56",
   "metadata": {},
   "source": [
    "### Quanti1 - KNN Imputer"
   ]
  },
  {
   "cell_type": "code",
   "execution_count": 45,
   "id": "18564d20",
   "metadata": {},
   "outputs": [],
   "source": [
    "#creation de dataframes contenant les colonnes quantitatives ayant moins de 50% de Nan\n",
    "#choix d'en créer plusieurs afin d'accélérer la rapidité de calcul\n",
    "\n",
    "df_quant_1 = df_2.loc[:60000, quanti1]\n",
    "df_quant_1_2 = df_2.loc[60001:120000, quanti1]\n",
    "df_quant_1_3 = df_2.loc[120001:180000, quanti1]\n",
    "df_quant_1_4 = df_2.loc[180001:240000, quanti1]\n",
    "df_quant_1_5 = df_2.loc[240001:300000, quanti1]\n",
    "df_quant_1_6 = df_2.loc[300001:, quanti1]\n",
    "\n",
    "liste_df_quant_1 = [df_quant_1,df_quant_1_2, df_quant_1_3, df_quant_1_4, df_quant_1_5, df_quant_1_6 ]"
   ]
  },
  {
   "cell_type": "code",
   "execution_count": 47,
   "id": "0d802bce",
   "metadata": {},
   "outputs": [],
   "source": [
    "from sklearn.impute import KNNImputer"
   ]
  },
  {
   "cell_type": "code",
   "execution_count": 52,
   "id": "df08ea05",
   "metadata": {},
   "outputs": [],
   "source": [
    "knn_imputer = KNNImputer(n_neighbors=2)"
   ]
  },
  {
   "cell_type": "code",
   "execution_count": 78,
   "id": "74a78c9e",
   "metadata": {},
   "outputs": [],
   "source": [
    "df_temp = pd.DataFrame()\n",
    "\n",
    "for df in liste_df_quant_1:\n",
    "    df_quantitatif_impute = knn_imputer.fit_transform(df)\n",
    "    df_impute = pd.DataFrame(data=df_quantitatif_impute, columns=quanti1)\n",
    "    df_temp = pd.concat([df_temp, df_impute], ignore_index=True)\n",
    "\n",
    "df_2[quanti1] = df_temp"
   ]
  },
  {
   "cell_type": "code",
   "execution_count": 79,
   "id": "3d81f360",
   "metadata": {},
   "outputs": [
    {
     "data": {
      "application/vnd.plotly.v1+json": {
       "config": {
        "plotlyServerURL": "https://plot.ly"
       },
       "data": [
        {
         "alignmentgroup": "True",
         "hovertemplate": "Colonnes=%{x}<br>Pourcentage=%{y}<br>color=%{marker.color}<extra></extra>",
         "legendgroup": "",
         "marker": {
          "color": [
           100,
           95,
           95,
           95,
           95,
           95,
           95,
           95,
           95,
           95,
           95,
           81.6,
           72.1,
           50.7,
           47.5,
           47.2,
           46.5,
           46.4,
           46.3,
           45.3,
           27.5
          ],
          "coloraxis": "coloraxis",
          "pattern": {
           "shape": ""
          }
         },
         "name": "",
         "offsetgroup": "",
         "orientation": "v",
         "showlegend": false,
         "textposition": "auto",
         "type": "bar",
         "x": [
          "product_name",
          "carbohydrates_100g",
          "nutrition-score-fr_100g",
          "salt_100g",
          "fiber_100g",
          "sugars_100g",
          "proteins_100g",
          "saturated-fat_100g",
          "fat_100g",
          "energy_100g",
          "additives_n",
          "ingredients_text",
          "nutrition_grade_fr",
          "additives_fr",
          "cholesterol_100g",
          "trans-fat_100g",
          "calcium_100g",
          "vitamin-c_100g",
          "iron_100g",
          "vitamin-a_100g",
          "main_category_fr"
         ],
         "xaxis": "x",
         "y": [
          100,
          95,
          95,
          95,
          95,
          95,
          95,
          95,
          95,
          95,
          95,
          81.6,
          72.1,
          50.7,
          47.5,
          47.2,
          46.5,
          46.4,
          46.3,
          45.3,
          27.5
         ],
         "yaxis": "y"
        }
       ],
       "layout": {
        "barmode": "relative",
        "coloraxis": {
         "colorbar": {
          "title": {
           "text": "color"
          }
         },
         "colorscale": [
          [
           0,
           "rgb(247,251,255)"
          ],
          [
           0.125,
           "rgb(222,235,247)"
          ],
          [
           0.25,
           "rgb(198,219,239)"
          ],
          [
           0.375,
           "rgb(158,202,225)"
          ],
          [
           0.5,
           "rgb(107,174,214)"
          ],
          [
           0.625,
           "rgb(66,146,198)"
          ],
          [
           0.75,
           "rgb(33,113,181)"
          ],
          [
           0.875,
           "rgb(8,81,156)"
          ],
          [
           1,
           "rgb(8,48,107)"
          ]
         ]
        },
        "legend": {
         "tracegroupgap": 0
        },
        "template": {
         "data": {
          "bar": [
           {
            "error_x": {
             "color": "#2a3f5f"
            },
            "error_y": {
             "color": "#2a3f5f"
            },
            "marker": {
             "line": {
              "color": "#E5ECF6",
              "width": 0.5
             },
             "pattern": {
              "fillmode": "overlay",
              "size": 10,
              "solidity": 0.2
             }
            },
            "type": "bar"
           }
          ],
          "barpolar": [
           {
            "marker": {
             "line": {
              "color": "#E5ECF6",
              "width": 0.5
             },
             "pattern": {
              "fillmode": "overlay",
              "size": 10,
              "solidity": 0.2
             }
            },
            "type": "barpolar"
           }
          ],
          "carpet": [
           {
            "aaxis": {
             "endlinecolor": "#2a3f5f",
             "gridcolor": "white",
             "linecolor": "white",
             "minorgridcolor": "white",
             "startlinecolor": "#2a3f5f"
            },
            "baxis": {
             "endlinecolor": "#2a3f5f",
             "gridcolor": "white",
             "linecolor": "white",
             "minorgridcolor": "white",
             "startlinecolor": "#2a3f5f"
            },
            "type": "carpet"
           }
          ],
          "choropleth": [
           {
            "colorbar": {
             "outlinewidth": 0,
             "ticks": ""
            },
            "type": "choropleth"
           }
          ],
          "contour": [
           {
            "colorbar": {
             "outlinewidth": 0,
             "ticks": ""
            },
            "colorscale": [
             [
              0,
              "#0d0887"
             ],
             [
              0.1111111111111111,
              "#46039f"
             ],
             [
              0.2222222222222222,
              "#7201a8"
             ],
             [
              0.3333333333333333,
              "#9c179e"
             ],
             [
              0.4444444444444444,
              "#bd3786"
             ],
             [
              0.5555555555555556,
              "#d8576b"
             ],
             [
              0.6666666666666666,
              "#ed7953"
             ],
             [
              0.7777777777777778,
              "#fb9f3a"
             ],
             [
              0.8888888888888888,
              "#fdca26"
             ],
             [
              1,
              "#f0f921"
             ]
            ],
            "type": "contour"
           }
          ],
          "contourcarpet": [
           {
            "colorbar": {
             "outlinewidth": 0,
             "ticks": ""
            },
            "type": "contourcarpet"
           }
          ],
          "heatmap": [
           {
            "colorbar": {
             "outlinewidth": 0,
             "ticks": ""
            },
            "colorscale": [
             [
              0,
              "#0d0887"
             ],
             [
              0.1111111111111111,
              "#46039f"
             ],
             [
              0.2222222222222222,
              "#7201a8"
             ],
             [
              0.3333333333333333,
              "#9c179e"
             ],
             [
              0.4444444444444444,
              "#bd3786"
             ],
             [
              0.5555555555555556,
              "#d8576b"
             ],
             [
              0.6666666666666666,
              "#ed7953"
             ],
             [
              0.7777777777777778,
              "#fb9f3a"
             ],
             [
              0.8888888888888888,
              "#fdca26"
             ],
             [
              1,
              "#f0f921"
             ]
            ],
            "type": "heatmap"
           }
          ],
          "heatmapgl": [
           {
            "colorbar": {
             "outlinewidth": 0,
             "ticks": ""
            },
            "colorscale": [
             [
              0,
              "#0d0887"
             ],
             [
              0.1111111111111111,
              "#46039f"
             ],
             [
              0.2222222222222222,
              "#7201a8"
             ],
             [
              0.3333333333333333,
              "#9c179e"
             ],
             [
              0.4444444444444444,
              "#bd3786"
             ],
             [
              0.5555555555555556,
              "#d8576b"
             ],
             [
              0.6666666666666666,
              "#ed7953"
             ],
             [
              0.7777777777777778,
              "#fb9f3a"
             ],
             [
              0.8888888888888888,
              "#fdca26"
             ],
             [
              1,
              "#f0f921"
             ]
            ],
            "type": "heatmapgl"
           }
          ],
          "histogram": [
           {
            "marker": {
             "pattern": {
              "fillmode": "overlay",
              "size": 10,
              "solidity": 0.2
             }
            },
            "type": "histogram"
           }
          ],
          "histogram2d": [
           {
            "colorbar": {
             "outlinewidth": 0,
             "ticks": ""
            },
            "colorscale": [
             [
              0,
              "#0d0887"
             ],
             [
              0.1111111111111111,
              "#46039f"
             ],
             [
              0.2222222222222222,
              "#7201a8"
             ],
             [
              0.3333333333333333,
              "#9c179e"
             ],
             [
              0.4444444444444444,
              "#bd3786"
             ],
             [
              0.5555555555555556,
              "#d8576b"
             ],
             [
              0.6666666666666666,
              "#ed7953"
             ],
             [
              0.7777777777777778,
              "#fb9f3a"
             ],
             [
              0.8888888888888888,
              "#fdca26"
             ],
             [
              1,
              "#f0f921"
             ]
            ],
            "type": "histogram2d"
           }
          ],
          "histogram2dcontour": [
           {
            "colorbar": {
             "outlinewidth": 0,
             "ticks": ""
            },
            "colorscale": [
             [
              0,
              "#0d0887"
             ],
             [
              0.1111111111111111,
              "#46039f"
             ],
             [
              0.2222222222222222,
              "#7201a8"
             ],
             [
              0.3333333333333333,
              "#9c179e"
             ],
             [
              0.4444444444444444,
              "#bd3786"
             ],
             [
              0.5555555555555556,
              "#d8576b"
             ],
             [
              0.6666666666666666,
              "#ed7953"
             ],
             [
              0.7777777777777778,
              "#fb9f3a"
             ],
             [
              0.8888888888888888,
              "#fdca26"
             ],
             [
              1,
              "#f0f921"
             ]
            ],
            "type": "histogram2dcontour"
           }
          ],
          "mesh3d": [
           {
            "colorbar": {
             "outlinewidth": 0,
             "ticks": ""
            },
            "type": "mesh3d"
           }
          ],
          "parcoords": [
           {
            "line": {
             "colorbar": {
              "outlinewidth": 0,
              "ticks": ""
             }
            },
            "type": "parcoords"
           }
          ],
          "pie": [
           {
            "automargin": true,
            "type": "pie"
           }
          ],
          "scatter": [
           {
            "fillpattern": {
             "fillmode": "overlay",
             "size": 10,
             "solidity": 0.2
            },
            "type": "scatter"
           }
          ],
          "scatter3d": [
           {
            "line": {
             "colorbar": {
              "outlinewidth": 0,
              "ticks": ""
             }
            },
            "marker": {
             "colorbar": {
              "outlinewidth": 0,
              "ticks": ""
             }
            },
            "type": "scatter3d"
           }
          ],
          "scattercarpet": [
           {
            "marker": {
             "colorbar": {
              "outlinewidth": 0,
              "ticks": ""
             }
            },
            "type": "scattercarpet"
           }
          ],
          "scattergeo": [
           {
            "marker": {
             "colorbar": {
              "outlinewidth": 0,
              "ticks": ""
             }
            },
            "type": "scattergeo"
           }
          ],
          "scattergl": [
           {
            "marker": {
             "colorbar": {
              "outlinewidth": 0,
              "ticks": ""
             }
            },
            "type": "scattergl"
           }
          ],
          "scattermapbox": [
           {
            "marker": {
             "colorbar": {
              "outlinewidth": 0,
              "ticks": ""
             }
            },
            "type": "scattermapbox"
           }
          ],
          "scatterpolar": [
           {
            "marker": {
             "colorbar": {
              "outlinewidth": 0,
              "ticks": ""
             }
            },
            "type": "scatterpolar"
           }
          ],
          "scatterpolargl": [
           {
            "marker": {
             "colorbar": {
              "outlinewidth": 0,
              "ticks": ""
             }
            },
            "type": "scatterpolargl"
           }
          ],
          "scatterternary": [
           {
            "marker": {
             "colorbar": {
              "outlinewidth": 0,
              "ticks": ""
             }
            },
            "type": "scatterternary"
           }
          ],
          "surface": [
           {
            "colorbar": {
             "outlinewidth": 0,
             "ticks": ""
            },
            "colorscale": [
             [
              0,
              "#0d0887"
             ],
             [
              0.1111111111111111,
              "#46039f"
             ],
             [
              0.2222222222222222,
              "#7201a8"
             ],
             [
              0.3333333333333333,
              "#9c179e"
             ],
             [
              0.4444444444444444,
              "#bd3786"
             ],
             [
              0.5555555555555556,
              "#d8576b"
             ],
             [
              0.6666666666666666,
              "#ed7953"
             ],
             [
              0.7777777777777778,
              "#fb9f3a"
             ],
             [
              0.8888888888888888,
              "#fdca26"
             ],
             [
              1,
              "#f0f921"
             ]
            ],
            "type": "surface"
           }
          ],
          "table": [
           {
            "cells": {
             "fill": {
              "color": "#EBF0F8"
             },
             "line": {
              "color": "white"
             }
            },
            "header": {
             "fill": {
              "color": "#C8D4E3"
             },
             "line": {
              "color": "white"
             }
            },
            "type": "table"
           }
          ]
         },
         "layout": {
          "annotationdefaults": {
           "arrowcolor": "#2a3f5f",
           "arrowhead": 0,
           "arrowwidth": 1
          },
          "autotypenumbers": "strict",
          "coloraxis": {
           "colorbar": {
            "outlinewidth": 0,
            "ticks": ""
           }
          },
          "colorscale": {
           "diverging": [
            [
             0,
             "#8e0152"
            ],
            [
             0.1,
             "#c51b7d"
            ],
            [
             0.2,
             "#de77ae"
            ],
            [
             0.3,
             "#f1b6da"
            ],
            [
             0.4,
             "#fde0ef"
            ],
            [
             0.5,
             "#f7f7f7"
            ],
            [
             0.6,
             "#e6f5d0"
            ],
            [
             0.7,
             "#b8e186"
            ],
            [
             0.8,
             "#7fbc41"
            ],
            [
             0.9,
             "#4d9221"
            ],
            [
             1,
             "#276419"
            ]
           ],
           "sequential": [
            [
             0,
             "#0d0887"
            ],
            [
             0.1111111111111111,
             "#46039f"
            ],
            [
             0.2222222222222222,
             "#7201a8"
            ],
            [
             0.3333333333333333,
             "#9c179e"
            ],
            [
             0.4444444444444444,
             "#bd3786"
            ],
            [
             0.5555555555555556,
             "#d8576b"
            ],
            [
             0.6666666666666666,
             "#ed7953"
            ],
            [
             0.7777777777777778,
             "#fb9f3a"
            ],
            [
             0.8888888888888888,
             "#fdca26"
            ],
            [
             1,
             "#f0f921"
            ]
           ],
           "sequentialminus": [
            [
             0,
             "#0d0887"
            ],
            [
             0.1111111111111111,
             "#46039f"
            ],
            [
             0.2222222222222222,
             "#7201a8"
            ],
            [
             0.3333333333333333,
             "#9c179e"
            ],
            [
             0.4444444444444444,
             "#bd3786"
            ],
            [
             0.5555555555555556,
             "#d8576b"
            ],
            [
             0.6666666666666666,
             "#ed7953"
            ],
            [
             0.7777777777777778,
             "#fb9f3a"
            ],
            [
             0.8888888888888888,
             "#fdca26"
            ],
            [
             1,
             "#f0f921"
            ]
           ]
          },
          "colorway": [
           "#636efa",
           "#EF553B",
           "#00cc96",
           "#ab63fa",
           "#FFA15A",
           "#19d3f3",
           "#FF6692",
           "#B6E880",
           "#FF97FF",
           "#FECB52"
          ],
          "font": {
           "color": "#2a3f5f"
          },
          "geo": {
           "bgcolor": "white",
           "lakecolor": "white",
           "landcolor": "#E5ECF6",
           "showlakes": true,
           "showland": true,
           "subunitcolor": "white"
          },
          "hoverlabel": {
           "align": "left"
          },
          "hovermode": "closest",
          "mapbox": {
           "style": "light"
          },
          "paper_bgcolor": "white",
          "plot_bgcolor": "#E5ECF6",
          "polar": {
           "angularaxis": {
            "gridcolor": "white",
            "linecolor": "white",
            "ticks": ""
           },
           "bgcolor": "#E5ECF6",
           "radialaxis": {
            "gridcolor": "white",
            "linecolor": "white",
            "ticks": ""
           }
          },
          "scene": {
           "xaxis": {
            "backgroundcolor": "#E5ECF6",
            "gridcolor": "white",
            "gridwidth": 2,
            "linecolor": "white",
            "showbackground": true,
            "ticks": "",
            "zerolinecolor": "white"
           },
           "yaxis": {
            "backgroundcolor": "#E5ECF6",
            "gridcolor": "white",
            "gridwidth": 2,
            "linecolor": "white",
            "showbackground": true,
            "ticks": "",
            "zerolinecolor": "white"
           },
           "zaxis": {
            "backgroundcolor": "#E5ECF6",
            "gridcolor": "white",
            "gridwidth": 2,
            "linecolor": "white",
            "showbackground": true,
            "ticks": "",
            "zerolinecolor": "white"
           }
          },
          "shapedefaults": {
           "line": {
            "color": "#2a3f5f"
           }
          },
          "ternary": {
           "aaxis": {
            "gridcolor": "white",
            "linecolor": "white",
            "ticks": ""
           },
           "baxis": {
            "gridcolor": "white",
            "linecolor": "white",
            "ticks": ""
           },
           "bgcolor": "#E5ECF6",
           "caxis": {
            "gridcolor": "white",
            "linecolor": "white",
            "ticks": ""
           }
          },
          "title": {
           "x": 0.05
          },
          "xaxis": {
           "automargin": true,
           "gridcolor": "white",
           "linecolor": "white",
           "ticks": "",
           "title": {
            "standoff": 15
           },
           "zerolinecolor": "white",
           "zerolinewidth": 2
          },
          "yaxis": {
           "automargin": true,
           "gridcolor": "white",
           "linecolor": "white",
           "ticks": "",
           "title": {
            "standoff": 15
           },
           "zerolinecolor": "white",
           "zerolinewidth": 2
          }
         }
        },
        "title": {
         "text": "Pourcentage de valeurs non nulles par colonne"
        },
        "xaxis": {
         "anchor": "y",
         "domain": [
          0,
          1
         ],
         "tickangle": 45,
         "tickmode": "array",
         "title": {
          "text": "Colonnes"
         }
        },
        "yaxis": {
         "anchor": "x",
         "domain": [
          0,
          1
         ],
         "title": {
          "text": "Pourcentage"
         }
        }
       }
      },
      "text/html": [
       "<div>                            <div id=\"029545d7-20ed-40f2-a490-873fdf58a9ed\" class=\"plotly-graph-div\" style=\"height:525px; width:100%;\"></div>            <script type=\"text/javascript\">                require([\"plotly\"], function(Plotly) {                    window.PLOTLYENV=window.PLOTLYENV || {};                                    if (document.getElementById(\"029545d7-20ed-40f2-a490-873fdf58a9ed\")) {                    Plotly.newPlot(                        \"029545d7-20ed-40f2-a490-873fdf58a9ed\",                        [{\"alignmentgroup\":\"True\",\"hovertemplate\":\"Colonnes=%{x}<br>Pourcentage=%{y}<br>color=%{marker.color}<extra></extra>\",\"legendgroup\":\"\",\"marker\":{\"color\":[100.0,95.0,95.0,95.0,95.0,95.0,95.0,95.0,95.0,95.0,95.0,81.6,72.1,50.7,47.5,47.2,46.5,46.4,46.3,45.3,27.5],\"coloraxis\":\"coloraxis\",\"pattern\":{\"shape\":\"\"}},\"name\":\"\",\"offsetgroup\":\"\",\"orientation\":\"v\",\"showlegend\":false,\"textposition\":\"auto\",\"x\":[\"product_name\",\"carbohydrates_100g\",\"nutrition-score-fr_100g\",\"salt_100g\",\"fiber_100g\",\"sugars_100g\",\"proteins_100g\",\"saturated-fat_100g\",\"fat_100g\",\"energy_100g\",\"additives_n\",\"ingredients_text\",\"nutrition_grade_fr\",\"additives_fr\",\"cholesterol_100g\",\"trans-fat_100g\",\"calcium_100g\",\"vitamin-c_100g\",\"iron_100g\",\"vitamin-a_100g\",\"main_category_fr\"],\"xaxis\":\"x\",\"y\":[100.0,95.0,95.0,95.0,95.0,95.0,95.0,95.0,95.0,95.0,95.0,81.6,72.1,50.7,47.5,47.2,46.5,46.4,46.3,45.3,27.5],\"yaxis\":\"y\",\"type\":\"bar\"}],                        {\"template\":{\"data\":{\"histogram2dcontour\":[{\"type\":\"histogram2dcontour\",\"colorbar\":{\"outlinewidth\":0,\"ticks\":\"\"},\"colorscale\":[[0.0,\"#0d0887\"],[0.1111111111111111,\"#46039f\"],[0.2222222222222222,\"#7201a8\"],[0.3333333333333333,\"#9c179e\"],[0.4444444444444444,\"#bd3786\"],[0.5555555555555556,\"#d8576b\"],[0.6666666666666666,\"#ed7953\"],[0.7777777777777778,\"#fb9f3a\"],[0.8888888888888888,\"#fdca26\"],[1.0,\"#f0f921\"]]}],\"choropleth\":[{\"type\":\"choropleth\",\"colorbar\":{\"outlinewidth\":0,\"ticks\":\"\"}}],\"histogram2d\":[{\"type\":\"histogram2d\",\"colorbar\":{\"outlinewidth\":0,\"ticks\":\"\"},\"colorscale\":[[0.0,\"#0d0887\"],[0.1111111111111111,\"#46039f\"],[0.2222222222222222,\"#7201a8\"],[0.3333333333333333,\"#9c179e\"],[0.4444444444444444,\"#bd3786\"],[0.5555555555555556,\"#d8576b\"],[0.6666666666666666,\"#ed7953\"],[0.7777777777777778,\"#fb9f3a\"],[0.8888888888888888,\"#fdca26\"],[1.0,\"#f0f921\"]]}],\"heatmap\":[{\"type\":\"heatmap\",\"colorbar\":{\"outlinewidth\":0,\"ticks\":\"\"},\"colorscale\":[[0.0,\"#0d0887\"],[0.1111111111111111,\"#46039f\"],[0.2222222222222222,\"#7201a8\"],[0.3333333333333333,\"#9c179e\"],[0.4444444444444444,\"#bd3786\"],[0.5555555555555556,\"#d8576b\"],[0.6666666666666666,\"#ed7953\"],[0.7777777777777778,\"#fb9f3a\"],[0.8888888888888888,\"#fdca26\"],[1.0,\"#f0f921\"]]}],\"heatmapgl\":[{\"type\":\"heatmapgl\",\"colorbar\":{\"outlinewidth\":0,\"ticks\":\"\"},\"colorscale\":[[0.0,\"#0d0887\"],[0.1111111111111111,\"#46039f\"],[0.2222222222222222,\"#7201a8\"],[0.3333333333333333,\"#9c179e\"],[0.4444444444444444,\"#bd3786\"],[0.5555555555555556,\"#d8576b\"],[0.6666666666666666,\"#ed7953\"],[0.7777777777777778,\"#fb9f3a\"],[0.8888888888888888,\"#fdca26\"],[1.0,\"#f0f921\"]]}],\"contourcarpet\":[{\"type\":\"contourcarpet\",\"colorbar\":{\"outlinewidth\":0,\"ticks\":\"\"}}],\"contour\":[{\"type\":\"contour\",\"colorbar\":{\"outlinewidth\":0,\"ticks\":\"\"},\"colorscale\":[[0.0,\"#0d0887\"],[0.1111111111111111,\"#46039f\"],[0.2222222222222222,\"#7201a8\"],[0.3333333333333333,\"#9c179e\"],[0.4444444444444444,\"#bd3786\"],[0.5555555555555556,\"#d8576b\"],[0.6666666666666666,\"#ed7953\"],[0.7777777777777778,\"#fb9f3a\"],[0.8888888888888888,\"#fdca26\"],[1.0,\"#f0f921\"]]}],\"surface\":[{\"type\":\"surface\",\"colorbar\":{\"outlinewidth\":0,\"ticks\":\"\"},\"colorscale\":[[0.0,\"#0d0887\"],[0.1111111111111111,\"#46039f\"],[0.2222222222222222,\"#7201a8\"],[0.3333333333333333,\"#9c179e\"],[0.4444444444444444,\"#bd3786\"],[0.5555555555555556,\"#d8576b\"],[0.6666666666666666,\"#ed7953\"],[0.7777777777777778,\"#fb9f3a\"],[0.8888888888888888,\"#fdca26\"],[1.0,\"#f0f921\"]]}],\"mesh3d\":[{\"type\":\"mesh3d\",\"colorbar\":{\"outlinewidth\":0,\"ticks\":\"\"}}],\"scatter\":[{\"fillpattern\":{\"fillmode\":\"overlay\",\"size\":10,\"solidity\":0.2},\"type\":\"scatter\"}],\"parcoords\":[{\"type\":\"parcoords\",\"line\":{\"colorbar\":{\"outlinewidth\":0,\"ticks\":\"\"}}}],\"scatterpolargl\":[{\"type\":\"scatterpolargl\",\"marker\":{\"colorbar\":{\"outlinewidth\":0,\"ticks\":\"\"}}}],\"bar\":[{\"error_x\":{\"color\":\"#2a3f5f\"},\"error_y\":{\"color\":\"#2a3f5f\"},\"marker\":{\"line\":{\"color\":\"#E5ECF6\",\"width\":0.5},\"pattern\":{\"fillmode\":\"overlay\",\"size\":10,\"solidity\":0.2}},\"type\":\"bar\"}],\"scattergeo\":[{\"type\":\"scattergeo\",\"marker\":{\"colorbar\":{\"outlinewidth\":0,\"ticks\":\"\"}}}],\"scatterpolar\":[{\"type\":\"scatterpolar\",\"marker\":{\"colorbar\":{\"outlinewidth\":0,\"ticks\":\"\"}}}],\"histogram\":[{\"marker\":{\"pattern\":{\"fillmode\":\"overlay\",\"size\":10,\"solidity\":0.2}},\"type\":\"histogram\"}],\"scattergl\":[{\"type\":\"scattergl\",\"marker\":{\"colorbar\":{\"outlinewidth\":0,\"ticks\":\"\"}}}],\"scatter3d\":[{\"type\":\"scatter3d\",\"line\":{\"colorbar\":{\"outlinewidth\":0,\"ticks\":\"\"}},\"marker\":{\"colorbar\":{\"outlinewidth\":0,\"ticks\":\"\"}}}],\"scattermapbox\":[{\"type\":\"scattermapbox\",\"marker\":{\"colorbar\":{\"outlinewidth\":0,\"ticks\":\"\"}}}],\"scatterternary\":[{\"type\":\"scatterternary\",\"marker\":{\"colorbar\":{\"outlinewidth\":0,\"ticks\":\"\"}}}],\"scattercarpet\":[{\"type\":\"scattercarpet\",\"marker\":{\"colorbar\":{\"outlinewidth\":0,\"ticks\":\"\"}}}],\"carpet\":[{\"aaxis\":{\"endlinecolor\":\"#2a3f5f\",\"gridcolor\":\"white\",\"linecolor\":\"white\",\"minorgridcolor\":\"white\",\"startlinecolor\":\"#2a3f5f\"},\"baxis\":{\"endlinecolor\":\"#2a3f5f\",\"gridcolor\":\"white\",\"linecolor\":\"white\",\"minorgridcolor\":\"white\",\"startlinecolor\":\"#2a3f5f\"},\"type\":\"carpet\"}],\"table\":[{\"cells\":{\"fill\":{\"color\":\"#EBF0F8\"},\"line\":{\"color\":\"white\"}},\"header\":{\"fill\":{\"color\":\"#C8D4E3\"},\"line\":{\"color\":\"white\"}},\"type\":\"table\"}],\"barpolar\":[{\"marker\":{\"line\":{\"color\":\"#E5ECF6\",\"width\":0.5},\"pattern\":{\"fillmode\":\"overlay\",\"size\":10,\"solidity\":0.2}},\"type\":\"barpolar\"}],\"pie\":[{\"automargin\":true,\"type\":\"pie\"}]},\"layout\":{\"autotypenumbers\":\"strict\",\"colorway\":[\"#636efa\",\"#EF553B\",\"#00cc96\",\"#ab63fa\",\"#FFA15A\",\"#19d3f3\",\"#FF6692\",\"#B6E880\",\"#FF97FF\",\"#FECB52\"],\"font\":{\"color\":\"#2a3f5f\"},\"hovermode\":\"closest\",\"hoverlabel\":{\"align\":\"left\"},\"paper_bgcolor\":\"white\",\"plot_bgcolor\":\"#E5ECF6\",\"polar\":{\"bgcolor\":\"#E5ECF6\",\"angularaxis\":{\"gridcolor\":\"white\",\"linecolor\":\"white\",\"ticks\":\"\"},\"radialaxis\":{\"gridcolor\":\"white\",\"linecolor\":\"white\",\"ticks\":\"\"}},\"ternary\":{\"bgcolor\":\"#E5ECF6\",\"aaxis\":{\"gridcolor\":\"white\",\"linecolor\":\"white\",\"ticks\":\"\"},\"baxis\":{\"gridcolor\":\"white\",\"linecolor\":\"white\",\"ticks\":\"\"},\"caxis\":{\"gridcolor\":\"white\",\"linecolor\":\"white\",\"ticks\":\"\"}},\"coloraxis\":{\"colorbar\":{\"outlinewidth\":0,\"ticks\":\"\"}},\"colorscale\":{\"sequential\":[[0.0,\"#0d0887\"],[0.1111111111111111,\"#46039f\"],[0.2222222222222222,\"#7201a8\"],[0.3333333333333333,\"#9c179e\"],[0.4444444444444444,\"#bd3786\"],[0.5555555555555556,\"#d8576b\"],[0.6666666666666666,\"#ed7953\"],[0.7777777777777778,\"#fb9f3a\"],[0.8888888888888888,\"#fdca26\"],[1.0,\"#f0f921\"]],\"sequentialminus\":[[0.0,\"#0d0887\"],[0.1111111111111111,\"#46039f\"],[0.2222222222222222,\"#7201a8\"],[0.3333333333333333,\"#9c179e\"],[0.4444444444444444,\"#bd3786\"],[0.5555555555555556,\"#d8576b\"],[0.6666666666666666,\"#ed7953\"],[0.7777777777777778,\"#fb9f3a\"],[0.8888888888888888,\"#fdca26\"],[1.0,\"#f0f921\"]],\"diverging\":[[0,\"#8e0152\"],[0.1,\"#c51b7d\"],[0.2,\"#de77ae\"],[0.3,\"#f1b6da\"],[0.4,\"#fde0ef\"],[0.5,\"#f7f7f7\"],[0.6,\"#e6f5d0\"],[0.7,\"#b8e186\"],[0.8,\"#7fbc41\"],[0.9,\"#4d9221\"],[1,\"#276419\"]]},\"xaxis\":{\"gridcolor\":\"white\",\"linecolor\":\"white\",\"ticks\":\"\",\"title\":{\"standoff\":15},\"zerolinecolor\":\"white\",\"automargin\":true,\"zerolinewidth\":2},\"yaxis\":{\"gridcolor\":\"white\",\"linecolor\":\"white\",\"ticks\":\"\",\"title\":{\"standoff\":15},\"zerolinecolor\":\"white\",\"automargin\":true,\"zerolinewidth\":2},\"scene\":{\"xaxis\":{\"backgroundcolor\":\"#E5ECF6\",\"gridcolor\":\"white\",\"linecolor\":\"white\",\"showbackground\":true,\"ticks\":\"\",\"zerolinecolor\":\"white\",\"gridwidth\":2},\"yaxis\":{\"backgroundcolor\":\"#E5ECF6\",\"gridcolor\":\"white\",\"linecolor\":\"white\",\"showbackground\":true,\"ticks\":\"\",\"zerolinecolor\":\"white\",\"gridwidth\":2},\"zaxis\":{\"backgroundcolor\":\"#E5ECF6\",\"gridcolor\":\"white\",\"linecolor\":\"white\",\"showbackground\":true,\"ticks\":\"\",\"zerolinecolor\":\"white\",\"gridwidth\":2}},\"shapedefaults\":{\"line\":{\"color\":\"#2a3f5f\"}},\"annotationdefaults\":{\"arrowcolor\":\"#2a3f5f\",\"arrowhead\":0,\"arrowwidth\":1},\"geo\":{\"bgcolor\":\"white\",\"landcolor\":\"#E5ECF6\",\"subunitcolor\":\"white\",\"showland\":true,\"showlakes\":true,\"lakecolor\":\"white\"},\"title\":{\"x\":0.05},\"mapbox\":{\"style\":\"light\"}}},\"xaxis\":{\"anchor\":\"y\",\"domain\":[0.0,1.0],\"title\":{\"text\":\"Colonnes\"},\"tickangle\":45,\"tickmode\":\"array\"},\"yaxis\":{\"anchor\":\"x\",\"domain\":[0.0,1.0],\"title\":{\"text\":\"Pourcentage\"}},\"coloraxis\":{\"colorbar\":{\"title\":{\"text\":\"color\"}},\"colorscale\":[[0.0,\"rgb(247,251,255)\"],[0.125,\"rgb(222,235,247)\"],[0.25,\"rgb(198,219,239)\"],[0.375,\"rgb(158,202,225)\"],[0.5,\"rgb(107,174,214)\"],[0.625,\"rgb(66,146,198)\"],[0.75,\"rgb(33,113,181)\"],[0.875,\"rgb(8,81,156)\"],[1.0,\"rgb(8,48,107)\"]]},\"legend\":{\"tracegroupgap\":0},\"title\":{\"text\":\"Pourcentage de valeurs non nulles par colonne\"},\"barmode\":\"relative\"},                        {\"responsive\": true}                    ).then(function(){\n",
       "                            \n",
       "var gd = document.getElementById('029545d7-20ed-40f2-a490-873fdf58a9ed');\n",
       "var x = new MutationObserver(function (mutations, observer) {{\n",
       "        var display = window.getComputedStyle(gd).display;\n",
       "        if (!display || display === 'none') {{\n",
       "            console.log([gd, 'removed!']);\n",
       "            Plotly.purge(gd);\n",
       "            observer.disconnect();\n",
       "        }}\n",
       "}});\n",
       "\n",
       "// Listen for the removal of the full notebook cells\n",
       "var notebookContainer = gd.closest('#notebook-container');\n",
       "if (notebookContainer) {{\n",
       "    x.observe(notebookContainer, {childList: true});\n",
       "}}\n",
       "\n",
       "// Listen for the clearing of the current output cell\n",
       "var outputEl = gd.closest('.output');\n",
       "if (outputEl) {{\n",
       "    x.observe(outputEl, {childList: true});\n",
       "}}\n",
       "\n",
       "                        })                };                });            </script>        </div>"
      ]
     },
     "metadata": {},
     "output_type": "display_data"
    }
   ],
   "source": [
    "valeurNullesGraph(df_2)"
   ]
  },
  {
   "cell_type": "markdown",
   "id": "628a2931",
   "metadata": {},
   "source": [
    "Il reste 5% de valeurs nulles."
   ]
  },
  {
   "cell_type": "code",
   "execution_count": 93,
   "id": "cb9f2ffe",
   "metadata": {},
   "outputs": [
    {
     "data": {
      "text/plain": [
       "15109"
      ]
     },
     "execution_count": 93,
     "metadata": {},
     "output_type": "execute_result"
    }
   ],
   "source": [
    "# combien de lignes n'ont que des valeurs nulles pour les colonnes quanti1\n",
    "\n",
    "df_2[df_2[quanti1].isna().all(axis=1)].shape[0]"
   ]
  },
  {
   "cell_type": "code",
   "execution_count": 95,
   "id": "329e1c5c",
   "metadata": {},
   "outputs": [
    {
     "data": {
      "text/plain": [
       "energy_100g                15109\n",
       "proteins_100g              15109\n",
       "salt_100g                  15109\n",
       "additives_n                15109\n",
       "sugars_100g                15109\n",
       "fat_100g                   15109\n",
       "carbohydrates_100g         15109\n",
       "saturated-fat_100g         15109\n",
       "nutrition-score-fr_100g    15109\n",
       "fiber_100g                 15109\n",
       "dtype: int64"
      ]
     },
     "execution_count": 95,
     "metadata": {},
     "output_type": "execute_result"
    }
   ],
   "source": [
    "# combien de valeurs nulles par colonnes de quanti1 \n",
    "\n",
    "df_2[quanti1].isna().sum()"
   ]
  },
  {
   "cell_type": "markdown",
   "id": "beb785e5",
   "metadata": {},
   "source": [
    "Nous voyons que toutes les valeurs nulles de quanti1 sont sur les mêmes lignes. \n",
    "Choix de supprimer ces lignes."
   ]
  },
  {
   "cell_type": "code",
   "execution_count": 96,
   "id": "7f03ac5e",
   "metadata": {},
   "outputs": [],
   "source": [
    "df_2.dropna(subset=quanti1, inplace=True)"
   ]
  },
  {
   "cell_type": "code",
   "execution_count": 97,
   "id": "3024350e",
   "metadata": {},
   "outputs": [
    {
     "data": {
      "application/vnd.plotly.v1+json": {
       "config": {
        "plotlyServerURL": "https://plot.ly"
       },
       "data": [
        {
         "alignmentgroup": "True",
         "hovertemplate": "Colonnes=%{x}<br>Pourcentage=%{y}<br>color=%{marker.color}<extra></extra>",
         "legendgroup": "",
         "marker": {
          "color": [
           100,
           100,
           100,
           100,
           100,
           100,
           100,
           100,
           100,
           100,
           100,
           82.7,
           73.1,
           51.8,
           49.6,
           49.4,
           48.5,
           48.5,
           48.4,
           47.4,
           26
          ],
          "coloraxis": "coloraxis",
          "pattern": {
           "shape": ""
          }
         },
         "name": "",
         "offsetgroup": "",
         "orientation": "v",
         "showlegend": false,
         "textposition": "auto",
         "type": "bar",
         "x": [
          "product_name",
          "carbohydrates_100g",
          "nutrition-score-fr_100g",
          "salt_100g",
          "fiber_100g",
          "sugars_100g",
          "proteins_100g",
          "saturated-fat_100g",
          "fat_100g",
          "energy_100g",
          "additives_n",
          "ingredients_text",
          "nutrition_grade_fr",
          "additives_fr",
          "cholesterol_100g",
          "trans-fat_100g",
          "vitamin-c_100g",
          "calcium_100g",
          "iron_100g",
          "vitamin-a_100g",
          "main_category_fr"
         ],
         "xaxis": "x",
         "y": [
          100,
          100,
          100,
          100,
          100,
          100,
          100,
          100,
          100,
          100,
          100,
          82.7,
          73.1,
          51.8,
          49.6,
          49.4,
          48.5,
          48.5,
          48.4,
          47.4,
          26
         ],
         "yaxis": "y"
        }
       ],
       "layout": {
        "barmode": "relative",
        "coloraxis": {
         "colorbar": {
          "title": {
           "text": "color"
          }
         },
         "colorscale": [
          [
           0,
           "rgb(247,251,255)"
          ],
          [
           0.125,
           "rgb(222,235,247)"
          ],
          [
           0.25,
           "rgb(198,219,239)"
          ],
          [
           0.375,
           "rgb(158,202,225)"
          ],
          [
           0.5,
           "rgb(107,174,214)"
          ],
          [
           0.625,
           "rgb(66,146,198)"
          ],
          [
           0.75,
           "rgb(33,113,181)"
          ],
          [
           0.875,
           "rgb(8,81,156)"
          ],
          [
           1,
           "rgb(8,48,107)"
          ]
         ]
        },
        "legend": {
         "tracegroupgap": 0
        },
        "template": {
         "data": {
          "bar": [
           {
            "error_x": {
             "color": "#2a3f5f"
            },
            "error_y": {
             "color": "#2a3f5f"
            },
            "marker": {
             "line": {
              "color": "#E5ECF6",
              "width": 0.5
             },
             "pattern": {
              "fillmode": "overlay",
              "size": 10,
              "solidity": 0.2
             }
            },
            "type": "bar"
           }
          ],
          "barpolar": [
           {
            "marker": {
             "line": {
              "color": "#E5ECF6",
              "width": 0.5
             },
             "pattern": {
              "fillmode": "overlay",
              "size": 10,
              "solidity": 0.2
             }
            },
            "type": "barpolar"
           }
          ],
          "carpet": [
           {
            "aaxis": {
             "endlinecolor": "#2a3f5f",
             "gridcolor": "white",
             "linecolor": "white",
             "minorgridcolor": "white",
             "startlinecolor": "#2a3f5f"
            },
            "baxis": {
             "endlinecolor": "#2a3f5f",
             "gridcolor": "white",
             "linecolor": "white",
             "minorgridcolor": "white",
             "startlinecolor": "#2a3f5f"
            },
            "type": "carpet"
           }
          ],
          "choropleth": [
           {
            "colorbar": {
             "outlinewidth": 0,
             "ticks": ""
            },
            "type": "choropleth"
           }
          ],
          "contour": [
           {
            "colorbar": {
             "outlinewidth": 0,
             "ticks": ""
            },
            "colorscale": [
             [
              0,
              "#0d0887"
             ],
             [
              0.1111111111111111,
              "#46039f"
             ],
             [
              0.2222222222222222,
              "#7201a8"
             ],
             [
              0.3333333333333333,
              "#9c179e"
             ],
             [
              0.4444444444444444,
              "#bd3786"
             ],
             [
              0.5555555555555556,
              "#d8576b"
             ],
             [
              0.6666666666666666,
              "#ed7953"
             ],
             [
              0.7777777777777778,
              "#fb9f3a"
             ],
             [
              0.8888888888888888,
              "#fdca26"
             ],
             [
              1,
              "#f0f921"
             ]
            ],
            "type": "contour"
           }
          ],
          "contourcarpet": [
           {
            "colorbar": {
             "outlinewidth": 0,
             "ticks": ""
            },
            "type": "contourcarpet"
           }
          ],
          "heatmap": [
           {
            "colorbar": {
             "outlinewidth": 0,
             "ticks": ""
            },
            "colorscale": [
             [
              0,
              "#0d0887"
             ],
             [
              0.1111111111111111,
              "#46039f"
             ],
             [
              0.2222222222222222,
              "#7201a8"
             ],
             [
              0.3333333333333333,
              "#9c179e"
             ],
             [
              0.4444444444444444,
              "#bd3786"
             ],
             [
              0.5555555555555556,
              "#d8576b"
             ],
             [
              0.6666666666666666,
              "#ed7953"
             ],
             [
              0.7777777777777778,
              "#fb9f3a"
             ],
             [
              0.8888888888888888,
              "#fdca26"
             ],
             [
              1,
              "#f0f921"
             ]
            ],
            "type": "heatmap"
           }
          ],
          "heatmapgl": [
           {
            "colorbar": {
             "outlinewidth": 0,
             "ticks": ""
            },
            "colorscale": [
             [
              0,
              "#0d0887"
             ],
             [
              0.1111111111111111,
              "#46039f"
             ],
             [
              0.2222222222222222,
              "#7201a8"
             ],
             [
              0.3333333333333333,
              "#9c179e"
             ],
             [
              0.4444444444444444,
              "#bd3786"
             ],
             [
              0.5555555555555556,
              "#d8576b"
             ],
             [
              0.6666666666666666,
              "#ed7953"
             ],
             [
              0.7777777777777778,
              "#fb9f3a"
             ],
             [
              0.8888888888888888,
              "#fdca26"
             ],
             [
              1,
              "#f0f921"
             ]
            ],
            "type": "heatmapgl"
           }
          ],
          "histogram": [
           {
            "marker": {
             "pattern": {
              "fillmode": "overlay",
              "size": 10,
              "solidity": 0.2
             }
            },
            "type": "histogram"
           }
          ],
          "histogram2d": [
           {
            "colorbar": {
             "outlinewidth": 0,
             "ticks": ""
            },
            "colorscale": [
             [
              0,
              "#0d0887"
             ],
             [
              0.1111111111111111,
              "#46039f"
             ],
             [
              0.2222222222222222,
              "#7201a8"
             ],
             [
              0.3333333333333333,
              "#9c179e"
             ],
             [
              0.4444444444444444,
              "#bd3786"
             ],
             [
              0.5555555555555556,
              "#d8576b"
             ],
             [
              0.6666666666666666,
              "#ed7953"
             ],
             [
              0.7777777777777778,
              "#fb9f3a"
             ],
             [
              0.8888888888888888,
              "#fdca26"
             ],
             [
              1,
              "#f0f921"
             ]
            ],
            "type": "histogram2d"
           }
          ],
          "histogram2dcontour": [
           {
            "colorbar": {
             "outlinewidth": 0,
             "ticks": ""
            },
            "colorscale": [
             [
              0,
              "#0d0887"
             ],
             [
              0.1111111111111111,
              "#46039f"
             ],
             [
              0.2222222222222222,
              "#7201a8"
             ],
             [
              0.3333333333333333,
              "#9c179e"
             ],
             [
              0.4444444444444444,
              "#bd3786"
             ],
             [
              0.5555555555555556,
              "#d8576b"
             ],
             [
              0.6666666666666666,
              "#ed7953"
             ],
             [
              0.7777777777777778,
              "#fb9f3a"
             ],
             [
              0.8888888888888888,
              "#fdca26"
             ],
             [
              1,
              "#f0f921"
             ]
            ],
            "type": "histogram2dcontour"
           }
          ],
          "mesh3d": [
           {
            "colorbar": {
             "outlinewidth": 0,
             "ticks": ""
            },
            "type": "mesh3d"
           }
          ],
          "parcoords": [
           {
            "line": {
             "colorbar": {
              "outlinewidth": 0,
              "ticks": ""
             }
            },
            "type": "parcoords"
           }
          ],
          "pie": [
           {
            "automargin": true,
            "type": "pie"
           }
          ],
          "scatter": [
           {
            "fillpattern": {
             "fillmode": "overlay",
             "size": 10,
             "solidity": 0.2
            },
            "type": "scatter"
           }
          ],
          "scatter3d": [
           {
            "line": {
             "colorbar": {
              "outlinewidth": 0,
              "ticks": ""
             }
            },
            "marker": {
             "colorbar": {
              "outlinewidth": 0,
              "ticks": ""
             }
            },
            "type": "scatter3d"
           }
          ],
          "scattercarpet": [
           {
            "marker": {
             "colorbar": {
              "outlinewidth": 0,
              "ticks": ""
             }
            },
            "type": "scattercarpet"
           }
          ],
          "scattergeo": [
           {
            "marker": {
             "colorbar": {
              "outlinewidth": 0,
              "ticks": ""
             }
            },
            "type": "scattergeo"
           }
          ],
          "scattergl": [
           {
            "marker": {
             "colorbar": {
              "outlinewidth": 0,
              "ticks": ""
             }
            },
            "type": "scattergl"
           }
          ],
          "scattermapbox": [
           {
            "marker": {
             "colorbar": {
              "outlinewidth": 0,
              "ticks": ""
             }
            },
            "type": "scattermapbox"
           }
          ],
          "scatterpolar": [
           {
            "marker": {
             "colorbar": {
              "outlinewidth": 0,
              "ticks": ""
             }
            },
            "type": "scatterpolar"
           }
          ],
          "scatterpolargl": [
           {
            "marker": {
             "colorbar": {
              "outlinewidth": 0,
              "ticks": ""
             }
            },
            "type": "scatterpolargl"
           }
          ],
          "scatterternary": [
           {
            "marker": {
             "colorbar": {
              "outlinewidth": 0,
              "ticks": ""
             }
            },
            "type": "scatterternary"
           }
          ],
          "surface": [
           {
            "colorbar": {
             "outlinewidth": 0,
             "ticks": ""
            },
            "colorscale": [
             [
              0,
              "#0d0887"
             ],
             [
              0.1111111111111111,
              "#46039f"
             ],
             [
              0.2222222222222222,
              "#7201a8"
             ],
             [
              0.3333333333333333,
              "#9c179e"
             ],
             [
              0.4444444444444444,
              "#bd3786"
             ],
             [
              0.5555555555555556,
              "#d8576b"
             ],
             [
              0.6666666666666666,
              "#ed7953"
             ],
             [
              0.7777777777777778,
              "#fb9f3a"
             ],
             [
              0.8888888888888888,
              "#fdca26"
             ],
             [
              1,
              "#f0f921"
             ]
            ],
            "type": "surface"
           }
          ],
          "table": [
           {
            "cells": {
             "fill": {
              "color": "#EBF0F8"
             },
             "line": {
              "color": "white"
             }
            },
            "header": {
             "fill": {
              "color": "#C8D4E3"
             },
             "line": {
              "color": "white"
             }
            },
            "type": "table"
           }
          ]
         },
         "layout": {
          "annotationdefaults": {
           "arrowcolor": "#2a3f5f",
           "arrowhead": 0,
           "arrowwidth": 1
          },
          "autotypenumbers": "strict",
          "coloraxis": {
           "colorbar": {
            "outlinewidth": 0,
            "ticks": ""
           }
          },
          "colorscale": {
           "diverging": [
            [
             0,
             "#8e0152"
            ],
            [
             0.1,
             "#c51b7d"
            ],
            [
             0.2,
             "#de77ae"
            ],
            [
             0.3,
             "#f1b6da"
            ],
            [
             0.4,
             "#fde0ef"
            ],
            [
             0.5,
             "#f7f7f7"
            ],
            [
             0.6,
             "#e6f5d0"
            ],
            [
             0.7,
             "#b8e186"
            ],
            [
             0.8,
             "#7fbc41"
            ],
            [
             0.9,
             "#4d9221"
            ],
            [
             1,
             "#276419"
            ]
           ],
           "sequential": [
            [
             0,
             "#0d0887"
            ],
            [
             0.1111111111111111,
             "#46039f"
            ],
            [
             0.2222222222222222,
             "#7201a8"
            ],
            [
             0.3333333333333333,
             "#9c179e"
            ],
            [
             0.4444444444444444,
             "#bd3786"
            ],
            [
             0.5555555555555556,
             "#d8576b"
            ],
            [
             0.6666666666666666,
             "#ed7953"
            ],
            [
             0.7777777777777778,
             "#fb9f3a"
            ],
            [
             0.8888888888888888,
             "#fdca26"
            ],
            [
             1,
             "#f0f921"
            ]
           ],
           "sequentialminus": [
            [
             0,
             "#0d0887"
            ],
            [
             0.1111111111111111,
             "#46039f"
            ],
            [
             0.2222222222222222,
             "#7201a8"
            ],
            [
             0.3333333333333333,
             "#9c179e"
            ],
            [
             0.4444444444444444,
             "#bd3786"
            ],
            [
             0.5555555555555556,
             "#d8576b"
            ],
            [
             0.6666666666666666,
             "#ed7953"
            ],
            [
             0.7777777777777778,
             "#fb9f3a"
            ],
            [
             0.8888888888888888,
             "#fdca26"
            ],
            [
             1,
             "#f0f921"
            ]
           ]
          },
          "colorway": [
           "#636efa",
           "#EF553B",
           "#00cc96",
           "#ab63fa",
           "#FFA15A",
           "#19d3f3",
           "#FF6692",
           "#B6E880",
           "#FF97FF",
           "#FECB52"
          ],
          "font": {
           "color": "#2a3f5f"
          },
          "geo": {
           "bgcolor": "white",
           "lakecolor": "white",
           "landcolor": "#E5ECF6",
           "showlakes": true,
           "showland": true,
           "subunitcolor": "white"
          },
          "hoverlabel": {
           "align": "left"
          },
          "hovermode": "closest",
          "mapbox": {
           "style": "light"
          },
          "paper_bgcolor": "white",
          "plot_bgcolor": "#E5ECF6",
          "polar": {
           "angularaxis": {
            "gridcolor": "white",
            "linecolor": "white",
            "ticks": ""
           },
           "bgcolor": "#E5ECF6",
           "radialaxis": {
            "gridcolor": "white",
            "linecolor": "white",
            "ticks": ""
           }
          },
          "scene": {
           "xaxis": {
            "backgroundcolor": "#E5ECF6",
            "gridcolor": "white",
            "gridwidth": 2,
            "linecolor": "white",
            "showbackground": true,
            "ticks": "",
            "zerolinecolor": "white"
           },
           "yaxis": {
            "backgroundcolor": "#E5ECF6",
            "gridcolor": "white",
            "gridwidth": 2,
            "linecolor": "white",
            "showbackground": true,
            "ticks": "",
            "zerolinecolor": "white"
           },
           "zaxis": {
            "backgroundcolor": "#E5ECF6",
            "gridcolor": "white",
            "gridwidth": 2,
            "linecolor": "white",
            "showbackground": true,
            "ticks": "",
            "zerolinecolor": "white"
           }
          },
          "shapedefaults": {
           "line": {
            "color": "#2a3f5f"
           }
          },
          "ternary": {
           "aaxis": {
            "gridcolor": "white",
            "linecolor": "white",
            "ticks": ""
           },
           "baxis": {
            "gridcolor": "white",
            "linecolor": "white",
            "ticks": ""
           },
           "bgcolor": "#E5ECF6",
           "caxis": {
            "gridcolor": "white",
            "linecolor": "white",
            "ticks": ""
           }
          },
          "title": {
           "x": 0.05
          },
          "xaxis": {
           "automargin": true,
           "gridcolor": "white",
           "linecolor": "white",
           "ticks": "",
           "title": {
            "standoff": 15
           },
           "zerolinecolor": "white",
           "zerolinewidth": 2
          },
          "yaxis": {
           "automargin": true,
           "gridcolor": "white",
           "linecolor": "white",
           "ticks": "",
           "title": {
            "standoff": 15
           },
           "zerolinecolor": "white",
           "zerolinewidth": 2
          }
         }
        },
        "title": {
         "text": "Pourcentage de valeurs non nulles par colonne"
        },
        "xaxis": {
         "anchor": "y",
         "domain": [
          0,
          1
         ],
         "tickangle": 45,
         "tickmode": "array",
         "title": {
          "text": "Colonnes"
         }
        },
        "yaxis": {
         "anchor": "x",
         "domain": [
          0,
          1
         ],
         "title": {
          "text": "Pourcentage"
         }
        }
       }
      },
      "text/html": [
       "<div>                            <div id=\"bbae024f-b3a9-40d6-89fa-87432d1f07c2\" class=\"plotly-graph-div\" style=\"height:525px; width:100%;\"></div>            <script type=\"text/javascript\">                require([\"plotly\"], function(Plotly) {                    window.PLOTLYENV=window.PLOTLYENV || {};                                    if (document.getElementById(\"bbae024f-b3a9-40d6-89fa-87432d1f07c2\")) {                    Plotly.newPlot(                        \"bbae024f-b3a9-40d6-89fa-87432d1f07c2\",                        [{\"alignmentgroup\":\"True\",\"hovertemplate\":\"Colonnes=%{x}<br>Pourcentage=%{y}<br>color=%{marker.color}<extra></extra>\",\"legendgroup\":\"\",\"marker\":{\"color\":[100.0,100.0,100.0,100.0,100.0,100.0,100.0,100.0,100.0,100.0,100.0,82.7,73.1,51.8,49.6,49.4,48.5,48.5,48.4,47.4,26.0],\"coloraxis\":\"coloraxis\",\"pattern\":{\"shape\":\"\"}},\"name\":\"\",\"offsetgroup\":\"\",\"orientation\":\"v\",\"showlegend\":false,\"textposition\":\"auto\",\"x\":[\"product_name\",\"carbohydrates_100g\",\"nutrition-score-fr_100g\",\"salt_100g\",\"fiber_100g\",\"sugars_100g\",\"proteins_100g\",\"saturated-fat_100g\",\"fat_100g\",\"energy_100g\",\"additives_n\",\"ingredients_text\",\"nutrition_grade_fr\",\"additives_fr\",\"cholesterol_100g\",\"trans-fat_100g\",\"vitamin-c_100g\",\"calcium_100g\",\"iron_100g\",\"vitamin-a_100g\",\"main_category_fr\"],\"xaxis\":\"x\",\"y\":[100.0,100.0,100.0,100.0,100.0,100.0,100.0,100.0,100.0,100.0,100.0,82.7,73.1,51.8,49.6,49.4,48.5,48.5,48.4,47.4,26.0],\"yaxis\":\"y\",\"type\":\"bar\"}],                        {\"template\":{\"data\":{\"histogram2dcontour\":[{\"type\":\"histogram2dcontour\",\"colorbar\":{\"outlinewidth\":0,\"ticks\":\"\"},\"colorscale\":[[0.0,\"#0d0887\"],[0.1111111111111111,\"#46039f\"],[0.2222222222222222,\"#7201a8\"],[0.3333333333333333,\"#9c179e\"],[0.4444444444444444,\"#bd3786\"],[0.5555555555555556,\"#d8576b\"],[0.6666666666666666,\"#ed7953\"],[0.7777777777777778,\"#fb9f3a\"],[0.8888888888888888,\"#fdca26\"],[1.0,\"#f0f921\"]]}],\"choropleth\":[{\"type\":\"choropleth\",\"colorbar\":{\"outlinewidth\":0,\"ticks\":\"\"}}],\"histogram2d\":[{\"type\":\"histogram2d\",\"colorbar\":{\"outlinewidth\":0,\"ticks\":\"\"},\"colorscale\":[[0.0,\"#0d0887\"],[0.1111111111111111,\"#46039f\"],[0.2222222222222222,\"#7201a8\"],[0.3333333333333333,\"#9c179e\"],[0.4444444444444444,\"#bd3786\"],[0.5555555555555556,\"#d8576b\"],[0.6666666666666666,\"#ed7953\"],[0.7777777777777778,\"#fb9f3a\"],[0.8888888888888888,\"#fdca26\"],[1.0,\"#f0f921\"]]}],\"heatmap\":[{\"type\":\"heatmap\",\"colorbar\":{\"outlinewidth\":0,\"ticks\":\"\"},\"colorscale\":[[0.0,\"#0d0887\"],[0.1111111111111111,\"#46039f\"],[0.2222222222222222,\"#7201a8\"],[0.3333333333333333,\"#9c179e\"],[0.4444444444444444,\"#bd3786\"],[0.5555555555555556,\"#d8576b\"],[0.6666666666666666,\"#ed7953\"],[0.7777777777777778,\"#fb9f3a\"],[0.8888888888888888,\"#fdca26\"],[1.0,\"#f0f921\"]]}],\"heatmapgl\":[{\"type\":\"heatmapgl\",\"colorbar\":{\"outlinewidth\":0,\"ticks\":\"\"},\"colorscale\":[[0.0,\"#0d0887\"],[0.1111111111111111,\"#46039f\"],[0.2222222222222222,\"#7201a8\"],[0.3333333333333333,\"#9c179e\"],[0.4444444444444444,\"#bd3786\"],[0.5555555555555556,\"#d8576b\"],[0.6666666666666666,\"#ed7953\"],[0.7777777777777778,\"#fb9f3a\"],[0.8888888888888888,\"#fdca26\"],[1.0,\"#f0f921\"]]}],\"contourcarpet\":[{\"type\":\"contourcarpet\",\"colorbar\":{\"outlinewidth\":0,\"ticks\":\"\"}}],\"contour\":[{\"type\":\"contour\",\"colorbar\":{\"outlinewidth\":0,\"ticks\":\"\"},\"colorscale\":[[0.0,\"#0d0887\"],[0.1111111111111111,\"#46039f\"],[0.2222222222222222,\"#7201a8\"],[0.3333333333333333,\"#9c179e\"],[0.4444444444444444,\"#bd3786\"],[0.5555555555555556,\"#d8576b\"],[0.6666666666666666,\"#ed7953\"],[0.7777777777777778,\"#fb9f3a\"],[0.8888888888888888,\"#fdca26\"],[1.0,\"#f0f921\"]]}],\"surface\":[{\"type\":\"surface\",\"colorbar\":{\"outlinewidth\":0,\"ticks\":\"\"},\"colorscale\":[[0.0,\"#0d0887\"],[0.1111111111111111,\"#46039f\"],[0.2222222222222222,\"#7201a8\"],[0.3333333333333333,\"#9c179e\"],[0.4444444444444444,\"#bd3786\"],[0.5555555555555556,\"#d8576b\"],[0.6666666666666666,\"#ed7953\"],[0.7777777777777778,\"#fb9f3a\"],[0.8888888888888888,\"#fdca26\"],[1.0,\"#f0f921\"]]}],\"mesh3d\":[{\"type\":\"mesh3d\",\"colorbar\":{\"outlinewidth\":0,\"ticks\":\"\"}}],\"scatter\":[{\"fillpattern\":{\"fillmode\":\"overlay\",\"size\":10,\"solidity\":0.2},\"type\":\"scatter\"}],\"parcoords\":[{\"type\":\"parcoords\",\"line\":{\"colorbar\":{\"outlinewidth\":0,\"ticks\":\"\"}}}],\"scatterpolargl\":[{\"type\":\"scatterpolargl\",\"marker\":{\"colorbar\":{\"outlinewidth\":0,\"ticks\":\"\"}}}],\"bar\":[{\"error_x\":{\"color\":\"#2a3f5f\"},\"error_y\":{\"color\":\"#2a3f5f\"},\"marker\":{\"line\":{\"color\":\"#E5ECF6\",\"width\":0.5},\"pattern\":{\"fillmode\":\"overlay\",\"size\":10,\"solidity\":0.2}},\"type\":\"bar\"}],\"scattergeo\":[{\"type\":\"scattergeo\",\"marker\":{\"colorbar\":{\"outlinewidth\":0,\"ticks\":\"\"}}}],\"scatterpolar\":[{\"type\":\"scatterpolar\",\"marker\":{\"colorbar\":{\"outlinewidth\":0,\"ticks\":\"\"}}}],\"histogram\":[{\"marker\":{\"pattern\":{\"fillmode\":\"overlay\",\"size\":10,\"solidity\":0.2}},\"type\":\"histogram\"}],\"scattergl\":[{\"type\":\"scattergl\",\"marker\":{\"colorbar\":{\"outlinewidth\":0,\"ticks\":\"\"}}}],\"scatter3d\":[{\"type\":\"scatter3d\",\"line\":{\"colorbar\":{\"outlinewidth\":0,\"ticks\":\"\"}},\"marker\":{\"colorbar\":{\"outlinewidth\":0,\"ticks\":\"\"}}}],\"scattermapbox\":[{\"type\":\"scattermapbox\",\"marker\":{\"colorbar\":{\"outlinewidth\":0,\"ticks\":\"\"}}}],\"scatterternary\":[{\"type\":\"scatterternary\",\"marker\":{\"colorbar\":{\"outlinewidth\":0,\"ticks\":\"\"}}}],\"scattercarpet\":[{\"type\":\"scattercarpet\",\"marker\":{\"colorbar\":{\"outlinewidth\":0,\"ticks\":\"\"}}}],\"carpet\":[{\"aaxis\":{\"endlinecolor\":\"#2a3f5f\",\"gridcolor\":\"white\",\"linecolor\":\"white\",\"minorgridcolor\":\"white\",\"startlinecolor\":\"#2a3f5f\"},\"baxis\":{\"endlinecolor\":\"#2a3f5f\",\"gridcolor\":\"white\",\"linecolor\":\"white\",\"minorgridcolor\":\"white\",\"startlinecolor\":\"#2a3f5f\"},\"type\":\"carpet\"}],\"table\":[{\"cells\":{\"fill\":{\"color\":\"#EBF0F8\"},\"line\":{\"color\":\"white\"}},\"header\":{\"fill\":{\"color\":\"#C8D4E3\"},\"line\":{\"color\":\"white\"}},\"type\":\"table\"}],\"barpolar\":[{\"marker\":{\"line\":{\"color\":\"#E5ECF6\",\"width\":0.5},\"pattern\":{\"fillmode\":\"overlay\",\"size\":10,\"solidity\":0.2}},\"type\":\"barpolar\"}],\"pie\":[{\"automargin\":true,\"type\":\"pie\"}]},\"layout\":{\"autotypenumbers\":\"strict\",\"colorway\":[\"#636efa\",\"#EF553B\",\"#00cc96\",\"#ab63fa\",\"#FFA15A\",\"#19d3f3\",\"#FF6692\",\"#B6E880\",\"#FF97FF\",\"#FECB52\"],\"font\":{\"color\":\"#2a3f5f\"},\"hovermode\":\"closest\",\"hoverlabel\":{\"align\":\"left\"},\"paper_bgcolor\":\"white\",\"plot_bgcolor\":\"#E5ECF6\",\"polar\":{\"bgcolor\":\"#E5ECF6\",\"angularaxis\":{\"gridcolor\":\"white\",\"linecolor\":\"white\",\"ticks\":\"\"},\"radialaxis\":{\"gridcolor\":\"white\",\"linecolor\":\"white\",\"ticks\":\"\"}},\"ternary\":{\"bgcolor\":\"#E5ECF6\",\"aaxis\":{\"gridcolor\":\"white\",\"linecolor\":\"white\",\"ticks\":\"\"},\"baxis\":{\"gridcolor\":\"white\",\"linecolor\":\"white\",\"ticks\":\"\"},\"caxis\":{\"gridcolor\":\"white\",\"linecolor\":\"white\",\"ticks\":\"\"}},\"coloraxis\":{\"colorbar\":{\"outlinewidth\":0,\"ticks\":\"\"}},\"colorscale\":{\"sequential\":[[0.0,\"#0d0887\"],[0.1111111111111111,\"#46039f\"],[0.2222222222222222,\"#7201a8\"],[0.3333333333333333,\"#9c179e\"],[0.4444444444444444,\"#bd3786\"],[0.5555555555555556,\"#d8576b\"],[0.6666666666666666,\"#ed7953\"],[0.7777777777777778,\"#fb9f3a\"],[0.8888888888888888,\"#fdca26\"],[1.0,\"#f0f921\"]],\"sequentialminus\":[[0.0,\"#0d0887\"],[0.1111111111111111,\"#46039f\"],[0.2222222222222222,\"#7201a8\"],[0.3333333333333333,\"#9c179e\"],[0.4444444444444444,\"#bd3786\"],[0.5555555555555556,\"#d8576b\"],[0.6666666666666666,\"#ed7953\"],[0.7777777777777778,\"#fb9f3a\"],[0.8888888888888888,\"#fdca26\"],[1.0,\"#f0f921\"]],\"diverging\":[[0,\"#8e0152\"],[0.1,\"#c51b7d\"],[0.2,\"#de77ae\"],[0.3,\"#f1b6da\"],[0.4,\"#fde0ef\"],[0.5,\"#f7f7f7\"],[0.6,\"#e6f5d0\"],[0.7,\"#b8e186\"],[0.8,\"#7fbc41\"],[0.9,\"#4d9221\"],[1,\"#276419\"]]},\"xaxis\":{\"gridcolor\":\"white\",\"linecolor\":\"white\",\"ticks\":\"\",\"title\":{\"standoff\":15},\"zerolinecolor\":\"white\",\"automargin\":true,\"zerolinewidth\":2},\"yaxis\":{\"gridcolor\":\"white\",\"linecolor\":\"white\",\"ticks\":\"\",\"title\":{\"standoff\":15},\"zerolinecolor\":\"white\",\"automargin\":true,\"zerolinewidth\":2},\"scene\":{\"xaxis\":{\"backgroundcolor\":\"#E5ECF6\",\"gridcolor\":\"white\",\"linecolor\":\"white\",\"showbackground\":true,\"ticks\":\"\",\"zerolinecolor\":\"white\",\"gridwidth\":2},\"yaxis\":{\"backgroundcolor\":\"#E5ECF6\",\"gridcolor\":\"white\",\"linecolor\":\"white\",\"showbackground\":true,\"ticks\":\"\",\"zerolinecolor\":\"white\",\"gridwidth\":2},\"zaxis\":{\"backgroundcolor\":\"#E5ECF6\",\"gridcolor\":\"white\",\"linecolor\":\"white\",\"showbackground\":true,\"ticks\":\"\",\"zerolinecolor\":\"white\",\"gridwidth\":2}},\"shapedefaults\":{\"line\":{\"color\":\"#2a3f5f\"}},\"annotationdefaults\":{\"arrowcolor\":\"#2a3f5f\",\"arrowhead\":0,\"arrowwidth\":1},\"geo\":{\"bgcolor\":\"white\",\"landcolor\":\"#E5ECF6\",\"subunitcolor\":\"white\",\"showland\":true,\"showlakes\":true,\"lakecolor\":\"white\"},\"title\":{\"x\":0.05},\"mapbox\":{\"style\":\"light\"}}},\"xaxis\":{\"anchor\":\"y\",\"domain\":[0.0,1.0],\"title\":{\"text\":\"Colonnes\"},\"tickangle\":45,\"tickmode\":\"array\"},\"yaxis\":{\"anchor\":\"x\",\"domain\":[0.0,1.0],\"title\":{\"text\":\"Pourcentage\"}},\"coloraxis\":{\"colorbar\":{\"title\":{\"text\":\"color\"}},\"colorscale\":[[0.0,\"rgb(247,251,255)\"],[0.125,\"rgb(222,235,247)\"],[0.25,\"rgb(198,219,239)\"],[0.375,\"rgb(158,202,225)\"],[0.5,\"rgb(107,174,214)\"],[0.625,\"rgb(66,146,198)\"],[0.75,\"rgb(33,113,181)\"],[0.875,\"rgb(8,81,156)\"],[1.0,\"rgb(8,48,107)\"]]},\"legend\":{\"tracegroupgap\":0},\"title\":{\"text\":\"Pourcentage de valeurs non nulles par colonne\"},\"barmode\":\"relative\"},                        {\"responsive\": true}                    ).then(function(){\n",
       "                            \n",
       "var gd = document.getElementById('bbae024f-b3a9-40d6-89fa-87432d1f07c2');\n",
       "var x = new MutationObserver(function (mutations, observer) {{\n",
       "        var display = window.getComputedStyle(gd).display;\n",
       "        if (!display || display === 'none') {{\n",
       "            console.log([gd, 'removed!']);\n",
       "            Plotly.purge(gd);\n",
       "            observer.disconnect();\n",
       "        }}\n",
       "}});\n",
       "\n",
       "// Listen for the removal of the full notebook cells\n",
       "var notebookContainer = gd.closest('#notebook-container');\n",
       "if (notebookContainer) {{\n",
       "    x.observe(notebookContainer, {childList: true});\n",
       "}}\n",
       "\n",
       "// Listen for the clearing of the current output cell\n",
       "var outputEl = gd.closest('.output');\n",
       "if (outputEl) {{\n",
       "    x.observe(outputEl, {childList: true});\n",
       "}}\n",
       "\n",
       "                        })                };                });            </script>        </div>"
      ]
     },
     "metadata": {},
     "output_type": "display_data"
    }
   ],
   "source": [
    "valeurNullesGraph(df_2)"
   ]
  },
  {
   "cell_type": "markdown",
   "id": "f921ac60",
   "metadata": {},
   "source": [
    "### Quanti2 - Mediane"
   ]
  },
  {
   "cell_type": "code",
   "execution_count": 101,
   "id": "d25deda4",
   "metadata": {},
   "outputs": [
    {
     "data": {
      "text/html": [
       "<div>\n",
       "<style scoped>\n",
       "    .dataframe tbody tr th:only-of-type {\n",
       "        vertical-align: middle;\n",
       "    }\n",
       "\n",
       "    .dataframe tbody tr th {\n",
       "        vertical-align: top;\n",
       "    }\n",
       "\n",
       "    .dataframe thead th {\n",
       "        text-align: right;\n",
       "    }\n",
       "</style>\n",
       "<table border=\"1\" class=\"dataframe\">\n",
       "  <thead>\n",
       "    <tr style=\"text-align: right;\">\n",
       "      <th></th>\n",
       "      <th>cholesterol_100g</th>\n",
       "      <th>trans-fat_100g</th>\n",
       "      <th>calcium_100g</th>\n",
       "      <th>vitamin-c_100g</th>\n",
       "      <th>iron_100g</th>\n",
       "      <th>vitamin-a_100g</th>\n",
       "    </tr>\n",
       "  </thead>\n",
       "  <tbody>\n",
       "    <tr>\n",
       "      <th>count</th>\n",
       "      <td>142793.000000</td>\n",
       "      <td>142137.000000</td>\n",
       "      <td>139602.000000</td>\n",
       "      <td>139586.000000</td>\n",
       "      <td>139242.000000</td>\n",
       "      <td>136348.000000</td>\n",
       "    </tr>\n",
       "    <tr>\n",
       "      <th>mean</th>\n",
       "      <td>0.020123</td>\n",
       "      <td>0.073370</td>\n",
       "      <td>0.125072</td>\n",
       "      <td>0.023357</td>\n",
       "      <td>0.003430</td>\n",
       "      <td>0.000355</td>\n",
       "    </tr>\n",
       "    <tr>\n",
       "      <th>std</th>\n",
       "      <td>0.359656</td>\n",
       "      <td>1.544116</td>\n",
       "      <td>3.334999</td>\n",
       "      <td>2.246454</td>\n",
       "      <td>0.203747</td>\n",
       "      <td>0.072313</td>\n",
       "    </tr>\n",
       "    <tr>\n",
       "      <th>min</th>\n",
       "      <td>0.000000</td>\n",
       "      <td>-3.570000</td>\n",
       "      <td>0.000000</td>\n",
       "      <td>-0.002100</td>\n",
       "      <td>0.000000</td>\n",
       "      <td>-0.000340</td>\n",
       "    </tr>\n",
       "    <tr>\n",
       "      <th>25%</th>\n",
       "      <td>0.000000</td>\n",
       "      <td>0.000000</td>\n",
       "      <td>0.000000</td>\n",
       "      <td>0.000000</td>\n",
       "      <td>0.000000</td>\n",
       "      <td>0.000000</td>\n",
       "    </tr>\n",
       "    <tr>\n",
       "      <th>50%</th>\n",
       "      <td>0.000000</td>\n",
       "      <td>0.000000</td>\n",
       "      <td>0.035000</td>\n",
       "      <td>0.000000</td>\n",
       "      <td>0.001010</td>\n",
       "      <td>0.000000</td>\n",
       "    </tr>\n",
       "    <tr>\n",
       "      <th>75%</th>\n",
       "      <td>0.021000</td>\n",
       "      <td>0.000000</td>\n",
       "      <td>0.105000</td>\n",
       "      <td>0.003600</td>\n",
       "      <td>0.002400</td>\n",
       "      <td>0.000107</td>\n",
       "    </tr>\n",
       "    <tr>\n",
       "      <th>max</th>\n",
       "      <td>95.238000</td>\n",
       "      <td>369.000000</td>\n",
       "      <td>694.737000</td>\n",
       "      <td>716.981100</td>\n",
       "      <td>50.000000</td>\n",
       "      <td>26.700000</td>\n",
       "    </tr>\n",
       "  </tbody>\n",
       "</table>\n",
       "</div>"
      ],
      "text/plain": [
       "       cholesterol_100g  trans-fat_100g   calcium_100g  vitamin-c_100g  \\\n",
       "count     142793.000000   142137.000000  139602.000000   139586.000000   \n",
       "mean           0.020123        0.073370       0.125072        0.023357   \n",
       "std            0.359656        1.544116       3.334999        2.246454   \n",
       "min            0.000000       -3.570000       0.000000       -0.002100   \n",
       "25%            0.000000        0.000000       0.000000        0.000000   \n",
       "50%            0.000000        0.000000       0.035000        0.000000   \n",
       "75%            0.021000        0.000000       0.105000        0.003600   \n",
       "max           95.238000      369.000000     694.737000      716.981100   \n",
       "\n",
       "           iron_100g  vitamin-a_100g  \n",
       "count  139242.000000   136348.000000  \n",
       "mean        0.003430        0.000355  \n",
       "std         0.203747        0.072313  \n",
       "min         0.000000       -0.000340  \n",
       "25%         0.000000        0.000000  \n",
       "50%         0.001010        0.000000  \n",
       "75%         0.002400        0.000107  \n",
       "max        50.000000       26.700000  "
      ]
     },
     "execution_count": 101,
     "metadata": {},
     "output_type": "execute_result"
    }
   ],
   "source": [
    "df_2[quanti2].describe()"
   ]
  },
  {
   "cell_type": "code",
   "execution_count": 107,
   "id": "8e397ac7",
   "metadata": {},
   "outputs": [],
   "source": [
    "#remplacement par la médiane de chaque colonne dans quanti2\n",
    "\n",
    "for col in df_2[quanti2].columns :\n",
    "    df_2[col].fillna(df_2[col].median(), inplace = True)"
   ]
  },
  {
   "cell_type": "code",
   "execution_count": 109,
   "id": "81b9f5ca",
   "metadata": {},
   "outputs": [
    {
     "data": {
      "application/vnd.plotly.v1+json": {
       "config": {
        "plotlyServerURL": "https://plot.ly"
       },
       "data": [
        {
         "alignmentgroup": "True",
         "hovertemplate": "Colonnes=%{x}<br>Pourcentage=%{y}<br>color=%{marker.color}<extra></extra>",
         "legendgroup": "",
         "marker": {
          "color": [
           100,
           100,
           100,
           100,
           100,
           100,
           100,
           100,
           100,
           100,
           100,
           100,
           100,
           100,
           100,
           100,
           100,
           82.7,
           73.1,
           51.8,
           26
          ],
          "coloraxis": "coloraxis",
          "pattern": {
           "shape": ""
          }
         },
         "name": "",
         "offsetgroup": "",
         "orientation": "v",
         "showlegend": false,
         "textposition": "auto",
         "type": "bar",
         "x": [
          "product_name",
          "fiber_100g",
          "nutrition-score-fr_100g",
          "iron_100g",
          "calcium_100g",
          "vitamin-c_100g",
          "vitamin-a_100g",
          "salt_100g",
          "proteins_100g",
          "sugars_100g",
          "carbohydrates_100g",
          "cholesterol_100g",
          "trans-fat_100g",
          "saturated-fat_100g",
          "fat_100g",
          "energy_100g",
          "additives_n",
          "ingredients_text",
          "nutrition_grade_fr",
          "additives_fr",
          "main_category_fr"
         ],
         "xaxis": "x",
         "y": [
          100,
          100,
          100,
          100,
          100,
          100,
          100,
          100,
          100,
          100,
          100,
          100,
          100,
          100,
          100,
          100,
          100,
          82.7,
          73.1,
          51.8,
          26
         ],
         "yaxis": "y"
        }
       ],
       "layout": {
        "barmode": "relative",
        "coloraxis": {
         "colorbar": {
          "title": {
           "text": "color"
          }
         },
         "colorscale": [
          [
           0,
           "rgb(247,251,255)"
          ],
          [
           0.125,
           "rgb(222,235,247)"
          ],
          [
           0.25,
           "rgb(198,219,239)"
          ],
          [
           0.375,
           "rgb(158,202,225)"
          ],
          [
           0.5,
           "rgb(107,174,214)"
          ],
          [
           0.625,
           "rgb(66,146,198)"
          ],
          [
           0.75,
           "rgb(33,113,181)"
          ],
          [
           0.875,
           "rgb(8,81,156)"
          ],
          [
           1,
           "rgb(8,48,107)"
          ]
         ]
        },
        "legend": {
         "tracegroupgap": 0
        },
        "template": {
         "data": {
          "bar": [
           {
            "error_x": {
             "color": "#2a3f5f"
            },
            "error_y": {
             "color": "#2a3f5f"
            },
            "marker": {
             "line": {
              "color": "#E5ECF6",
              "width": 0.5
             },
             "pattern": {
              "fillmode": "overlay",
              "size": 10,
              "solidity": 0.2
             }
            },
            "type": "bar"
           }
          ],
          "barpolar": [
           {
            "marker": {
             "line": {
              "color": "#E5ECF6",
              "width": 0.5
             },
             "pattern": {
              "fillmode": "overlay",
              "size": 10,
              "solidity": 0.2
             }
            },
            "type": "barpolar"
           }
          ],
          "carpet": [
           {
            "aaxis": {
             "endlinecolor": "#2a3f5f",
             "gridcolor": "white",
             "linecolor": "white",
             "minorgridcolor": "white",
             "startlinecolor": "#2a3f5f"
            },
            "baxis": {
             "endlinecolor": "#2a3f5f",
             "gridcolor": "white",
             "linecolor": "white",
             "minorgridcolor": "white",
             "startlinecolor": "#2a3f5f"
            },
            "type": "carpet"
           }
          ],
          "choropleth": [
           {
            "colorbar": {
             "outlinewidth": 0,
             "ticks": ""
            },
            "type": "choropleth"
           }
          ],
          "contour": [
           {
            "colorbar": {
             "outlinewidth": 0,
             "ticks": ""
            },
            "colorscale": [
             [
              0,
              "#0d0887"
             ],
             [
              0.1111111111111111,
              "#46039f"
             ],
             [
              0.2222222222222222,
              "#7201a8"
             ],
             [
              0.3333333333333333,
              "#9c179e"
             ],
             [
              0.4444444444444444,
              "#bd3786"
             ],
             [
              0.5555555555555556,
              "#d8576b"
             ],
             [
              0.6666666666666666,
              "#ed7953"
             ],
             [
              0.7777777777777778,
              "#fb9f3a"
             ],
             [
              0.8888888888888888,
              "#fdca26"
             ],
             [
              1,
              "#f0f921"
             ]
            ],
            "type": "contour"
           }
          ],
          "contourcarpet": [
           {
            "colorbar": {
             "outlinewidth": 0,
             "ticks": ""
            },
            "type": "contourcarpet"
           }
          ],
          "heatmap": [
           {
            "colorbar": {
             "outlinewidth": 0,
             "ticks": ""
            },
            "colorscale": [
             [
              0,
              "#0d0887"
             ],
             [
              0.1111111111111111,
              "#46039f"
             ],
             [
              0.2222222222222222,
              "#7201a8"
             ],
             [
              0.3333333333333333,
              "#9c179e"
             ],
             [
              0.4444444444444444,
              "#bd3786"
             ],
             [
              0.5555555555555556,
              "#d8576b"
             ],
             [
              0.6666666666666666,
              "#ed7953"
             ],
             [
              0.7777777777777778,
              "#fb9f3a"
             ],
             [
              0.8888888888888888,
              "#fdca26"
             ],
             [
              1,
              "#f0f921"
             ]
            ],
            "type": "heatmap"
           }
          ],
          "heatmapgl": [
           {
            "colorbar": {
             "outlinewidth": 0,
             "ticks": ""
            },
            "colorscale": [
             [
              0,
              "#0d0887"
             ],
             [
              0.1111111111111111,
              "#46039f"
             ],
             [
              0.2222222222222222,
              "#7201a8"
             ],
             [
              0.3333333333333333,
              "#9c179e"
             ],
             [
              0.4444444444444444,
              "#bd3786"
             ],
             [
              0.5555555555555556,
              "#d8576b"
             ],
             [
              0.6666666666666666,
              "#ed7953"
             ],
             [
              0.7777777777777778,
              "#fb9f3a"
             ],
             [
              0.8888888888888888,
              "#fdca26"
             ],
             [
              1,
              "#f0f921"
             ]
            ],
            "type": "heatmapgl"
           }
          ],
          "histogram": [
           {
            "marker": {
             "pattern": {
              "fillmode": "overlay",
              "size": 10,
              "solidity": 0.2
             }
            },
            "type": "histogram"
           }
          ],
          "histogram2d": [
           {
            "colorbar": {
             "outlinewidth": 0,
             "ticks": ""
            },
            "colorscale": [
             [
              0,
              "#0d0887"
             ],
             [
              0.1111111111111111,
              "#46039f"
             ],
             [
              0.2222222222222222,
              "#7201a8"
             ],
             [
              0.3333333333333333,
              "#9c179e"
             ],
             [
              0.4444444444444444,
              "#bd3786"
             ],
             [
              0.5555555555555556,
              "#d8576b"
             ],
             [
              0.6666666666666666,
              "#ed7953"
             ],
             [
              0.7777777777777778,
              "#fb9f3a"
             ],
             [
              0.8888888888888888,
              "#fdca26"
             ],
             [
              1,
              "#f0f921"
             ]
            ],
            "type": "histogram2d"
           }
          ],
          "histogram2dcontour": [
           {
            "colorbar": {
             "outlinewidth": 0,
             "ticks": ""
            },
            "colorscale": [
             [
              0,
              "#0d0887"
             ],
             [
              0.1111111111111111,
              "#46039f"
             ],
             [
              0.2222222222222222,
              "#7201a8"
             ],
             [
              0.3333333333333333,
              "#9c179e"
             ],
             [
              0.4444444444444444,
              "#bd3786"
             ],
             [
              0.5555555555555556,
              "#d8576b"
             ],
             [
              0.6666666666666666,
              "#ed7953"
             ],
             [
              0.7777777777777778,
              "#fb9f3a"
             ],
             [
              0.8888888888888888,
              "#fdca26"
             ],
             [
              1,
              "#f0f921"
             ]
            ],
            "type": "histogram2dcontour"
           }
          ],
          "mesh3d": [
           {
            "colorbar": {
             "outlinewidth": 0,
             "ticks": ""
            },
            "type": "mesh3d"
           }
          ],
          "parcoords": [
           {
            "line": {
             "colorbar": {
              "outlinewidth": 0,
              "ticks": ""
             }
            },
            "type": "parcoords"
           }
          ],
          "pie": [
           {
            "automargin": true,
            "type": "pie"
           }
          ],
          "scatter": [
           {
            "fillpattern": {
             "fillmode": "overlay",
             "size": 10,
             "solidity": 0.2
            },
            "type": "scatter"
           }
          ],
          "scatter3d": [
           {
            "line": {
             "colorbar": {
              "outlinewidth": 0,
              "ticks": ""
             }
            },
            "marker": {
             "colorbar": {
              "outlinewidth": 0,
              "ticks": ""
             }
            },
            "type": "scatter3d"
           }
          ],
          "scattercarpet": [
           {
            "marker": {
             "colorbar": {
              "outlinewidth": 0,
              "ticks": ""
             }
            },
            "type": "scattercarpet"
           }
          ],
          "scattergeo": [
           {
            "marker": {
             "colorbar": {
              "outlinewidth": 0,
              "ticks": ""
             }
            },
            "type": "scattergeo"
           }
          ],
          "scattergl": [
           {
            "marker": {
             "colorbar": {
              "outlinewidth": 0,
              "ticks": ""
             }
            },
            "type": "scattergl"
           }
          ],
          "scattermapbox": [
           {
            "marker": {
             "colorbar": {
              "outlinewidth": 0,
              "ticks": ""
             }
            },
            "type": "scattermapbox"
           }
          ],
          "scatterpolar": [
           {
            "marker": {
             "colorbar": {
              "outlinewidth": 0,
              "ticks": ""
             }
            },
            "type": "scatterpolar"
           }
          ],
          "scatterpolargl": [
           {
            "marker": {
             "colorbar": {
              "outlinewidth": 0,
              "ticks": ""
             }
            },
            "type": "scatterpolargl"
           }
          ],
          "scatterternary": [
           {
            "marker": {
             "colorbar": {
              "outlinewidth": 0,
              "ticks": ""
             }
            },
            "type": "scatterternary"
           }
          ],
          "surface": [
           {
            "colorbar": {
             "outlinewidth": 0,
             "ticks": ""
            },
            "colorscale": [
             [
              0,
              "#0d0887"
             ],
             [
              0.1111111111111111,
              "#46039f"
             ],
             [
              0.2222222222222222,
              "#7201a8"
             ],
             [
              0.3333333333333333,
              "#9c179e"
             ],
             [
              0.4444444444444444,
              "#bd3786"
             ],
             [
              0.5555555555555556,
              "#d8576b"
             ],
             [
              0.6666666666666666,
              "#ed7953"
             ],
             [
              0.7777777777777778,
              "#fb9f3a"
             ],
             [
              0.8888888888888888,
              "#fdca26"
             ],
             [
              1,
              "#f0f921"
             ]
            ],
            "type": "surface"
           }
          ],
          "table": [
           {
            "cells": {
             "fill": {
              "color": "#EBF0F8"
             },
             "line": {
              "color": "white"
             }
            },
            "header": {
             "fill": {
              "color": "#C8D4E3"
             },
             "line": {
              "color": "white"
             }
            },
            "type": "table"
           }
          ]
         },
         "layout": {
          "annotationdefaults": {
           "arrowcolor": "#2a3f5f",
           "arrowhead": 0,
           "arrowwidth": 1
          },
          "autotypenumbers": "strict",
          "coloraxis": {
           "colorbar": {
            "outlinewidth": 0,
            "ticks": ""
           }
          },
          "colorscale": {
           "diverging": [
            [
             0,
             "#8e0152"
            ],
            [
             0.1,
             "#c51b7d"
            ],
            [
             0.2,
             "#de77ae"
            ],
            [
             0.3,
             "#f1b6da"
            ],
            [
             0.4,
             "#fde0ef"
            ],
            [
             0.5,
             "#f7f7f7"
            ],
            [
             0.6,
             "#e6f5d0"
            ],
            [
             0.7,
             "#b8e186"
            ],
            [
             0.8,
             "#7fbc41"
            ],
            [
             0.9,
             "#4d9221"
            ],
            [
             1,
             "#276419"
            ]
           ],
           "sequential": [
            [
             0,
             "#0d0887"
            ],
            [
             0.1111111111111111,
             "#46039f"
            ],
            [
             0.2222222222222222,
             "#7201a8"
            ],
            [
             0.3333333333333333,
             "#9c179e"
            ],
            [
             0.4444444444444444,
             "#bd3786"
            ],
            [
             0.5555555555555556,
             "#d8576b"
            ],
            [
             0.6666666666666666,
             "#ed7953"
            ],
            [
             0.7777777777777778,
             "#fb9f3a"
            ],
            [
             0.8888888888888888,
             "#fdca26"
            ],
            [
             1,
             "#f0f921"
            ]
           ],
           "sequentialminus": [
            [
             0,
             "#0d0887"
            ],
            [
             0.1111111111111111,
             "#46039f"
            ],
            [
             0.2222222222222222,
             "#7201a8"
            ],
            [
             0.3333333333333333,
             "#9c179e"
            ],
            [
             0.4444444444444444,
             "#bd3786"
            ],
            [
             0.5555555555555556,
             "#d8576b"
            ],
            [
             0.6666666666666666,
             "#ed7953"
            ],
            [
             0.7777777777777778,
             "#fb9f3a"
            ],
            [
             0.8888888888888888,
             "#fdca26"
            ],
            [
             1,
             "#f0f921"
            ]
           ]
          },
          "colorway": [
           "#636efa",
           "#EF553B",
           "#00cc96",
           "#ab63fa",
           "#FFA15A",
           "#19d3f3",
           "#FF6692",
           "#B6E880",
           "#FF97FF",
           "#FECB52"
          ],
          "font": {
           "color": "#2a3f5f"
          },
          "geo": {
           "bgcolor": "white",
           "lakecolor": "white",
           "landcolor": "#E5ECF6",
           "showlakes": true,
           "showland": true,
           "subunitcolor": "white"
          },
          "hoverlabel": {
           "align": "left"
          },
          "hovermode": "closest",
          "mapbox": {
           "style": "light"
          },
          "paper_bgcolor": "white",
          "plot_bgcolor": "#E5ECF6",
          "polar": {
           "angularaxis": {
            "gridcolor": "white",
            "linecolor": "white",
            "ticks": ""
           },
           "bgcolor": "#E5ECF6",
           "radialaxis": {
            "gridcolor": "white",
            "linecolor": "white",
            "ticks": ""
           }
          },
          "scene": {
           "xaxis": {
            "backgroundcolor": "#E5ECF6",
            "gridcolor": "white",
            "gridwidth": 2,
            "linecolor": "white",
            "showbackground": true,
            "ticks": "",
            "zerolinecolor": "white"
           },
           "yaxis": {
            "backgroundcolor": "#E5ECF6",
            "gridcolor": "white",
            "gridwidth": 2,
            "linecolor": "white",
            "showbackground": true,
            "ticks": "",
            "zerolinecolor": "white"
           },
           "zaxis": {
            "backgroundcolor": "#E5ECF6",
            "gridcolor": "white",
            "gridwidth": 2,
            "linecolor": "white",
            "showbackground": true,
            "ticks": "",
            "zerolinecolor": "white"
           }
          },
          "shapedefaults": {
           "line": {
            "color": "#2a3f5f"
           }
          },
          "ternary": {
           "aaxis": {
            "gridcolor": "white",
            "linecolor": "white",
            "ticks": ""
           },
           "baxis": {
            "gridcolor": "white",
            "linecolor": "white",
            "ticks": ""
           },
           "bgcolor": "#E5ECF6",
           "caxis": {
            "gridcolor": "white",
            "linecolor": "white",
            "ticks": ""
           }
          },
          "title": {
           "x": 0.05
          },
          "xaxis": {
           "automargin": true,
           "gridcolor": "white",
           "linecolor": "white",
           "ticks": "",
           "title": {
            "standoff": 15
           },
           "zerolinecolor": "white",
           "zerolinewidth": 2
          },
          "yaxis": {
           "automargin": true,
           "gridcolor": "white",
           "linecolor": "white",
           "ticks": "",
           "title": {
            "standoff": 15
           },
           "zerolinecolor": "white",
           "zerolinewidth": 2
          }
         }
        },
        "title": {
         "text": "Pourcentage de valeurs non nulles par colonne"
        },
        "xaxis": {
         "anchor": "y",
         "domain": [
          0,
          1
         ],
         "tickangle": 45,
         "tickmode": "array",
         "title": {
          "text": "Colonnes"
         }
        },
        "yaxis": {
         "anchor": "x",
         "domain": [
          0,
          1
         ],
         "title": {
          "text": "Pourcentage"
         }
        }
       }
      },
      "text/html": [
       "<div>                            <div id=\"b24f0328-9edd-46f3-8ad0-29266cd8632a\" class=\"plotly-graph-div\" style=\"height:525px; width:100%;\"></div>            <script type=\"text/javascript\">                require([\"plotly\"], function(Plotly) {                    window.PLOTLYENV=window.PLOTLYENV || {};                                    if (document.getElementById(\"b24f0328-9edd-46f3-8ad0-29266cd8632a\")) {                    Plotly.newPlot(                        \"b24f0328-9edd-46f3-8ad0-29266cd8632a\",                        [{\"alignmentgroup\":\"True\",\"hovertemplate\":\"Colonnes=%{x}<br>Pourcentage=%{y}<br>color=%{marker.color}<extra></extra>\",\"legendgroup\":\"\",\"marker\":{\"color\":[100.0,100.0,100.0,100.0,100.0,100.0,100.0,100.0,100.0,100.0,100.0,100.0,100.0,100.0,100.0,100.0,100.0,82.7,73.1,51.8,26.0],\"coloraxis\":\"coloraxis\",\"pattern\":{\"shape\":\"\"}},\"name\":\"\",\"offsetgroup\":\"\",\"orientation\":\"v\",\"showlegend\":false,\"textposition\":\"auto\",\"x\":[\"product_name\",\"fiber_100g\",\"nutrition-score-fr_100g\",\"iron_100g\",\"calcium_100g\",\"vitamin-c_100g\",\"vitamin-a_100g\",\"salt_100g\",\"proteins_100g\",\"sugars_100g\",\"carbohydrates_100g\",\"cholesterol_100g\",\"trans-fat_100g\",\"saturated-fat_100g\",\"fat_100g\",\"energy_100g\",\"additives_n\",\"ingredients_text\",\"nutrition_grade_fr\",\"additives_fr\",\"main_category_fr\"],\"xaxis\":\"x\",\"y\":[100.0,100.0,100.0,100.0,100.0,100.0,100.0,100.0,100.0,100.0,100.0,100.0,100.0,100.0,100.0,100.0,100.0,82.7,73.1,51.8,26.0],\"yaxis\":\"y\",\"type\":\"bar\"}],                        {\"template\":{\"data\":{\"histogram2dcontour\":[{\"type\":\"histogram2dcontour\",\"colorbar\":{\"outlinewidth\":0,\"ticks\":\"\"},\"colorscale\":[[0.0,\"#0d0887\"],[0.1111111111111111,\"#46039f\"],[0.2222222222222222,\"#7201a8\"],[0.3333333333333333,\"#9c179e\"],[0.4444444444444444,\"#bd3786\"],[0.5555555555555556,\"#d8576b\"],[0.6666666666666666,\"#ed7953\"],[0.7777777777777778,\"#fb9f3a\"],[0.8888888888888888,\"#fdca26\"],[1.0,\"#f0f921\"]]}],\"choropleth\":[{\"type\":\"choropleth\",\"colorbar\":{\"outlinewidth\":0,\"ticks\":\"\"}}],\"histogram2d\":[{\"type\":\"histogram2d\",\"colorbar\":{\"outlinewidth\":0,\"ticks\":\"\"},\"colorscale\":[[0.0,\"#0d0887\"],[0.1111111111111111,\"#46039f\"],[0.2222222222222222,\"#7201a8\"],[0.3333333333333333,\"#9c179e\"],[0.4444444444444444,\"#bd3786\"],[0.5555555555555556,\"#d8576b\"],[0.6666666666666666,\"#ed7953\"],[0.7777777777777778,\"#fb9f3a\"],[0.8888888888888888,\"#fdca26\"],[1.0,\"#f0f921\"]]}],\"heatmap\":[{\"type\":\"heatmap\",\"colorbar\":{\"outlinewidth\":0,\"ticks\":\"\"},\"colorscale\":[[0.0,\"#0d0887\"],[0.1111111111111111,\"#46039f\"],[0.2222222222222222,\"#7201a8\"],[0.3333333333333333,\"#9c179e\"],[0.4444444444444444,\"#bd3786\"],[0.5555555555555556,\"#d8576b\"],[0.6666666666666666,\"#ed7953\"],[0.7777777777777778,\"#fb9f3a\"],[0.8888888888888888,\"#fdca26\"],[1.0,\"#f0f921\"]]}],\"heatmapgl\":[{\"type\":\"heatmapgl\",\"colorbar\":{\"outlinewidth\":0,\"ticks\":\"\"},\"colorscale\":[[0.0,\"#0d0887\"],[0.1111111111111111,\"#46039f\"],[0.2222222222222222,\"#7201a8\"],[0.3333333333333333,\"#9c179e\"],[0.4444444444444444,\"#bd3786\"],[0.5555555555555556,\"#d8576b\"],[0.6666666666666666,\"#ed7953\"],[0.7777777777777778,\"#fb9f3a\"],[0.8888888888888888,\"#fdca26\"],[1.0,\"#f0f921\"]]}],\"contourcarpet\":[{\"type\":\"contourcarpet\",\"colorbar\":{\"outlinewidth\":0,\"ticks\":\"\"}}],\"contour\":[{\"type\":\"contour\",\"colorbar\":{\"outlinewidth\":0,\"ticks\":\"\"},\"colorscale\":[[0.0,\"#0d0887\"],[0.1111111111111111,\"#46039f\"],[0.2222222222222222,\"#7201a8\"],[0.3333333333333333,\"#9c179e\"],[0.4444444444444444,\"#bd3786\"],[0.5555555555555556,\"#d8576b\"],[0.6666666666666666,\"#ed7953\"],[0.7777777777777778,\"#fb9f3a\"],[0.8888888888888888,\"#fdca26\"],[1.0,\"#f0f921\"]]}],\"surface\":[{\"type\":\"surface\",\"colorbar\":{\"outlinewidth\":0,\"ticks\":\"\"},\"colorscale\":[[0.0,\"#0d0887\"],[0.1111111111111111,\"#46039f\"],[0.2222222222222222,\"#7201a8\"],[0.3333333333333333,\"#9c179e\"],[0.4444444444444444,\"#bd3786\"],[0.5555555555555556,\"#d8576b\"],[0.6666666666666666,\"#ed7953\"],[0.7777777777777778,\"#fb9f3a\"],[0.8888888888888888,\"#fdca26\"],[1.0,\"#f0f921\"]]}],\"mesh3d\":[{\"type\":\"mesh3d\",\"colorbar\":{\"outlinewidth\":0,\"ticks\":\"\"}}],\"scatter\":[{\"fillpattern\":{\"fillmode\":\"overlay\",\"size\":10,\"solidity\":0.2},\"type\":\"scatter\"}],\"parcoords\":[{\"type\":\"parcoords\",\"line\":{\"colorbar\":{\"outlinewidth\":0,\"ticks\":\"\"}}}],\"scatterpolargl\":[{\"type\":\"scatterpolargl\",\"marker\":{\"colorbar\":{\"outlinewidth\":0,\"ticks\":\"\"}}}],\"bar\":[{\"error_x\":{\"color\":\"#2a3f5f\"},\"error_y\":{\"color\":\"#2a3f5f\"},\"marker\":{\"line\":{\"color\":\"#E5ECF6\",\"width\":0.5},\"pattern\":{\"fillmode\":\"overlay\",\"size\":10,\"solidity\":0.2}},\"type\":\"bar\"}],\"scattergeo\":[{\"type\":\"scattergeo\",\"marker\":{\"colorbar\":{\"outlinewidth\":0,\"ticks\":\"\"}}}],\"scatterpolar\":[{\"type\":\"scatterpolar\",\"marker\":{\"colorbar\":{\"outlinewidth\":0,\"ticks\":\"\"}}}],\"histogram\":[{\"marker\":{\"pattern\":{\"fillmode\":\"overlay\",\"size\":10,\"solidity\":0.2}},\"type\":\"histogram\"}],\"scattergl\":[{\"type\":\"scattergl\",\"marker\":{\"colorbar\":{\"outlinewidth\":0,\"ticks\":\"\"}}}],\"scatter3d\":[{\"type\":\"scatter3d\",\"line\":{\"colorbar\":{\"outlinewidth\":0,\"ticks\":\"\"}},\"marker\":{\"colorbar\":{\"outlinewidth\":0,\"ticks\":\"\"}}}],\"scattermapbox\":[{\"type\":\"scattermapbox\",\"marker\":{\"colorbar\":{\"outlinewidth\":0,\"ticks\":\"\"}}}],\"scatterternary\":[{\"type\":\"scatterternary\",\"marker\":{\"colorbar\":{\"outlinewidth\":0,\"ticks\":\"\"}}}],\"scattercarpet\":[{\"type\":\"scattercarpet\",\"marker\":{\"colorbar\":{\"outlinewidth\":0,\"ticks\":\"\"}}}],\"carpet\":[{\"aaxis\":{\"endlinecolor\":\"#2a3f5f\",\"gridcolor\":\"white\",\"linecolor\":\"white\",\"minorgridcolor\":\"white\",\"startlinecolor\":\"#2a3f5f\"},\"baxis\":{\"endlinecolor\":\"#2a3f5f\",\"gridcolor\":\"white\",\"linecolor\":\"white\",\"minorgridcolor\":\"white\",\"startlinecolor\":\"#2a3f5f\"},\"type\":\"carpet\"}],\"table\":[{\"cells\":{\"fill\":{\"color\":\"#EBF0F8\"},\"line\":{\"color\":\"white\"}},\"header\":{\"fill\":{\"color\":\"#C8D4E3\"},\"line\":{\"color\":\"white\"}},\"type\":\"table\"}],\"barpolar\":[{\"marker\":{\"line\":{\"color\":\"#E5ECF6\",\"width\":0.5},\"pattern\":{\"fillmode\":\"overlay\",\"size\":10,\"solidity\":0.2}},\"type\":\"barpolar\"}],\"pie\":[{\"automargin\":true,\"type\":\"pie\"}]},\"layout\":{\"autotypenumbers\":\"strict\",\"colorway\":[\"#636efa\",\"#EF553B\",\"#00cc96\",\"#ab63fa\",\"#FFA15A\",\"#19d3f3\",\"#FF6692\",\"#B6E880\",\"#FF97FF\",\"#FECB52\"],\"font\":{\"color\":\"#2a3f5f\"},\"hovermode\":\"closest\",\"hoverlabel\":{\"align\":\"left\"},\"paper_bgcolor\":\"white\",\"plot_bgcolor\":\"#E5ECF6\",\"polar\":{\"bgcolor\":\"#E5ECF6\",\"angularaxis\":{\"gridcolor\":\"white\",\"linecolor\":\"white\",\"ticks\":\"\"},\"radialaxis\":{\"gridcolor\":\"white\",\"linecolor\":\"white\",\"ticks\":\"\"}},\"ternary\":{\"bgcolor\":\"#E5ECF6\",\"aaxis\":{\"gridcolor\":\"white\",\"linecolor\":\"white\",\"ticks\":\"\"},\"baxis\":{\"gridcolor\":\"white\",\"linecolor\":\"white\",\"ticks\":\"\"},\"caxis\":{\"gridcolor\":\"white\",\"linecolor\":\"white\",\"ticks\":\"\"}},\"coloraxis\":{\"colorbar\":{\"outlinewidth\":0,\"ticks\":\"\"}},\"colorscale\":{\"sequential\":[[0.0,\"#0d0887\"],[0.1111111111111111,\"#46039f\"],[0.2222222222222222,\"#7201a8\"],[0.3333333333333333,\"#9c179e\"],[0.4444444444444444,\"#bd3786\"],[0.5555555555555556,\"#d8576b\"],[0.6666666666666666,\"#ed7953\"],[0.7777777777777778,\"#fb9f3a\"],[0.8888888888888888,\"#fdca26\"],[1.0,\"#f0f921\"]],\"sequentialminus\":[[0.0,\"#0d0887\"],[0.1111111111111111,\"#46039f\"],[0.2222222222222222,\"#7201a8\"],[0.3333333333333333,\"#9c179e\"],[0.4444444444444444,\"#bd3786\"],[0.5555555555555556,\"#d8576b\"],[0.6666666666666666,\"#ed7953\"],[0.7777777777777778,\"#fb9f3a\"],[0.8888888888888888,\"#fdca26\"],[1.0,\"#f0f921\"]],\"diverging\":[[0,\"#8e0152\"],[0.1,\"#c51b7d\"],[0.2,\"#de77ae\"],[0.3,\"#f1b6da\"],[0.4,\"#fde0ef\"],[0.5,\"#f7f7f7\"],[0.6,\"#e6f5d0\"],[0.7,\"#b8e186\"],[0.8,\"#7fbc41\"],[0.9,\"#4d9221\"],[1,\"#276419\"]]},\"xaxis\":{\"gridcolor\":\"white\",\"linecolor\":\"white\",\"ticks\":\"\",\"title\":{\"standoff\":15},\"zerolinecolor\":\"white\",\"automargin\":true,\"zerolinewidth\":2},\"yaxis\":{\"gridcolor\":\"white\",\"linecolor\":\"white\",\"ticks\":\"\",\"title\":{\"standoff\":15},\"zerolinecolor\":\"white\",\"automargin\":true,\"zerolinewidth\":2},\"scene\":{\"xaxis\":{\"backgroundcolor\":\"#E5ECF6\",\"gridcolor\":\"white\",\"linecolor\":\"white\",\"showbackground\":true,\"ticks\":\"\",\"zerolinecolor\":\"white\",\"gridwidth\":2},\"yaxis\":{\"backgroundcolor\":\"#E5ECF6\",\"gridcolor\":\"white\",\"linecolor\":\"white\",\"showbackground\":true,\"ticks\":\"\",\"zerolinecolor\":\"white\",\"gridwidth\":2},\"zaxis\":{\"backgroundcolor\":\"#E5ECF6\",\"gridcolor\":\"white\",\"linecolor\":\"white\",\"showbackground\":true,\"ticks\":\"\",\"zerolinecolor\":\"white\",\"gridwidth\":2}},\"shapedefaults\":{\"line\":{\"color\":\"#2a3f5f\"}},\"annotationdefaults\":{\"arrowcolor\":\"#2a3f5f\",\"arrowhead\":0,\"arrowwidth\":1},\"geo\":{\"bgcolor\":\"white\",\"landcolor\":\"#E5ECF6\",\"subunitcolor\":\"white\",\"showland\":true,\"showlakes\":true,\"lakecolor\":\"white\"},\"title\":{\"x\":0.05},\"mapbox\":{\"style\":\"light\"}}},\"xaxis\":{\"anchor\":\"y\",\"domain\":[0.0,1.0],\"title\":{\"text\":\"Colonnes\"},\"tickangle\":45,\"tickmode\":\"array\"},\"yaxis\":{\"anchor\":\"x\",\"domain\":[0.0,1.0],\"title\":{\"text\":\"Pourcentage\"}},\"coloraxis\":{\"colorbar\":{\"title\":{\"text\":\"color\"}},\"colorscale\":[[0.0,\"rgb(247,251,255)\"],[0.125,\"rgb(222,235,247)\"],[0.25,\"rgb(198,219,239)\"],[0.375,\"rgb(158,202,225)\"],[0.5,\"rgb(107,174,214)\"],[0.625,\"rgb(66,146,198)\"],[0.75,\"rgb(33,113,181)\"],[0.875,\"rgb(8,81,156)\"],[1.0,\"rgb(8,48,107)\"]]},\"legend\":{\"tracegroupgap\":0},\"title\":{\"text\":\"Pourcentage de valeurs non nulles par colonne\"},\"barmode\":\"relative\"},                        {\"responsive\": true}                    ).then(function(){\n",
       "                            \n",
       "var gd = document.getElementById('b24f0328-9edd-46f3-8ad0-29266cd8632a');\n",
       "var x = new MutationObserver(function (mutations, observer) {{\n",
       "        var display = window.getComputedStyle(gd).display;\n",
       "        if (!display || display === 'none') {{\n",
       "            console.log([gd, 'removed!']);\n",
       "            Plotly.purge(gd);\n",
       "            observer.disconnect();\n",
       "        }}\n",
       "}});\n",
       "\n",
       "// Listen for the removal of the full notebook cells\n",
       "var notebookContainer = gd.closest('#notebook-container');\n",
       "if (notebookContainer) {{\n",
       "    x.observe(notebookContainer, {childList: true});\n",
       "}}\n",
       "\n",
       "// Listen for the clearing of the current output cell\n",
       "var outputEl = gd.closest('.output');\n",
       "if (outputEl) {{\n",
       "    x.observe(outputEl, {childList: true});\n",
       "}}\n",
       "\n",
       "                        })                };                });            </script>        </div>"
      ]
     },
     "metadata": {},
     "output_type": "display_data"
    }
   ],
   "source": [
    "valeurNullesGraph(df_2)"
   ]
  },
  {
   "cell_type": "markdown",
   "id": "8b8ac350",
   "metadata": {},
   "source": [
    "### Valeurs catégorielles"
   ]
  },
  {
   "cell_type": "code",
   "execution_count": null,
   "id": "89640af3",
   "metadata": {},
   "outputs": [],
   "source": []
  },
  {
   "cell_type": "code",
   "execution_count": null,
   "id": "f05017e8",
   "metadata": {},
   "outputs": [],
   "source": []
  },
  {
   "cell_type": "markdown",
   "id": "a67e1f51",
   "metadata": {},
   "source": [
    "## Gestion des valeurs aberrantes"
   ]
  },
  {
   "cell_type": "markdown",
   "id": "33177f2b",
   "metadata": {},
   "source": [
    "# Nettoyage des données automatisé"
   ]
  },
  {
   "cell_type": "code",
   "execution_count": null,
   "id": "92e68b56",
   "metadata": {},
   "outputs": [],
   "source": []
  }
 ],
 "metadata": {
  "kernelspec": {
   "display_name": "Python 3 (ipykernel)",
   "language": "python",
   "name": "python3"
  },
  "language_info": {
   "codemirror_mode": {
    "name": "ipython",
    "version": 3
   },
   "file_extension": ".py",
   "mimetype": "text/x-python",
   "name": "python",
   "nbconvert_exporter": "python",
   "pygments_lexer": "ipython3",
   "version": "3.11.5"
  },
  "toc": {
   "base_numbering": 1,
   "nav_menu": {},
   "number_sections": true,
   "sideBar": true,
   "skip_h1_title": false,
   "title_cell": "Table des matières",
   "title_sidebar": "Table des matières",
   "toc_cell": false,
   "toc_position": {
    "height": "calc(100% - 180px)",
    "left": "10px",
    "top": "150px",
    "width": "264px"
   },
   "toc_section_display": true,
   "toc_window_display": true
  }
 },
 "nbformat": 4,
 "nbformat_minor": 5
}
