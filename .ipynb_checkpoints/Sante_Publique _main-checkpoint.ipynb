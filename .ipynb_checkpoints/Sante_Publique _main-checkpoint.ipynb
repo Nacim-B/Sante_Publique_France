{
 "cells": [
  {
   "cell_type": "markdown",
   "id": "115f22bd",
   "metadata": {},
   "source": [
    "# Nettoyage des données"
   ]
  },
  {
   "cell_type": "code",
   "execution_count": 70,
   "id": "2247860b",
   "metadata": {},
   "outputs": [],
   "source": [
    "#fonction qui import toutes les librairies nécessaires \n",
    "\n",
    "def import_librairies():\n",
    "    import pandas as pd\n",
    "    import numpy as np\n",
    "    import seaborn as sns\n",
    "    import matplotlib.pyplot as plt\n",
    "    import plotly.express as px"
   ]
  },
  {
   "cell_type": "code",
   "execution_count": 71,
   "id": "f42f600a",
   "metadata": {},
   "outputs": [],
   "source": [
    "#fonction qui importe un fichier csv et renvoie un dataframe\n",
    "\n",
    "def importer_csv(nom_fichier, chemin):\n",
    "    chemin_complet = chemin  + nom_fichier \n",
    "    dataframe = pd.read_csv(chemin_complet, sep='\\t')\n",
    "    return dataframe"
   ]
  },
  {
   "cell_type": "code",
   "execution_count": 72,
   "id": "257e693a",
   "metadata": {},
   "outputs": [],
   "source": [
    "#fonction qui supprime les colonnes vides et des lignes doublons\n",
    "\n",
    "def supprimer_col_vides_doublons(df):\n",
    "    df.dropna(axis=1, how='all', inplace=True)\n",
    "    df.drop_duplicates()\n",
    "    \n",
    "    return df"
   ]
  },
  {
   "cell_type": "code",
   "execution_count": 73,
   "id": "947d429a",
   "metadata": {},
   "outputs": [],
   "source": [
    "def suppression_col_correlees(df, seuil_correlation):\n",
    "    #création d'un dataframe quantitatif\n",
    "    df_quantitatif = pd.DataFrame()\n",
    "\n",
    "    for colonne in df.columns:\n",
    "        if pd.api.types.is_numeric_dtype(df[colonne]):\n",
    "            df_quantitatif[colonne] = df[colonne]\n",
    "            \n",
    "    # Calculer la matrice de corrélation\n",
    "    matrice_correlation = df_quantitatif.corr()\n",
    "\n",
    "    # Identifier les paires de colonnes corrélées\n",
    "    colonnes_correlees = set()\n",
    "    for i in range(len(matrice_correlation.columns)):\n",
    "        for j in range(i):\n",
    "            if abs(matrice_correlation.iloc[i, j]) >= seuil_correlation:\n",
    "                colonne_i = matrice_correlation.columns[i]\n",
    "                colonne_j = matrice_correlation.columns[j]\n",
    "                colonnes_correlees.add((colonne_i, colonne_j))\n",
    "\n",
    "     # Supprimer la première colonne de chaque paire corrélée\n",
    "    for colonne1, colonne2 in colonnes_correlees:\n",
    "        df.drop(columns=colonne1, inplace=True)\n",
    "    \n",
    "    return df"
   ]
  },
  {
   "cell_type": "code",
   "execution_count": 74,
   "id": "d8ef710f",
   "metadata": {},
   "outputs": [],
   "source": [
    "#fonction qui ne garde que les colonnes pertinentes\n",
    "\n",
    "def selection_colonnes(df):\n",
    "    #creation de la liste des variables, on y insérant des variables utiles vis à vis de l'analyse\n",
    "    variables = ['product_name', 'brands','pnns_group_1', 'pnns_group_2', 'main_category_fr', 'nutrition_grade_fr']\n",
    "    \n",
    "    #liste de toutes les colonnes en rapport avec les valeurs nutritionnelles\n",
    "    val_nutri = [col for col in df.columns if col.endswith('_100g')]\n",
    "    \n",
    "    #suppression de l'empreinte carbone qui n'affecte pas la valeur nutritionelle, ainsi que le nutriscore UK\n",
    "    try:\n",
    "        val_nutri.remove('carbon-footprint_100g')\n",
    "    except KeyError:\n",
    "        print('colonne inexistente')\n",
    "    try:\n",
    "        val_nutri.remove('nutrition-score-uk_100g')\n",
    "    except KeyError:\n",
    "        print('colonne inexistente')\n",
    "        \n",
    "    variables = variables + val_nutri\n",
    "    \n",
    "    #ne garder que ces variables dans le dataframe\n",
    "    df = df[variables]\n",
    "    \n",
    "    #liste des colonnes avec +60% de valeurs nulles\n",
    "    colonnes_a_supprimer = df.columns[round(df.isna().mean()*100,1)> 60]\n",
    "    \n",
    "    #suppression de ces colonnes vides ou presque\n",
    "    df = df.drop(columns=colonnes_a_supprimer)\n",
    "    \n",
    "    #suppression d'une colonne si +0.85 de corrélation avec une autre\n",
    "    df = suppression_col_correlees(df, 0.85)\n",
    "    \n",
    "    return df\n",
    "\n"
   ]
  },
  {
   "cell_type": "code",
   "execution_count": 76,
   "id": "6c916963",
   "metadata": {},
   "outputs": [],
   "source": [
    "def remplacer_na_100g_mediane(df, liste_colonnes):\n",
    "    \n",
    "    myDict =  {i: df[liste_colonnes][df['main_category_fr'] == i].mean() for i in df['main_category_fr'].unique()}\n",
    "    \n",
    "    for i in df4['main_category_fr'].unique():\n",
    "        df.loc[df['main_category_fr']== i, liste_colonnes] = \n",
    "        df[df['main_category_fr']== i ][liste_colonnes].fillna(df[df['main_category_fr'] == i][liste_colonnes].median()) \n",
    "    \n",
    "    return df"
   ]
  },
  {
   "cell_type": "code",
   "execution_count": 77,
   "id": "a9780678",
   "metadata": {},
   "outputs": [],
   "source": [
    "def gerer_valeurs_manquantes(df):\n",
    "    \n",
    "    #suppression des lignes où le nom du produit n'est pas renseigné\n",
    "    df = df.dropna(subset=['product_name'])\n",
    "    \n",
    "    col_100g = [col for col in df.columns if col.endswith('_100g')]\n",
    "    \n",
    "    #remplacer des Nan par le mode de la colonne\n",
    "    df = remplacer_na_mode(df, numeriques_moins_50)\n",
    "    \n",
    "    #remplacer des Nan par la médiane de la colonne\n",
    "    df = remplacer_na_mediane(df, numeriques_plus_50)\n",
    "    \n",
    "    return df"
   ]
  },
  {
   "cell_type": "code",
   "execution_count": 78,
   "id": "c7a024c0",
   "metadata": {},
   "outputs": [],
   "source": [
    "def valeurs_aberrantes(df):\n",
    "    df = df[(df['nutrition-score-fr_100g'] >= -15) & (df['nutrition-score-fr_100g'] <= 40)]\n",
    "    \n",
    "    df = df[(df['energy_100g'] < 4000)]\n",
    "    \n",
    "    # Sélectionner les colonnes finissant par \"100g\" sauf \"energy_100g\"\n",
    "    colonnes_a_selectionner = [col for col in df.columns if col.endswith('100g') and col != 'energy_100g' \n",
    "                               and col != 'nutrition-score-fr_100g']\n",
    "    \n",
    "    df_val_nutri = df[colonnes_a_selectionner]\n",
    "    \n",
    "    mask = ((df_val_nutri > 100) | (df_val_nutri < 0)).any(axis=1)\n",
    "    \n",
    "    df.drop(index=df[mask].index, inplace=True)\n",
    "    return df"
   ]
  },
  {
   "cell_type": "code",
   "execution_count": 82,
   "id": "da4942df",
   "metadata": {},
   "outputs": [],
   "source": [
    "#défnition variables\n",
    "\n",
    "chemin = ''\n",
    "fichier = 'fr.openfoodfacts.org.products.csv'\n",
    "nom_csv_export = 'sante_publique.csv'"
   ]
  },
  {
   "cell_type": "code",
   "execution_count": 83,
   "id": "2f789d3a",
   "metadata": {},
   "outputs": [],
   "source": [
    "def main():\n",
    "    import_librairies()\n",
    "    df = importer_csv(fichier, chemin)\n",
    "    df = supprimer_col_vides_doublons(df)\n",
    "    df = selection_colonnes(df)\n",
    "    df = gerer_valeurs_manquantes(df)\n",
    "    df = valeurs_aberrantes(df)\n",
    "    print(df.shape)\n",
    "    \n",
    "    # Exporter le DataFrame dans un fichier CSV\n",
    "    df.to_csv(chemin + nom_csv_export, index=False)"
   ]
  },
  {
   "cell_type": "markdown",
   "id": "2c78c535",
   "metadata": {},
   "source": [
    "## Main"
   ]
  },
  {
   "cell_type": "code",
   "execution_count": 84,
   "id": "2f606b57",
   "metadata": {},
   "outputs": [
    {
     "name": "stderr",
     "output_type": "stream",
     "text": [
      "/var/folders/f7/1t0gd_nj48d85_3rv7fqxdbh0000gn/T/ipykernel_14528/2794888612.py:5: DtypeWarning:\n",
      "\n",
      "Columns (0,3,5,19,20,24,25,26,27,28,35,36,37,38,39,48) have mixed types. Specify dtype option on import or set low_memory=False.\n",
      "\n",
      "/var/folders/f7/1t0gd_nj48d85_3rv7fqxdbh0000gn/T/ipykernel_14528/143614370.py:4: SettingWithCopyWarning:\n",
      "\n",
      "\n",
      "A value is trying to be set on a copy of a slice from a DataFrame.\n",
      "Try using .loc[row_indexer,col_indexer] = value instead\n",
      "\n",
      "See the caveats in the documentation: https://pandas.pydata.org/pandas-docs/stable/user_guide/indexing.html#returning-a-view-versus-a-copy\n",
      "\n"
     ]
    },
    {
     "name": "stdout",
     "output_type": "stream",
     "text": [
      "(302648, 16)\n"
     ]
    }
   ],
   "source": [
    "main()"
   ]
  },
  {
   "cell_type": "markdown",
   "id": "90a6925f",
   "metadata": {},
   "source": [
    "# Analyse"
   ]
  },
  {
   "cell_type": "code",
   "execution_count": 17,
   "id": "09ebe8e0",
   "metadata": {},
   "outputs": [],
   "source": [
    "import_librairies()"
   ]
  },
  {
   "cell_type": "code",
   "execution_count": 18,
   "id": "3eeefd00",
   "metadata": {},
   "outputs": [],
   "source": [
    "data = pd.read_csv('sante_publique.csv', sep=\",\")"
   ]
  },
  {
   "cell_type": "code",
   "execution_count": 19,
   "id": "fd35d9f4",
   "metadata": {},
   "outputs": [
    {
     "data": {
      "text/html": [
       "<div>\n",
       "<style scoped>\n",
       "    .dataframe tbody tr th:only-of-type {\n",
       "        vertical-align: middle;\n",
       "    }\n",
       "\n",
       "    .dataframe tbody tr th {\n",
       "        vertical-align: top;\n",
       "    }\n",
       "\n",
       "    .dataframe thead th {\n",
       "        text-align: right;\n",
       "    }\n",
       "</style>\n",
       "<table border=\"1\" class=\"dataframe\">\n",
       "  <thead>\n",
       "    <tr style=\"text-align: right;\">\n",
       "      <th></th>\n",
       "      <th>product_name</th>\n",
       "      <th>energy_100g</th>\n",
       "      <th>fat_100g</th>\n",
       "      <th>saturated-fat_100g</th>\n",
       "      <th>trans-fat_100g</th>\n",
       "      <th>cholesterol_100g</th>\n",
       "      <th>carbohydrates_100g</th>\n",
       "      <th>sugars_100g</th>\n",
       "      <th>fiber_100g</th>\n",
       "      <th>proteins_100g</th>\n",
       "      <th>salt_100g</th>\n",
       "      <th>vitamin-a_100g</th>\n",
       "      <th>vitamin-c_100g</th>\n",
       "      <th>calcium_100g</th>\n",
       "      <th>iron_100g</th>\n",
       "      <th>nutrition-score-fr_100g</th>\n",
       "    </tr>\n",
       "  </thead>\n",
       "  <tbody>\n",
       "    <tr>\n",
       "      <th>0</th>\n",
       "      <td>Farine de blé noir</td>\n",
       "      <td>0.0</td>\n",
       "      <td>0.00</td>\n",
       "      <td>0.00</td>\n",
       "      <td>0.0</td>\n",
       "      <td>0.000</td>\n",
       "      <td>0.00</td>\n",
       "      <td>0.00</td>\n",
       "      <td>0.0</td>\n",
       "      <td>0.00</td>\n",
       "      <td>0.00000</td>\n",
       "      <td>0.0</td>\n",
       "      <td>0.0000</td>\n",
       "      <td>0.035</td>\n",
       "      <td>0.00101</td>\n",
       "      <td>0.0</td>\n",
       "    </tr>\n",
       "    <tr>\n",
       "      <th>1</th>\n",
       "      <td>Banana Chips Sweetened (Whole)</td>\n",
       "      <td>2243.0</td>\n",
       "      <td>28.57</td>\n",
       "      <td>28.57</td>\n",
       "      <td>0.0</td>\n",
       "      <td>0.018</td>\n",
       "      <td>64.29</td>\n",
       "      <td>14.29</td>\n",
       "      <td>3.6</td>\n",
       "      <td>3.57</td>\n",
       "      <td>0.00000</td>\n",
       "      <td>0.0</td>\n",
       "      <td>0.0214</td>\n",
       "      <td>0.000</td>\n",
       "      <td>0.00129</td>\n",
       "      <td>14.0</td>\n",
       "    </tr>\n",
       "    <tr>\n",
       "      <th>2</th>\n",
       "      <td>Peanuts</td>\n",
       "      <td>1941.0</td>\n",
       "      <td>17.86</td>\n",
       "      <td>0.00</td>\n",
       "      <td>0.0</td>\n",
       "      <td>0.000</td>\n",
       "      <td>60.71</td>\n",
       "      <td>17.86</td>\n",
       "      <td>7.1</td>\n",
       "      <td>17.86</td>\n",
       "      <td>0.63500</td>\n",
       "      <td>0.0</td>\n",
       "      <td>0.0000</td>\n",
       "      <td>0.071</td>\n",
       "      <td>0.00129</td>\n",
       "      <td>0.0</td>\n",
       "    </tr>\n",
       "    <tr>\n",
       "      <th>3</th>\n",
       "      <td>Organic Salted Nut Mix</td>\n",
       "      <td>2540.0</td>\n",
       "      <td>57.14</td>\n",
       "      <td>5.36</td>\n",
       "      <td>0.0</td>\n",
       "      <td>0.000</td>\n",
       "      <td>17.86</td>\n",
       "      <td>3.57</td>\n",
       "      <td>7.1</td>\n",
       "      <td>17.86</td>\n",
       "      <td>1.22428</td>\n",
       "      <td>0.0</td>\n",
       "      <td>0.0000</td>\n",
       "      <td>0.143</td>\n",
       "      <td>0.00514</td>\n",
       "      <td>12.0</td>\n",
       "    </tr>\n",
       "    <tr>\n",
       "      <th>4</th>\n",
       "      <td>Organic Polenta</td>\n",
       "      <td>1552.0</td>\n",
       "      <td>1.43</td>\n",
       "      <td>0.00</td>\n",
       "      <td>0.0</td>\n",
       "      <td>0.000</td>\n",
       "      <td>77.14</td>\n",
       "      <td>0.00</td>\n",
       "      <td>5.7</td>\n",
       "      <td>8.57</td>\n",
       "      <td>0.00000</td>\n",
       "      <td>0.0</td>\n",
       "      <td>0.0000</td>\n",
       "      <td>0.035</td>\n",
       "      <td>0.00101</td>\n",
       "      <td>0.0</td>\n",
       "    </tr>\n",
       "  </tbody>\n",
       "</table>\n",
       "</div>"
      ],
      "text/plain": [
       "                     product_name  energy_100g  fat_100g  saturated-fat_100g  \\\n",
       "0              Farine de blé noir          0.0      0.00                0.00   \n",
       "1  Banana Chips Sweetened (Whole)       2243.0     28.57               28.57   \n",
       "2                         Peanuts       1941.0     17.86                0.00   \n",
       "3          Organic Salted Nut Mix       2540.0     57.14                5.36   \n",
       "4                 Organic Polenta       1552.0      1.43                0.00   \n",
       "\n",
       "   trans-fat_100g  cholesterol_100g  carbohydrates_100g  sugars_100g  \\\n",
       "0             0.0             0.000                0.00         0.00   \n",
       "1             0.0             0.018               64.29        14.29   \n",
       "2             0.0             0.000               60.71        17.86   \n",
       "3             0.0             0.000               17.86         3.57   \n",
       "4             0.0             0.000               77.14         0.00   \n",
       "\n",
       "   fiber_100g  proteins_100g  salt_100g  vitamin-a_100g  vitamin-c_100g  \\\n",
       "0         0.0           0.00    0.00000             0.0          0.0000   \n",
       "1         3.6           3.57    0.00000             0.0          0.0214   \n",
       "2         7.1          17.86    0.63500             0.0          0.0000   \n",
       "3         7.1          17.86    1.22428             0.0          0.0000   \n",
       "4         5.7           8.57    0.00000             0.0          0.0000   \n",
       "\n",
       "   calcium_100g  iron_100g  nutrition-score-fr_100g  \n",
       "0         0.035    0.00101                      0.0  \n",
       "1         0.000    0.00129                     14.0  \n",
       "2         0.071    0.00129                      0.0  \n",
       "3         0.143    0.00514                     12.0  \n",
       "4         0.035    0.00101                      0.0  "
      ]
     },
     "execution_count": 19,
     "metadata": {},
     "output_type": "execute_result"
    }
   ],
   "source": [
    "data.head()"
   ]
  },
  {
   "cell_type": "code",
   "execution_count": 20,
   "id": "959bad54",
   "metadata": {},
   "outputs": [
    {
     "data": {
      "text/plain": [
       "(302648, 16)"
      ]
     },
     "execution_count": 20,
     "metadata": {},
     "output_type": "execute_result"
    }
   ],
   "source": [
    "data.shape"
   ]
  },
  {
   "cell_type": "code",
   "execution_count": null,
   "id": "7bf9bb1f",
   "metadata": {},
   "outputs": [],
   "source": [
    "myDict =  {i: df4[col_100g][df4['main_category_fr'] == i].mean() for i in df4['main_category_fr'].unique()}"
   ]
  },
  {
   "cell_type": "code",
   "execution_count": null,
   "id": "95c38bf8",
   "metadata": {},
   "outputs": [],
   "source": [
    "for i in df4['main_category_fr'].unique():\n",
    "    \n",
    "    df4.loc[df4['main_category_fr']== i, col_100g] = df4[df4['main_category_fr']== i ][col_100g].fillna(df4[df4['main_category_fr'] == i][col_100g].mean()) "
   ]
  },
  {
   "cell_type": "code",
   "execution_count": null,
   "id": "c91e540d",
   "metadata": {},
   "outputs": [],
   "source": []
  }
 ],
 "metadata": {
  "kernelspec": {
   "display_name": "Python 3 (ipykernel)",
   "language": "python",
   "name": "python3"
  },
  "language_info": {
   "codemirror_mode": {
    "name": "ipython",
    "version": 3
   },
   "file_extension": ".py",
   "mimetype": "text/x-python",
   "name": "python",
   "nbconvert_exporter": "python",
   "pygments_lexer": "ipython3",
   "version": "3.11.5"
  },
  "toc": {
   "base_numbering": 1,
   "nav_menu": {},
   "number_sections": true,
   "sideBar": true,
   "skip_h1_title": false,
   "title_cell": "Table des matières",
   "title_sidebar": "Table des matières",
   "toc_cell": false,
   "toc_position": {
    "height": "calc(100% - 180px)",
    "left": "10px",
    "top": "150px",
    "width": "165px"
   },
   "toc_section_display": true,
   "toc_window_display": true
  }
 },
 "nbformat": 4,
 "nbformat_minor": 5
}
